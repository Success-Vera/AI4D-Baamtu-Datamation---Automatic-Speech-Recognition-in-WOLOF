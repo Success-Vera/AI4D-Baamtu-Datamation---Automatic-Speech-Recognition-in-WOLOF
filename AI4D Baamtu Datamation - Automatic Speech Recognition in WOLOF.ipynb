{
 "cells": [
  {
   "cell_type": "markdown",
   "metadata": {},
   "source": [
    "## AI4D Baamtu Datamation - Automatic Speech Recognition in WOLOF"
   ]
  },
  {
   "cell_type": "code",
   "execution_count": 1,
   "metadata": {
    "colab": {
     "base_uri": "https://localhost:8080/"
    },
    "id": "29Sg5FrMpZ2u",
    "outputId": "ca5cf8f0-c418-4a8c-ac6e-91ec00d3798a"
   },
   "outputs": [],
   "source": [
    "# pip install wget"
   ]
  },
  {
   "cell_type": "code",
   "execution_count": 2,
   "metadata": {
    "colab": {
     "base_uri": "https://localhost:8080/"
    },
    "id": "Y4FUfNkWpkmq",
    "outputId": "7f2f21fd-154e-49eb-c74d-b823f99203c0"
   },
   "outputs": [],
   "source": [
    "# !pip install --upgrade transformers"
   ]
  },
  {
   "cell_type": "code",
   "execution_count": null,
   "metadata": {
    "id": "XJjgvx3GpJI6"
   },
   "outputs": [],
   "source": [
    "import glob\n",
    "import os\n",
    "import subprocess\n",
    "import tarfile\n",
    "import wget\n",
    "import pandas as pd\n",
    "import numpy as np\n",
    "import json\n",
    "import librosa\n",
    "import torch\n",
    "import IPython.display as display\n",
    "from transformers import Wav2Vec2ForCTC, Wav2Vec2Tokenizer,Wav2Vec2Processor,Wav2Vec2Model\n",
    "import warnings\n",
    "warnings.filterwarnings('ignore')"
   ]
  },
  {
   "cell_type": "code",
   "execution_count": null,
   "metadata": {
    "id": "N7tSRp3hpJJC"
   },
   "outputs": [],
   "source": [
    "train=pd.read_csv('WOLOF_Train.csv')\n",
    "test=pd.read_csv('WOLOF_Test.csv')\n",
    "submission=pd.read_csv('SampleSubmission.csv')"
   ]
  },
  {
   "cell_type": "code",
   "execution_count": null,
   "metadata": {
    "colab": {
     "base_uri": "https://localhost:8080/"
    },
    "id": "o1XtOZ7GpJJD",
    "outputId": "1ef063df-181f-485c-f3f9-b2e0de6b2a89"
   },
   "outputs": [
    {
     "data": {
      "text/plain": [
       "((1564, 5), (1564, 2), (6683, 6))"
      ]
     },
     "execution_count": 25,
     "metadata": {
      "tags": []
     },
     "output_type": "execute_result"
    }
   ],
   "source": [
    "test.shape,submission.shape,train.shape"
   ]
  },
  {
   "cell_type": "code",
   "execution_count": null,
   "metadata": {
    "colab": {
     "base_uri": "https://localhost:8080/"
    },
    "id": "E9WGCrxxpJJG",
    "outputId": "e6221161-5fcd-43d8-9c51-594cbc1e047a"
   },
   "outputs": [
    {
     "data": {
      "text/plain": [
       "10355"
      ]
     },
     "execution_count": 6,
     "metadata": {
      "tags": []
     },
     "output_type": "execute_result"
    }
   ],
   "source": [
    "data = []\n",
    "path='path_of_wav_audio_files' #The file should be in wav. If in mp3, it has to be converted\n",
    "\n",
    "for filename in os.listdir(path):\n",
    "    if filename.endswith(\"wav\"):\n",
    "      j=filename.split('.')[0]\n",
    "      data.append(j)\n",
    "len(data)"
   ]
  },
  {
   "cell_type": "code",
   "execution_count": null,
   "metadata": {
    "id": "xEE7H9GopJJH"
   },
   "outputs": [],
   "source": [
    "train_ids = set(list(train.ID.values))"
   ]
  },
  {
   "cell_type": "code",
   "execution_count": null,
   "metadata": {
    "id": "OswUSozOpJJH"
   },
   "outputs": [],
   "source": [
    "submission_ids = set(list(submission.ID.values))"
   ]
  },
  {
   "cell_type": "code",
   "execution_count": null,
   "metadata": {
    "colab": {
     "base_uri": "https://localhost:8080/"
    },
    "id": "5SO0mYH3pJJI",
    "outputId": "a53afc5d-98bc-43d5-c5d1-6541bfb88c00"
   },
   "outputs": [
    {
     "data": {
      "text/plain": [
       "3672"
      ]
     },
     "execution_count": 36,
     "metadata": {
      "tags": []
     },
     "output_type": "execute_result"
    }
   ],
   "source": [
    "test_submission = []\n",
    "for ids in data:\n",
    "    if ids not in train_ids:\n",
    "        test_submission.append(ids)\n",
    "len(test_submission)"
   ]
  },
  {
   "cell_type": "code",
   "execution_count": null,
   "metadata": {
    "colab": {
     "base_uri": "https://localhost:8080/"
    },
    "id": "nvIddoJ1r5bl",
    "outputId": "1c0debce-1f6d-4b50-da56-e3194a8e0455"
   },
   "outputs": [
    {
     "name": "stdout",
     "output_type": "stream",
     "text": [
      "Requirement already satisfied: SpeechRecognition in /usr/local/lib/python3.7/dist-packages (3.8.1)\n"
     ]
    }
   ],
   "source": [
    "# !pip install SpeechRecognition"
   ]
  },
  {
   "cell_type": "code",
   "execution_count": null,
   "metadata": {
    "colab": {
     "base_uri": "https://localhost:8080/",
     "height": 35
    },
    "id": "0FiXmuKqsnuR",
    "outputId": "0501bfb2-64ef-4338-885e-8cc0236be8af"
   },
   "outputs": [
    {
     "data": {
      "application/vnd.google.colaboratory.intrinsic+json": {
       "type": "string"
      },
      "text/plain": [
       "'3.8.1'"
      ]
     },
     "execution_count": 2,
     "metadata": {
      "tags": []
     },
     "output_type": "execute_result"
    }
   ],
   "source": [
    "import speech_recognition as sr\n",
    "sr.__version__"
   ]
  },
  {
   "cell_type": "code",
   "execution_count": null,
   "metadata": {
    "id": "GPZXS0wzsrm2"
   },
   "outputs": [],
   "source": [
    "r = sr.Recognizer()"
   ]
  },
  {
   "cell_type": "code",
   "execution_count": null,
   "metadata": {
    "id": "GcgeWBluIktD"
   },
   "outputs": [],
   "source": [
    "import numpy as np\n",
    "import matplotlib.pyplot as plt\n",
    "from scipy.io import wavfile\n",
    "from scipy.io import wavfile\n",
    "import pandas as pd\n",
    "from joblib import Parallel, delayed"
   ]
  },
  {
   "cell_type": "code",
   "execution_count": null,
   "metadata": {
    "id": "S2BweovXti7j"
   },
   "outputs": [],
   "source": [
    "r.recognize_google(audio)"
   ]
  },
  {
   "cell_type": "code",
   "execution_count": null,
   "metadata": {
    "colab": {
     "base_uri": "https://localhost:8080/"
    },
    "id": "YOVtV7art1Zt",
    "outputId": "66a26831-85d5-462a-9e4c-1a279474fd85"
   },
   "outputs": [
    {
     "name": "stdout",
     "output_type": "stream",
     "text": [
      "Collecting pydub\n",
      "  Downloading https://files.pythonhosted.org/packages/a6/53/d78dc063216e62fc55f6b2eebb447f6a4b0a59f55c8406376f76bf959b08/pydub-0.25.1-py2.py3-none-any.whl\n",
      "Installing collected packages: pydub\n",
      "Successfully installed pydub-0.25.1\n"
     ]
    }
   ],
   "source": [
    "# pip install pydub"
   ]
  },
  {
   "cell_type": "code",
   "execution_count": null,
   "metadata": {
    "id": "ZqPDZHqjtnQA"
   },
   "outputs": [],
   "source": [
    "import os\n",
    "from pydub import AudioSegment\n",
    "import tqdm as tqdm\n",
    "\n",
    "path =\"path_of_wav_audio_files\"\n",
    "audio_files = os.listdir(path )"
   ]
  },
  {
   "cell_type": "code",
   "execution_count": null,
   "metadata": {
    "id": "AEvkQW0Hty0w"
   },
   "outputs": [],
   "source": [
    "root=\"path_of_wav_audio_files\""
   ]
  },
  {
   "cell_type": "code",
   "execution_count": null,
   "metadata": {
    "id": "asZZMfaAtxQy"
   },
   "outputs": [],
   "source": [
    "def save_fn(filename):\n",
    "    \n",
    "    path = f\"{root}/{filename}.wav\"\n",
    "    if os.path.exists(path):\n",
    "        try:\n",
    "            wolof = sr.AudioFile(path)\n",
    "            with wolof as source:\n",
    "                audio2 = r.record(source)\n",
    "            transcript = r.recognize_google(audio2,language = \"fr\")\n",
    "        \n",
    "            return transcript\n",
    "        except:\n",
    "            print(path)"
   ]
  },
  {
   "cell_type": "code",
   "execution_count": null,
   "metadata": {
    "colab": {
     "base_uri": "https://localhost:8080/"
    },
    "id": "6OYo8a5BuaTk",
    "outputId": "2fafb858-5265-41bb-9757-a61051b9f70d"
   },
   "outputs": [
    {
     "name": "stderr",
     "output_type": "stream",
     "text": [
      "  0%|          | 16/3672 [00:01<09:23,  6.49it/s]"
     ]
    },
    {
     "name": "stdout",
     "output_type": "stream",
     "text": [
      "/content/drive/MyDrive/WOLOF/wav_final/6dc977164b3a3312a3736e81f5094b22f69bc4d0efc81af1349e28046d31b891f0c145704c6b6a9ef38bf9e89ecb0dc705fa3ebd2d6c2453b46c9ac5e5a4abf9.wav\n",
      "/content/drive/MyDrive/WOLOF/wav_final/2a50ac64fe44e78a59d105ed3aa64c0f60cbe5affa3850f0377a335b84405790b7f6a2d7a3ea600f2f690f31a2c1d6ef13b49b58ecd468b96e4c176794e4682b.wav\n"
     ]
    },
    {
     "name": "stderr",
     "output_type": "stream",
     "text": [
      "  1%|          | 24/3672 [00:02<08:54,  6.83it/s]"
     ]
    },
    {
     "name": "stdout",
     "output_type": "stream",
     "text": [
      "/content/drive/MyDrive/WOLOF/wav_final/8dce351e70fe41eb744d64a43e8badd940fd1f202ccae59802c469e554906c3c3face77ee180e2941c5d7779368dba97dd388ca464fc4e4ddec2700ccbcbdb85.wav\n"
     ]
    },
    {
     "name": "stderr",
     "output_type": "stream",
     "text": [
      "  1%|          | 40/3672 [00:04<09:22,  6.46it/s]"
     ]
    },
    {
     "name": "stdout",
     "output_type": "stream",
     "text": [
      "/content/drive/MyDrive/WOLOF/wav_final/4ca6cac34f39e2f2f636c0f713c298cc3dfe958a634836cc4fff331f43cff61a0894ddea823015111915ee51dc404f1f24af453f147968ef4565385a7cd1bfd2.wav\n",
      "/content/drive/MyDrive/WOLOF/wav_final/ca5b5fe1fdcf72a228df336f5b39983ad4efc6cdbc9d482ef449add75f20fe5f512fc04aed559479968a195141d843a33f40959fe353051e026f9d31916fc8f7.wav\n",
      "/content/drive/MyDrive/WOLOF/wav_final/c1240818d255439e7ccb113ea7bc45c5a43cb84878da734c498b34265131548d81af3a321aa6c81632fbd1918aae5bdbd586b272e9d6d31d0a20384b6a89745e.wav\n"
     ]
    },
    {
     "name": "stderr",
     "output_type": "stream",
     "text": [
      "  2%|▏         | 64/3672 [00:07<08:46,  6.85it/s]"
     ]
    },
    {
     "name": "stdout",
     "output_type": "stream",
     "text": [
      "/content/drive/MyDrive/WOLOF/wav_final/e99e2697af296143234ce4a5502dabdf1e307f890c227477694a2d52a373194cc1d7e5b56cff9fefc6ffbe0f3f40c51a84a4803c296e6e4af863b4952bb588ec.wav\n"
     ]
    },
    {
     "name": "stderr",
     "output_type": "stream",
     "text": [
      "  2%|▏         | 72/3672 [00:09<09:11,  6.52it/s]"
     ]
    },
    {
     "name": "stdout",
     "output_type": "stream",
     "text": [
      "/content/drive/MyDrive/WOLOF/wav_final/17bf0b9a01e5c054c1be07666c633d9de8a90ea9057070f8baf33954901ab4aaaef3e9f9dc78e0669911ea1e7589ca000a418946b0c688ef77066369b3b5762a.wav\n"
     ]
    },
    {
     "name": "stderr",
     "output_type": "stream",
     "text": [
      "  2%|▏         | 80/3672 [00:10<09:04,  6.59it/s]"
     ]
    },
    {
     "name": "stdout",
     "output_type": "stream",
     "text": [
      "/content/drive/MyDrive/WOLOF/wav_final/f3e9b05c389b05802f4577a7fe76d7a935821ded97b0fc7517c5d2360b3aba844dd1a3ef323f986be505a46ebbf459ea38cc1f2be92b35458233681dcbefed90.wav\n"
     ]
    },
    {
     "name": "stderr",
     "output_type": "stream",
     "text": [
      "  3%|▎         | 96/3672 [00:13<10:15,  5.81it/s]"
     ]
    },
    {
     "name": "stdout",
     "output_type": "stream",
     "text": [
      "/content/drive/MyDrive/WOLOF/wav_final/3acfea037f507d4b544e14f5a7f5bf64d93bd65162c79ac6ea540b3214db9a3f52bc2b981dc99f6d2d1e4dd0bf1eeb2f8b11cf093f5f31af01482fc518b0c2fd.wav\n"
     ]
    },
    {
     "name": "stderr",
     "output_type": "stream",
     "text": [
      "  3%|▎         | 104/3672 [00:14<09:23,  6.34it/s]"
     ]
    },
    {
     "name": "stdout",
     "output_type": "stream",
     "text": [
      "/content/drive/MyDrive/WOLOF/wav_final/3980e75b1a4961660748768686e650a1a439e6fc1ee918f7202ee705c77ad22910d51770227673ba5e8aba547c85071bf5a060bf840d73a95df9eaaba18d67d2.wav\n"
     ]
    },
    {
     "name": "stderr",
     "output_type": "stream",
     "text": [
      "  4%|▍         | 144/3672 [00:21<09:23,  6.26it/s]"
     ]
    },
    {
     "name": "stdout",
     "output_type": "stream",
     "text": [
      "/content/drive/MyDrive/WOLOF/wav_final/f21b0e589d8046559667b207a589eb54b87f4dbe7195aa6911c3d18a2352225b9978fa0848e933f5451b3a1b220f8548e4e479f344834ba7b84d15680ff8c036.wav\n",
      "/content/drive/MyDrive/WOLOF/wav_final/67f359b256974b464d74fb542650c55fb5a91548a65f7ce0bb8d7b42bb46a893b613b5110a80fc09cc50cc4012cc57c5daac5341d6edf987ffb3b1b138e8b6e5.wav\n"
     ]
    },
    {
     "name": "stderr",
     "output_type": "stream",
     "text": [
      "  4%|▍         | 152/3672 [00:22<08:35,  6.83it/s]"
     ]
    },
    {
     "name": "stdout",
     "output_type": "stream",
     "text": [
      "/content/drive/MyDrive/WOLOF/wav_final/252b945cefe61183204ab537347fa3e274a4c618715ce416b2c86d3927479e78d9c16a0a545a5eeb0d78239aabb0a93eebd405e97ac5325976ae85996794de5d.wav\n",
      "/content/drive/MyDrive/WOLOF/wav_final/078c1904569a9c2600c80a1c98f44dbbf6ac48f19db5ade0bc63439b7bfd5573a6f41e0d652a97d0887eb5e2c92a92aba670231e9ea79d61951c7fd903b03aaa.wav\n"
     ]
    },
    {
     "name": "stderr",
     "output_type": "stream",
     "text": [
      "  4%|▍         | 160/3672 [00:23<08:56,  6.55it/s]"
     ]
    },
    {
     "name": "stdout",
     "output_type": "stream",
     "text": [
      "/content/drive/MyDrive/WOLOF/wav_final/5d4f0659b8057667ef018c07a2d3f8c46c40af4debc792cc94a26a1336c19bcec7c482f3655a06be1f6bc492da921070a418e8bdc04fbd3e789c34ac5b64d34f.wav\n",
      "/content/drive/MyDrive/WOLOF/wav_final/9c22c321a95831668d434c48daa08caae7f828dfd6c8f8601c414cb9535f7711574a51682ec07d0ee849d25cc4ea22a081c710eedd2f0819165eaf6909e2aa52.wav\n"
     ]
    },
    {
     "name": "stderr",
     "output_type": "stream",
     "text": [
      "  5%|▍         | 168/3672 [00:24<09:03,  6.45it/s]"
     ]
    },
    {
     "name": "stdout",
     "output_type": "stream",
     "text": [
      "/content/drive/MyDrive/WOLOF/wav_final/f5ffd91fe9ffed6f044ff4481d39be4ffdbc75f6701a547c37dcc96865544e288e7c1f8f85dc925d656bd2fdb86c5b46b4d0a313871921f18dfd0f0e593227da.wav\n",
      "/content/drive/MyDrive/WOLOF/wav_final/a9a4cca1a0515203737590934338ba8b5da59cdc8ad6cf0bfcf55450dd83bf2311264e4deab1f7d46b10349e304483ad7b48bc6747e8ba97a94d4a4bf4e30406.wav\n"
     ]
    },
    {
     "name": "stderr",
     "output_type": "stream",
     "text": [
      "  5%|▍         | 176/3672 [00:26<09:12,  6.33it/s]"
     ]
    },
    {
     "name": "stdout",
     "output_type": "stream",
     "text": [
      "/content/drive/MyDrive/WOLOF/wav_final/d8145b2ddc747cb974c6063e308f1dfa321e46e39278cfacea06c978403d1200551cbe7d40a4285fcbd4dc12f18e140af4b5cfc01f9b3630d169930ea7ff0b89.wav\n",
      "/content/drive/MyDrive/WOLOF/wav_final/f09f658a7314e5812039773b652387eee954af34bece5d725ed7478f05abf2567f16875a987e825b1da4258214cfd7e8d2513bd16246301cf599e52c0d8a63d8.wav\n"
     ]
    },
    {
     "name": "stderr",
     "output_type": "stream",
     "text": [
      "  5%|▌         | 184/3672 [00:27<08:56,  6.50it/s]"
     ]
    },
    {
     "name": "stdout",
     "output_type": "stream",
     "text": [
      "/content/drive/MyDrive/WOLOF/wav_final/ab945163ea0e5e1051741dc2856d796b691397507d0aa8b085f4c6efda85949f4cd000fe96a94a27a190f45f188667acace5a2ca2c516da602e69551dd2771d8.wav\n"
     ]
    },
    {
     "name": "stderr",
     "output_type": "stream",
     "text": [
      "  5%|▌         | 192/3672 [00:29<10:30,  5.52it/s]"
     ]
    },
    {
     "name": "stdout",
     "output_type": "stream",
     "text": [
      "/content/drive/MyDrive/WOLOF/wav_final/c6cb36b1ad7223138edca528908d2ba827c49170af7acac4f1c25aa50c6f09b0a127119fc09d58a5b52887640b57567b9673839619f292d037ec765a9565ccb5.wav\n",
      "/content/drive/MyDrive/WOLOF/wav_final/0d799dfef60da3737b1726df3a35a7e70e9c55a94701f8fb2d7d013a88869ef30fab5c28bac72c746ab398c8a49418c5a54f9763431d21079774598a17aea428.wav\n",
      "/content/drive/MyDrive/WOLOF/wav_final/a69beea07508b1ac68f3ef7370cdba0152bc1bddd955ca8afa094a6955d14e54e2bc28c7f5bdab467f9c53806b116dbcd00d283cde67d9fbe2948610e4b5af2c.wav\n"
     ]
    },
    {
     "name": "stderr",
     "output_type": "stream",
     "text": [
      "  5%|▌         | 200/3672 [00:30<09:44,  5.94it/s]"
     ]
    },
    {
     "name": "stdout",
     "output_type": "stream",
     "text": [
      "/content/drive/MyDrive/WOLOF/wav_final/5adc4d106f050a9ea92e4125998f48fe166d1ba9b527e8d7e0a0fd8c2a6d53510a0af47308893f6855a61992edf7a64fdc16b547038beb167f835a67725718c6.wav\n",
      "/content/drive/MyDrive/WOLOF/wav_final/8813dca143332f989a089a9f2b37f5c472196245d0a4487c7c36f81b13ce481ad1181fb85dc7e8b7c6906b61448cdba27d293d4afb25f2070e53a8cd5ad485dd.wav\n",
      "/content/drive/MyDrive/WOLOF/wav_final/09555ded04d7201d539b3dae7d571fcfbdb44250456affab87ac346042c969e3d9101f4b5d83f0951d3f166103f54851dfb1bf9b7bd1f1ba893f888d0866a241.wav\n"
     ]
    },
    {
     "name": "stderr",
     "output_type": "stream",
     "text": [
      "  6%|▌         | 208/3672 [00:31<09:30,  6.07it/s]"
     ]
    },
    {
     "name": "stdout",
     "output_type": "stream",
     "text": [
      "/content/drive/MyDrive/WOLOF/wav_final/4d2700df3cb2bf3d8d3849b78f1d96f11f94f31e5cab03d2bfbc02167e23dc00afefecdbe69968dbf0bdb43e1edff5c0242ef6d8bb9ab0aeac674b3c80c8d4b1.wav\n",
      "/content/drive/MyDrive/WOLOF/wav_final/9993d28e278e564685ee1640a0387af42501f53ebda412947037d118a2617553acb9dd23da6d715b8d7f25863461dce052ec7bf3f3187174c6a49a51e01ae510.wav\n"
     ]
    },
    {
     "name": "stderr",
     "output_type": "stream",
     "text": [
      "  6%|▌         | 216/3672 [00:32<09:18,  6.19it/s]"
     ]
    },
    {
     "name": "stdout",
     "output_type": "stream",
     "text": [
      "/content/drive/MyDrive/WOLOF/wav_final/6090717106ec0c4149cf61bcb34ec4973dc9dd59a9bde84bb31a51aead677367caa72f77f5fd413ec364ca54373cd4cb107af4c995889fde1978b81bf880ef30.wav\n"
     ]
    },
    {
     "name": "stderr",
     "output_type": "stream",
     "text": [
      "  6%|▌         | 224/3672 [00:34<09:17,  6.19it/s]"
     ]
    },
    {
     "name": "stdout",
     "output_type": "stream",
     "text": [
      "/content/drive/MyDrive/WOLOF/wav_final/b479d98186be04927627198eab9a4eafab46cad5dc32c9a6c9232f2b4dd30ad21533fe17af4c887a0f504a7c6b9657a0411580a06c191f0f1064a908462a5876.wav\n",
      "/content/drive/MyDrive/WOLOF/wav_final/db7571755e0fa7fc78ae2ef67f7c8beead13b789be3b459f4a7cca294736d1e0586a6fafebbcd39c281c47d9ca09c7c4fd6406c2000b4b7ddf1ad577b44cf411.wav\n",
      "/content/drive/MyDrive/WOLOF/wav_final/74e8ca80e6ff919abd829111b7aeb9a0bc4e66a85467b7b5a479b369148795c55704596422d1efa088f083e198872fcf8081a07292e271108edf4eb0cd113a4b.wav\n"
     ]
    },
    {
     "name": "stderr",
     "output_type": "stream",
     "text": [
      "  6%|▋         | 232/3672 [00:35<08:22,  6.85it/s]"
     ]
    },
    {
     "name": "stdout",
     "output_type": "stream",
     "text": [
      "/content/drive/MyDrive/WOLOF/wav_final/cb344feb474d892bccc22bacdc860e74de8fc3efec50955d33971c26342e1258f689696fe2aee61e7786550b06932a42b1f6aff4139e445efe84a40052adf3b2.wav\n"
     ]
    },
    {
     "name": "stderr",
     "output_type": "stream",
     "text": [
      "  7%|▋         | 240/3672 [00:36<08:13,  6.95it/s]"
     ]
    },
    {
     "name": "stdout",
     "output_type": "stream",
     "text": [
      "/content/drive/MyDrive/WOLOF/wav_final/8bc496793c3bcf598471946565501e26d2f747b8534ecfe9af5f596061b3726542635bf9cbb152ad0b1f9f6874c0885f4dc0d46d2cef207e0f85b6b78d1fd10b.wav\n",
      "/content/drive/MyDrive/WOLOF/wav_final/dcb2650240e3e2ae7334570dfeaf8d2f051a66dfbbf54dcdd841a8d80f6e8794945961db030109e4c8b1979b57f238f97cf0c01e1a3f62fe43d9444359bd00a8.wav\n"
     ]
    },
    {
     "name": "stderr",
     "output_type": "stream",
     "text": [
      "  7%|▋         | 248/3672 [00:37<08:37,  6.62it/s]"
     ]
    },
    {
     "name": "stdout",
     "output_type": "stream",
     "text": [
      "/content/drive/MyDrive/WOLOF/wav_final/ee0589167f491841093194cd2cdeeac57d579a09e621eb7b23aad355d390264d3dc0ddb194bd637714406f3edd616d965ea4af89b9fb7a5d079f08f07b53a01d.wav\n"
     ]
    },
    {
     "name": "stderr",
     "output_type": "stream",
     "text": [
      "  7%|▋         | 256/3672 [00:39<09:26,  6.03it/s]"
     ]
    },
    {
     "name": "stdout",
     "output_type": "stream",
     "text": [
      "/content/drive/MyDrive/WOLOF/wav_final/aeb177277c99a90d4dffff4f4128cf6ab1d3f69f89bf1b729ca29a256f84a0188de17456b50760363db3676cc6c981c58dd781cde3cde90229e6c1a2f032ff45.wav\n"
     ]
    },
    {
     "name": "stderr",
     "output_type": "stream",
     "text": [
      "  7%|▋         | 272/3672 [00:41<09:04,  6.24it/s]"
     ]
    },
    {
     "name": "stdout",
     "output_type": "stream",
     "text": [
      "/content/drive/MyDrive/WOLOF/wav_final/dd7e2e4bf584c7be8ba023c793c01e50e26b421bab6797148e5bcc84e3a982c1dae558bb3dfbe3bd1397f535d656f19b96e9ea118aa4d690686756db380cb473.wav\n",
      "/content/drive/MyDrive/WOLOF/wav_final/56091a44df5bc83c127df76f4dbdb4bb62160d9d5d4fa0300a7acd21c45b46c7a147ba1264a3abb53ca696f84ad6403f54504e47e0acd2334618882486057af4.wav\n"
     ]
    },
    {
     "name": "stderr",
     "output_type": "stream",
     "text": [
      "  8%|▊         | 280/3672 [00:42<08:57,  6.31it/s]"
     ]
    },
    {
     "name": "stdout",
     "output_type": "stream",
     "text": [
      "/content/drive/MyDrive/WOLOF/wav_final/2f996f367d2daaa6e9cee58225b5321d908f7a084e16fadc0bb0b8aa91cb48adb1484209fc53973a33f4f3d1b0af6db0a2b200281f6406405b592acbc515a73c.wav\n"
     ]
    },
    {
     "name": "stderr",
     "output_type": "stream",
     "text": [
      "  8%|▊         | 288/3672 [00:44<09:24,  6.00it/s]"
     ]
    },
    {
     "name": "stdout",
     "output_type": "stream",
     "text": [
      "/content/drive/MyDrive/WOLOF/wav_final/399c0971975f382418c7ec0e9d1dc2dbd22fdcae6b2b8d48a54e94e18947abc01d357274f49b1656ffebe7a480cc4ca481195df1b13b32ea69480a86fa1b1d0f.wav\n"
     ]
    },
    {
     "name": "stderr",
     "output_type": "stream",
     "text": [
      "  8%|▊         | 304/3672 [00:47<10:08,  5.54it/s]"
     ]
    },
    {
     "name": "stdout",
     "output_type": "stream",
     "text": [
      "/content/drive/MyDrive/WOLOF/wav_final/a2c0098c2582b2917f4345a1cf534fd1228e32c33a3602f0fc7856a9c2037dddad957d75bbd7a4814e57886fea9da4e2a1cc851b24c7434c4162a99ebdeb1187.wav\n",
      "/content/drive/MyDrive/WOLOF/wav_final/f4401802b887439866f1db14c68278c11dc8bb711bc0ce4c79f6c4b12b720835775fd3d96657130c52a7718d5d8766f81b5c23f935737e440943c0162c87d6e7.wav\n"
     ]
    },
    {
     "name": "stderr",
     "output_type": "stream",
     "text": [
      "  8%|▊         | 312/3672 [00:48<09:51,  5.68it/s]"
     ]
    },
    {
     "name": "stdout",
     "output_type": "stream",
     "text": [
      "/content/drive/MyDrive/WOLOF/wav_final/4c1c12c437e75a62b2dda1e9a8a06d3c75bcaf896887a054403349d49361fcaf0c85c63158a4ac7eb9473fcb6ef52991c27a5cf504e20f2a8ba96bb1cfaa5f2e.wav\n"
     ]
    },
    {
     "name": "stderr",
     "output_type": "stream",
     "text": [
      "  9%|▊         | 320/3672 [00:50<10:15,  5.45it/s]"
     ]
    },
    {
     "name": "stdout",
     "output_type": "stream",
     "text": [
      "/content/drive/MyDrive/WOLOF/wav_final/430088607d41cea50b26ecba6c8b51e83ec84bf45c85d24254cb6d7d227c949e9ee87e6a8f679ed07ce77b693e94442f93d19903cc97d40599e7f77a534600fe.wav\n",
      "/content/drive/MyDrive/WOLOF/wav_final/71e3d310c8964131fda68ed1d2b368ca56f2a9d256b2f48035ac21d0769e4f3baebe3b6d197419e0ea810ea6ccbafc7efbc1c1243d8969782925ca2ce0e93e1d.wav\n"
     ]
    },
    {
     "name": "stderr",
     "output_type": "stream",
     "text": [
      "  9%|▉         | 336/3672 [00:52<09:36,  5.79it/s]"
     ]
    },
    {
     "name": "stdout",
     "output_type": "stream",
     "text": [
      "/content/drive/MyDrive/WOLOF/wav_final/7b54cdc3a6f8bace68601858bd215d3b5dd3a2f935b6973a97fbc280cede0d4337aa510b8fb653685dbe7933c6f3804ed8a67187513276835b4a26b0e1168864.wav\n",
      "/content/drive/MyDrive/WOLOF/wav_final/56c5c79445b13bc20c22e6ae534fd925b6a041babf4e0c31c6ba5e32267dcb381f67ebaf5ba3996521210cefaed21a55603f483ac59fb2b3735d464a1b61140f.wav\n"
     ]
    },
    {
     "name": "stderr",
     "output_type": "stream",
     "text": [
      "  9%|▉         | 344/3672 [00:54<09:40,  5.73it/s]"
     ]
    },
    {
     "name": "stdout",
     "output_type": "stream",
     "text": [
      "/content/drive/MyDrive/WOLOF/wav_final/0e08faea4f26f5c209d7c446ffb0b77bb8876cf41b9e7430618a8f79c30489f807bf676c82ea28300d1c67c6bde80067cf80335e601b2fd346c961d8c5db5539.wav\n",
      "/content/drive/MyDrive/WOLOF/wav_final/8cb2d2489db9e855d45ccd882790281163641a26a28f2fa3087a9957e630ac44b41df7bd58ced4968dce35c9d2cc57640f9af9288ad991b8c39581291fd8dbe7.wav\n"
     ]
    },
    {
     "name": "stderr",
     "output_type": "stream",
     "text": [
      " 10%|▉         | 352/3672 [00:55<08:44,  6.33it/s]"
     ]
    },
    {
     "name": "stdout",
     "output_type": "stream",
     "text": [
      "/content/drive/MyDrive/WOLOF/wav_final/e642d642df664bd1be667f24a570b0d81b13e0870a81d923304b876467dde7155055f64d487dec772d51ccb920d0be8a8880ca5077c39902e26faa22abe0204c.wav\n",
      "/content/drive/MyDrive/WOLOF/wav_final/b56934cfba35328ec4ef5a89a9572d7d77352698c8ac406c296947a7416e305c2619516acc878eba7f93afb0be61ed388f2e0cc1af1a59f217abd6e8b491e567.wav\n"
     ]
    },
    {
     "name": "stderr",
     "output_type": "stream",
     "text": [
      " 10%|█         | 376/3672 [00:58<08:25,  6.52it/s]"
     ]
    },
    {
     "name": "stdout",
     "output_type": "stream",
     "text": [
      "/content/drive/MyDrive/WOLOF/wav_final/69ca18d87387b7be48841a3e9e73463be37620655a88bd79c2aa5eec29c6f0af31d7263b01ffb10df75905270a66231f437c72892dbd2639c2378e674b47679f.wav\n"
     ]
    },
    {
     "name": "stderr",
     "output_type": "stream",
     "text": [
      " 10%|█         | 384/3672 [01:00<08:35,  6.38it/s]"
     ]
    },
    {
     "name": "stdout",
     "output_type": "stream",
     "text": [
      "/content/drive/MyDrive/WOLOF/wav_final/8184a37441c07304d8f9d27dc45863167d5b429d1c1c9a566b46106775f21f3bc6c5f953e460e2b4e44788374ede78596133b82daefc45418d0099c44502bb4e.wav\n",
      "/content/drive/MyDrive/WOLOF/wav_final/bfd10abe9e2c58af7d370ecfd4412fb2224e26d60424649fd5f26a74a01712c8bf1f39997184223e49937fbdf4f40df489f737c525469790c314679f5a92b81b.wav\n",
      "/content/drive/MyDrive/WOLOF/wav_final/1cedf7c8c092b42a5bc89395d37b96c546114e78d5c9c196364f0be6e90e73451ffb03aadcc3222c93fea37b1650ab35e1018feb2b8ac386c14ebc36b4587cef.wav\n"
     ]
    },
    {
     "name": "stderr",
     "output_type": "stream",
     "text": [
      " 11%|█         | 392/3672 [01:01<07:36,  7.19it/s]"
     ]
    },
    {
     "name": "stdout",
     "output_type": "stream",
     "text": [
      "/content/drive/MyDrive/WOLOF/wav_final/27ad4fe734b1e87bc4fc3e451da9c1d943c814949e74dc8bbd3b98d4dd1d2e09119caa5a1da7c44fd3dec9addcd25b7015b5c1ce1ceff816de84962cad7bef91.wav\n"
     ]
    },
    {
     "name": "stderr",
     "output_type": "stream",
     "text": [
      " 11%|█         | 400/3672 [01:02<07:24,  7.36it/s]"
     ]
    },
    {
     "name": "stdout",
     "output_type": "stream",
     "text": [
      "/content/drive/MyDrive/WOLOF/wav_final/7931dfad6d0bddbf7ce395d981cec151c5bfe0b39031945838f4b4ece73e5788579b9408cb8d09ad6a1d453d0694312946b8f2a7d3fc8c2bac6c51fdb54bf2bf.wav\n",
      "/content/drive/MyDrive/WOLOF/wav_final/d9cbe751e235dec3a772da2d00d36ba05d9e51a5618407c8f4ac2da3f2c9898f571deafe07cd9a001c7d44240e4c62b777d63ef941beb4a857a5c43bdfbc6823.wav\n",
      "/content/drive/MyDrive/WOLOF/wav_final/c9ea558303611f769ad0d8476dd2221b897b12e95656427b90c86a66bd13a72c572b9d95db39d5c3d10b4270aa8b7b9004f79cd71b23f952534a59cbe4bb6966.wav\n"
     ]
    },
    {
     "name": "stderr",
     "output_type": "stream",
     "text": [
      " 11%|█▏        | 416/3672 [01:04<07:43,  7.02it/s]"
     ]
    },
    {
     "name": "stdout",
     "output_type": "stream",
     "text": [
      "/content/drive/MyDrive/WOLOF/wav_final/3673505b56d391ff20b1e8205b5b3a944f5f31d8edd43d801163bad68a9848a8bf6502bad3a141575f484494070a1ef7ab7970620e736d2f2fcc86a1180200c3.wav\n",
      "/content/drive/MyDrive/WOLOF/wav_final/d62cb277267697544bbec8be03c975eb945c6799a6cc0d13945db2f5d7794c17027a1732b54d985078c5514e272871087ab60b84c2e815828b74a221bd11731e.wav\n"
     ]
    },
    {
     "name": "stderr",
     "output_type": "stream",
     "text": [
      " 12%|█▏        | 432/3672 [01:07<08:55,  6.05it/s]"
     ]
    },
    {
     "name": "stdout",
     "output_type": "stream",
     "text": [
      "/content/drive/MyDrive/WOLOF/wav_final/297155f2c53d6da2b13b42fba73d938375ab67770d23fa1763c2785392d31777bea86030236027798dbc9cd85c7e6b1843a13b079927f953aba16fcca42aca45.wav\n"
     ]
    },
    {
     "name": "stderr",
     "output_type": "stream",
     "text": [
      " 12%|█▏        | 440/3672 [01:09<09:29,  5.67it/s]"
     ]
    },
    {
     "name": "stdout",
     "output_type": "stream",
     "text": [
      "/content/drive/MyDrive/WOLOF/wav_final/86d6cdcf5237e191bd50c7183b2b2a26f32d5543f4ba164f744065976bfb1f6a91872ae2e6fbfdcf0b47c02ec01612bd33b579b40db5ce9f1b6bbfeb37b969b3.wav\n"
     ]
    },
    {
     "name": "stderr",
     "output_type": "stream",
     "text": [
      " 13%|█▎        | 472/3672 [01:15<09:51,  5.41it/s]"
     ]
    },
    {
     "name": "stdout",
     "output_type": "stream",
     "text": [
      "/content/drive/MyDrive/WOLOF/wav_final/770f6e0a894bdcaba398feed2307972958d876d882ed43a68068fc868263bddd021842bd262affb14156d0b4d21003fc21dea5b1b08a99e0066482b6e4d20b5a.wav\n"
     ]
    },
    {
     "name": "stderr",
     "output_type": "stream",
     "text": [
      " 13%|█▎        | 480/3672 [01:16<09:02,  5.88it/s]"
     ]
    },
    {
     "name": "stdout",
     "output_type": "stream",
     "text": [
      "/content/drive/MyDrive/WOLOF/wav_final/c29d5c9cdc3a663eda6b2ea52301f34d13b95743c1092d535a46ba8992bbc99cf4090cebb9af7c5d9060e61c0798d149e4ca784e10bfa553955d4b819acd00dc.wav\n"
     ]
    },
    {
     "name": "stderr",
     "output_type": "stream",
     "text": [
      " 13%|█▎        | 488/3672 [01:18<09:46,  5.43it/s]"
     ]
    },
    {
     "name": "stdout",
     "output_type": "stream",
     "text": [
      "/content/drive/MyDrive/WOLOF/wav_final/63d92923cfaf6c96f480493dd331e8b18319ed212d4a52ffd1cc352a2421cbde4419ee2379b580eb21dd3f169c48241588e04e5a3f140a2a4c419d12e5649e1d.wav\n",
      "/content/drive/MyDrive/WOLOF/wav_final/427ef8fab839258b916845ec6eadf37f40b3d5bad6d7eabf85c2f2b396ff03fa6dbd2020a815f1364e09f95256b091d6392012cf358ec17a2ab786cb5d568b05.wav\n"
     ]
    },
    {
     "name": "stderr",
     "output_type": "stream",
     "text": [
      " 14%|█▎        | 496/3672 [01:19<09:53,  5.35it/s]"
     ]
    },
    {
     "name": "stdout",
     "output_type": "stream",
     "text": [
      "/content/drive/MyDrive/WOLOF/wav_final/d6e444e595e1b2535ef038f63dd92d99c4c7b889e4c07b0a5006678907e912aea7d74ab4a9d8005f7a8cc8eae75a342abe84d11aab802d8147c508132367b4ed.wav\n"
     ]
    },
    {
     "name": "stderr",
     "output_type": "stream",
     "text": [
      " 14%|█▎        | 504/3672 [01:20<09:26,  5.60it/s]"
     ]
    },
    {
     "name": "stdout",
     "output_type": "stream",
     "text": [
      "/content/drive/MyDrive/WOLOF/wav_final/fcc7e3e3aa8fedeec64bd2a7d27b61f26331d9be180aa037ad91bd41a2e0637b2ad5df436fc6ff1163d34e0414d7be6e5a1708d849c2f895bf79b12031240f74.wav\n",
      "/content/drive/MyDrive/WOLOF/wav_final/0247df678cf7ae721e7e51346fc263389cb29be5b3c5f3a60f705aa6b1a8e2144c67dd1f55ffd65cdef7539f577c1d9f9b94a2c0512fd1f4d52e8d78e706251e.wav\n",
      "/content/drive/MyDrive/WOLOF/wav_final/2c09947a740513692c13c70d71da210db0c1aef9d8f382166afaefe6a8e12cec075e1bc521ac103e20adb74c766673854bc117bcf427ea099a9def8755775178.wav\n"
     ]
    },
    {
     "name": "stderr",
     "output_type": "stream",
     "text": [
      " 14%|█▍        | 512/3672 [01:21<08:37,  6.11it/s]"
     ]
    },
    {
     "name": "stdout",
     "output_type": "stream",
     "text": [
      "/content/drive/MyDrive/WOLOF/wav_final/211c42f93e2a195186103b3659e33706cab6872b58c913d7983b83afa55d5dd0e604ccbd9ed809f6da3e14889d56a1ef7c20733bf6a93d90c94e7e5112ba1cdc.wav\n",
      "/content/drive/MyDrive/WOLOF/wav_final/b88b59dd863ab93817cddce387a1dc2e8df910dbabf68435ee5caa062112a96ec56f6e82c2c8985809183f3eaf35792ba73d556ab2764fc21108018a373d8725.wav\n",
      "/content/drive/MyDrive/WOLOF/wav_final/6df2b835f37dbe8ae28d1c6dee82d33c7b6939ffe37949b12ca81337aca7e2e1833c91f1681ff0f85fabf95d5f6846585d1306830be34741652ea3c625167e84.wav\n",
      "/content/drive/MyDrive/WOLOF/wav_final/e426df8ef5247b60c02e644991fb61ebad37f8e3aa4e334273fe73fbaba3c70ecaf11eb158f7d89d8797a0f6d40852bb27cb029dde4a9db32e5ae42a2f0747bb.wav\n"
     ]
    },
    {
     "name": "stderr",
     "output_type": "stream",
     "text": [
      " 14%|█▍        | 520/3672 [01:22<07:43,  6.80it/s]"
     ]
    },
    {
     "name": "stdout",
     "output_type": "stream",
     "text": [
      "/content/drive/MyDrive/WOLOF/wav_final/6f84687f72b7556b15ad97943faa20bbe4c2b9c50af3ef9f75d51f5c859d65c0fedb5550d6ba6fe07cacc42f5722f440fb2f3d939576cad31d074dce4fbd3b32.wav\n",
      "/content/drive/MyDrive/WOLOF/wav_final/337db3598664656974295eb5d0881023272ef6115b960141a18c1d80a82e7c8116917d60170bb1be441a6b63de663d6c1936ffa41324d57c8e562e3b917e20e2.wav\n",
      "/content/drive/MyDrive/WOLOF/wav_final/5259ab814f021386d3bae73ac7118787a89c97a0e3b5cbe68eb1d91c137d15f08b3336190c17b38b32696d3ea3d2f9e3d1ff17a55f124c886f9410baec1fcada.wav\n",
      "/content/drive/MyDrive/WOLOF/wav_final/e9b0c85ab1647f63fb29b769d7f2fc71e5da671626cd66ea0fcc090aef3ab797ca9b4712e764f51c45c8dd47c0cb78a39be2aad4a4fd3b9e717039d598db5c3d.wav\n",
      "/content/drive/MyDrive/WOLOF/wav_final/5dce9165ce2b5c96046f2965a11731b15f3be98897b27a56d31870de25d4737eb11fdb6a8b466a62e6a8b70fec281cf9892b5ff03ba6a7ebdb5b472d2de8db95.wav\n",
      "/content/drive/MyDrive/WOLOF/wav_final/e16072a902029f52173aea00b940a187b68b79a944ce06fcb1c5a5f1cd8a09f5dbf8837ee0f14a3b99e4f4071aa55db75500b750efab895e9acbf90c97434692.wav\n",
      "/content/drive/MyDrive/WOLOF/wav_final/f9bcca26901b7b3345e7d3a07408f886b89a5a63983cff22101eb32161dac6bfcfa8937979e0fc2bf03de8e95b6f0f6d1b8fdcf2f239c3a2164e4b8bc9114b79.wav\n"
     ]
    },
    {
     "name": "stderr",
     "output_type": "stream",
     "text": [
      " 14%|█▍        | 528/3672 [01:23<06:56,  7.55it/s]"
     ]
    },
    {
     "name": "stdout",
     "output_type": "stream",
     "text": [
      "/content/drive/MyDrive/WOLOF/wav_final/b645776edbcb76c91b72782daec56600c6927f985ca02b4e3649dacc0245d11749842f32850ec100593a6fbf69099419d392882db1dc9c228a1d1e9efa873280.wav\n",
      "/content/drive/MyDrive/WOLOF/wav_final/aaf355b04edc4d8418ac850071ac14bf6ed2584b969a017827f90889668ae993909dfd8856ef145dc676c8a389fa9b34221cdc902420490e56cf85772fe23b8e.wav\n",
      "/content/drive/MyDrive/WOLOF/wav_final/e496fe6445f50d443e8a7e3b9c2633c077037c32344cd7c2a0adb4f325d1e94ace7bebdb51d17d1899ae7d237f2d8078680f05a16d04e78da95d4afa7c026042.wav\n"
     ]
    },
    {
     "name": "stderr",
     "output_type": "stream",
     "text": [
      " 15%|█▍        | 536/3672 [01:24<06:56,  7.53it/s]"
     ]
    },
    {
     "name": "stdout",
     "output_type": "stream",
     "text": [
      "/content/drive/MyDrive/WOLOF/wav_final/1b48b79d9f9a5cea37588e0c38ec409f12642cf13a6eb5b320f55ca6d2a547043f50b29a37e387bcfbdc8aff9b91337255e2dc91d93365f4040a33b210594955.wav\n",
      "/content/drive/MyDrive/WOLOF/wav_final/49b08c86ca02c9a50f796ff3bd929f851038ae9a32ae918c84562307c760435937a2d43c8eac05ba308d289095fb0a4e45d8369dbaf36132f0c13c677c729f1a.wav\n",
      "/content/drive/MyDrive/WOLOF/wav_final/415d2d3e7df80392b6f002493a0763e3e71d89eb362feec36c1857fb551879c5129e16bd3b42ba83d7575b187e5c06d5a56ebc43a24dc16f97f2ab161eacc6b2.wav\n",
      "/content/drive/MyDrive/WOLOF/wav_final/6eaa034ec06b36b387d44b4724fc65869a68ea6782d742981653e7436ec9bdfb7c4393ffd5026c533b9955c4444433dbc9e65712c8c22822626816bd78945b4e.wav\n"
     ]
    },
    {
     "name": "stderr",
     "output_type": "stream",
     "text": [
      " 15%|█▍        | 544/3672 [01:25<06:59,  7.46it/s]"
     ]
    },
    {
     "name": "stdout",
     "output_type": "stream",
     "text": [
      "/content/drive/MyDrive/WOLOF/wav_final/d481636a868160b63c3e5cb5cb1de3ba2159bfd2679a3e0fcf53cabbc601790fa841229b18198389fcf7b021671e1aab7a69ef1cbb2df3766451c9323c685e3b.wav\n",
      "/content/drive/MyDrive/WOLOF/wav_final/3fe6790e6ad787adf613d869e0a0fc676d8f6e154e700297fcdc097cc3b86fe9d9216d1d2a7065c2bd466d30dc9edcbebdb78fcd58672a665d20b6ba8b7e8e6a.wav\n",
      "/content/drive/MyDrive/WOLOF/wav_final/7f65d3b9d75ab1cf3b7c9a64513f6fb7149f0ac9e068e9041a375204f725209cbe3ea355bd09ebe950069aaa4d17f3c6cedcfb631a743a376aed6526e4d7ef07.wav\n",
      "/content/drive/MyDrive/WOLOF/wav_final/ca4d539b39a7df16f4ec7e325707952ce85196c31bac44ab24de352b13e24c61135bbc76504bee596f54bd3f19afe33221bdbb60ebc6d3dd0c60339e7a587f19.wav\n",
      "/content/drive/MyDrive/WOLOF/wav_final/3907ae54b0e348d8d36e23931313bb8bfb61d4095acc5b832ac886b38c27bca189f7f8b201219bfff7daf18c9807ff12f7a9d9eea467f4c49e7cde58290797b7.wav\n"
     ]
    },
    {
     "name": "stderr",
     "output_type": "stream",
     "text": [
      " 15%|█▌        | 552/3672 [01:26<06:00,  8.65it/s]"
     ]
    },
    {
     "name": "stdout",
     "output_type": "stream",
     "text": [
      "/content/drive/MyDrive/WOLOF/wav_final/953689dfead0be96bd8a1277922e62985424aea35221e9bce8741ec4bf5968954bec5096c2c738632af5c2cb74e9749271e722f369dfa90bb7b7f9ee1118c620.wav\n",
      "/content/drive/MyDrive/WOLOF/wav_final/a2eacc98603113157a386667cb432278189f078acd30d5fe65c5141bceab48bc3e1c517a478cde1646f68d864d48330c2896902291990f0006f831903ddbd082.wav\n",
      "/content/drive/MyDrive/WOLOF/wav_final/9d70c19f6afa3cd7cb341a9aae0808cc7085ccf0c03eeb34271b7af491bf698f996e326f06d104868d3e4d40aa20f3bc11125d8ccc702ff986c1f7742ea4efad.wav\n",
      "/content/drive/MyDrive/WOLOF/wav_final/a6e1fb1b5bf6ea48910ac803b99e2763b6cea74c7233c1c3ed65b3be85632d31f13e8db03e27e835419e777b26f2401d73a61f5cc779dddfaaa87d892c81ff1a.wav\n",
      "/content/drive/MyDrive/WOLOF/wav_final/abb8cfc10505d3de3f3e8cd3b9e2a7ed013a0607257d611bfeb31efb60ac05acc2e8d4d03fe5243fd5117d9a3ae6910fee200cddd41f7617dc9c0bdf245f0e29.wav\n",
      "/content/drive/MyDrive/WOLOF/wav_final/424515d575eb2f279a0c211a95a1fe26cfb59d9a243c78dae55ee6fa6ea08573c7206eebb0a9edb7bff31002a70cf762f251c220c9447804832087456773a7cd.wav\n"
     ]
    },
    {
     "name": "stderr",
     "output_type": "stream",
     "text": [
      " 15%|█▌        | 560/3672 [01:26<05:20,  9.71it/s]"
     ]
    },
    {
     "name": "stdout",
     "output_type": "stream",
     "text": [
      "/content/drive/MyDrive/WOLOF/wav_final/a91f4787ac0b693a134627aa550aad043418b6c8cb32dc6e38bf927b8b34b3ec437ad544cd76b8a03e2913d74ce5ca3b70cad6d78658df1e10ee8e6ace2b3b8a.wav\n",
      "/content/drive/MyDrive/WOLOF/wav_final/a364ce4ff765c263894dccbea7f5c3e92932174e96a857f8f06e6856b966b6259cd857a514d8aae3a081b169cc6e089a55e727b434f86311f4e98e38493faf47.wav\n",
      "/content/drive/MyDrive/WOLOF/wav_final/52567d5a5a68e3622a7e86209b6e0921d63e3b16160a482818836ece529331e25e73cca60993517375552ea362fcbefba72ee6ac1df3e3706c3f71d36ea8d048.wav\n",
      "/content/drive/MyDrive/WOLOF/wav_final/18adc4265b97880474f1184cd9260faa6c4b815d1aebcb53796e3af25dac97ace15e90de65a8a96427624a8317497f7f8de718709c6774d82ff78dc2f99fd6da.wav\n",
      "/content/drive/MyDrive/WOLOF/wav_final/de3771b9b08ae6978738f4fbc8521d5f18559545e0d6d2d8d6b7fd60f97a7bd5ace6b2f959dd390e1509867ca75adf5b21c2233f1b6d458c57a102d1275bb344.wav\n",
      "/content/drive/MyDrive/WOLOF/wav_final/7cc490db9e1c9798b2f48acc57002ef75d347b0e3440bc79d594e7571d1eb3cf554be494e29bfaab1903920ed289d476dbdf882625e9169b9b1413d96a60cddf.wav\n",
      "/content/drive/MyDrive/WOLOF/wav_final/d0b3a0fdb920d932155b5e577820cf218fb58521650ab4e5af4252de6ecf1b900011a3a048beb062794e466cbf56248ffa5492b87090f27ce2c99d83f6c8f746.wav\n",
      "/content/drive/MyDrive/WOLOF/wav_final/0ff97d2d5c268fc8ae262d0f416e3d71f52ddfd52fdaf0b05e7b0453542b3a26668074048aab812136d03c443929c22052733828019529ec919b9fae9132df83.wav\n"
     ]
    },
    {
     "name": "stderr",
     "output_type": "stream",
     "text": [
      " 15%|█▌        | 568/3672 [01:27<05:10, 10.01it/s]"
     ]
    },
    {
     "name": "stdout",
     "output_type": "stream",
     "text": [
      "/content/drive/MyDrive/WOLOF/wav_final/fe49f4edc3f6a0f5662e6bca3b3748999d65a246db04f7cf9de0a362ae911f192f3e363992f86a0f3ef5c9c9e5af7dc630d4e4bb4f1dbdd5fa0de967a69026df.wav\n",
      "/content/drive/MyDrive/WOLOF/wav_final/57d486cee900a61f7eb15f0804474fb6b9592caafbea8b3da760aa84f732859f9343c6f0187c913100fc29d6e07914e5977b5a7638989eeafea8e9fca9ba6956.wav\n",
      "/content/drive/MyDrive/WOLOF/wav_final/9d4e0b58a7890bf74b63272ecf9b903ada4deba97cbe1fa9f63c49ffa098ac5abf504f4c30ae724c8c395e32578b167bed0620836e47e5cf18b8e8c0da50d5a4.wav\n",
      "/content/drive/MyDrive/WOLOF/wav_final/26f2a8116ead798da4ab3464bef20f110259050cb9018eba973efbb122a80ad61565eceba5d3ca5ad260d8a1bebcc3dfaa9dac6b348797059ac97b21ae92181b.wav\n"
     ]
    },
    {
     "name": "stderr",
     "output_type": "stream",
     "text": [
      " 16%|█▌        | 576/3672 [01:28<05:54,  8.74it/s]"
     ]
    },
    {
     "name": "stdout",
     "output_type": "stream",
     "text": [
      "/content/drive/MyDrive/WOLOF/wav_final/6f8a7c2d8008444342bf8c45cae2bb4b8cca858360b0f3a242d1831016f21f681ab0966ad1b162d12d3a381b647db29f130511801e7f2148392ffbddb24d2ee3.wav\n",
      "/content/drive/MyDrive/WOLOF/wav_final/9ebdebf41b79ef66e54044995b65518b21b2dfc997487fe3b02e80c2e2b0550753e6a7a02136a8141cb769de09b52d0fcb1499bd2ec43bb2e7c458be6f6a9135.wav\n",
      "/content/drive/MyDrive/WOLOF/wav_final/1b25cd229fdcfce10cf434f7b932458bef3285c1f108de929e008fd02105ed15cb15181068f767cfebaba1e4ad40476e69cc5dd3d47246a940387729497f1f04.wav\n",
      "/content/drive/MyDrive/WOLOF/wav_final/92f98c8f1e37b023e4a119a8656fef242852b2e159a438b1da3e588b20aea82e805be85ad664e9aa5102aebeb18bcd1c86e492be2a36deb3066d88e312cc2cba.wav\n",
      "/content/drive/MyDrive/WOLOF/wav_final/5712859d60de66e379a2c156d6b2bc08cb69e09202d4999540a1cb84da134061cbd027c8d0e2781dc9f13d2a2ef5f612f53fddae969f5758a37080dc91ff84ac.wav\n",
      "/content/drive/MyDrive/WOLOF/wav_final/3de2a36bd1700c17f0935c02e771c2425a3a32ef713366dc5618887fbfc9652c414a9d30e4010d3513513107524eefb70f3b283436e658b9a1de3c0927f88b2e.wav\n",
      "/content/drive/MyDrive/WOLOF/wav_final/d608cb4ca5c72738ea456763702e5184d1503d4e55875c810561a043e1b60cfa26b1efb217a5b874ebdb7e234fdd045d7e68712d1e79e2a30b616330d8ec1f26.wav\n"
     ]
    },
    {
     "name": "stderr",
     "output_type": "stream",
     "text": [
      " 16%|█▌        | 584/3672 [01:29<04:51, 10.59it/s]"
     ]
    },
    {
     "name": "stdout",
     "output_type": "stream",
     "text": [
      "/content/drive/MyDrive/WOLOF/wav_final/3390d4935b8d72c3033c003abb1ae5270822fdcf0692dc986ba9b9e52022becc034db83b6fd5edd25f828f9f0f675589f10e3afc12dd6e686fe2f723aa3908ca.wav\n",
      "/content/drive/MyDrive/WOLOF/wav_final/e3a74a8998f03c320f5a4923272247485832b1cd803528f5eb5a50aef3d29a78b436b3ea37c47763e9b9be8b3ee53435b51d3466345217ce5d6fcb9b48a53c63.wav\n",
      "/content/drive/MyDrive/WOLOF/wav_final/c9a84dbe5b6c2d5fb395bd6ad0600b207f5adf5e9838f4e1ea8e03770dfbd44a9cbb8d97cea3d4bb81d1f30dfb8064cbf0dd166fd86ff4cc3ce0d33aadbaf4bc.wav\n",
      "/content/drive/MyDrive/WOLOF/wav_final/229cf51cfb3b9ea72a5ef1880b6ad432e9a094a0eac6d22d5dff4bfd7d2d2b3746c95144631d145bda045127e7040100917925cad7240e337ee8f5a7ffa575c4.wav\n",
      "/content/drive/MyDrive/WOLOF/wav_final/e320b87bee25c351de503919a4fb7c503c37f77f1ad9a2f74f63a8d23886da5aad4a4f2ff3f268603c5f444abf7d466a2713236ae8c6012a8519ac4492d31935.wav\n",
      "/content/drive/MyDrive/WOLOF/wav_final/3752c238210101c6c16d99c74ca2095871cb1f12dcb18ab7de9e8669e35596530b339e33e3961296f1215b5e98a019994d8a3b59c39184c7cccf5ab22ae18f4d.wav\n"
     ]
    },
    {
     "name": "stderr",
     "output_type": "stream",
     "text": [
      " 16%|█▌        | 592/3672 [01:29<04:32, 11.32it/s]"
     ]
    },
    {
     "name": "stdout",
     "output_type": "stream",
     "text": [
      "/content/drive/MyDrive/WOLOF/wav_final/534cef2223bde6c984c503d4775d1be11b6e328a3f4f2b87d18a0558ee2bf53376c3575c0f55d415e4ab2011d7cc59bc3c979965b6a3ee6f5be832232808ebda.wav\n",
      "/content/drive/MyDrive/WOLOF/wav_final/e7d6bb9e44e7cb809114cf120e631267f65526e9047f41a257aa1332a5af01a9837b9b35bb92356a5314408e6046ff1f870dabfb20bd370be4fd99b0137c5e1c.wav\n",
      "/content/drive/MyDrive/WOLOF/wav_final/10d4cfb7b6f0c17ba9b161ed08256aff7d0f230da3385935a2f130f2bf38bf0d73564030017e9afeadd19049d38fa18c119d7e45f63172887328d67c39769597.wav\n",
      "/content/drive/MyDrive/WOLOF/wav_final/bb2e36c796f72f2920fd7485d5a681736d6c4a333d7fce4789616357dc5c031622f11ee2ceae2c8363c7f6ce608ab336cde85bc6be87a9a52f507e45d0f4d731.wav\n",
      "/content/drive/MyDrive/WOLOF/wav_final/09cb580642c4fc63e63cc77b96ede51045f46950301607ca0e852205211453b885748f8dbaf9435ea1d78ddf61f70bcae83fc74d9db2df8b07858292007c6ba0.wav\n",
      "/content/drive/MyDrive/WOLOF/wav_final/e068d120872c0a8b089b7e6fe100b86b5ea5a918c3661e29d5abda6a6f0ecb07b2e5654552aa31abd1786e25eaaad0dceaa15ab423695f0bee75c674cf421059.wav\n",
      "/content/drive/MyDrive/WOLOF/wav_final/a8a4f5dfef0da0ee3b00b321963350564371f43611e782265dbfb1bf55361afd5568671153dcfc86ac2309f552784f233f91bdf504a0225fa05bf6bf282ee091.wav\n"
     ]
    },
    {
     "name": "stderr",
     "output_type": "stream",
     "text": [
      " 16%|█▋        | 600/3672 [01:30<04:43, 10.85it/s]"
     ]
    },
    {
     "name": "stdout",
     "output_type": "stream",
     "text": [
      "/content/drive/MyDrive/WOLOF/wav_final/5a2b7e3b08668aac6835e97a9489ed384ddd185d683fbb1d649284f7b6d7e1efe5b91a3f35539abce2bb0c7cddb8201be65432b96489ee53847f443670199ec9.wav\n",
      "/content/drive/MyDrive/WOLOF/wav_final/fd79b9a5bb635f93c3f849cc2c2bfd03224e7091d679e795a18bd54a5df68d7171967abce33a553dbf301debf153e09215c2fdd6d636ea6acf60dbbb04303549.wav\n",
      "/content/drive/MyDrive/WOLOF/wav_final/a86cc59418ef9ee630b2355ddf8a2ef18c5b235646be7ccb2daace3440ed08b5b103e2f2e43d42e80d67201a85c6d83cdf268f7994e6d2b20127de44c028ff52.wav\n",
      "/content/drive/MyDrive/WOLOF/wav_final/048d8d8be4e1caf81c058db8d9f79bb1725deff218bae5aa430fc525dadd01fd312fbd5a8420747c04dc8c6f24753977904df0a8024b410931a68feb10fcfbd2.wav\n",
      "/content/drive/MyDrive/WOLOF/wav_final/859e143b767c0573528d7ed811c4e03cc9ab72292294a8cf9718a4302b33193b7d32b415ca6572279e7a66990fec0b590c883568a24ed70acb463265b5ea9e58.wav\n",
      "/content/drive/MyDrive/WOLOF/wav_final/1b2b62263c09156defe48d356069169004b02b2b9b0119c9361b317f1c934de9c92fd6677f22884d2a04c732aef6641c5816f321c61f7d2ecf75c0ce16e2374a.wav\n"
     ]
    },
    {
     "name": "stderr",
     "output_type": "stream",
     "text": [
      " 17%|█▋        | 608/3672 [01:31<05:01, 10.15it/s]"
     ]
    },
    {
     "name": "stdout",
     "output_type": "stream",
     "text": [
      "/content/drive/MyDrive/WOLOF/wav_final/bc4b06e0bc73310281dc339a8c06bd2ad776f44f07ff87c311cdf9b8ca43286a490bb508b6684467132f873b7521da7287f9106ae4bb29bfdce88f0dba758a41.wav\n",
      "/content/drive/MyDrive/WOLOF/wav_final/cdd5976d7d6d3e856947c94173f3a720a497acd4c30692f5a9572c5cde05bbb63acece0c665d904ba824b33fc0d2797e9269cbf3a0dacb66deaf53393c357a00.wav\n",
      "/content/drive/MyDrive/WOLOF/wav_final/84557a018bd91e4b66077dea483ca2a71181222a0434ec05e0663c00443ffac5950a2c9e6ff440a98d6bde20b50cfc77742e42629ebd55e4578289d6ab46d538.wav\n",
      "/content/drive/MyDrive/WOLOF/wav_final/efb7c5016f5fba91edd5c81261947bf85cddc5936be2ae85f5d8446aa0992e745f4bff0ce9004037f765137377fb8c3194b9abe6620e3e6b801f09449964eee8.wav\n",
      "/content/drive/MyDrive/WOLOF/wav_final/622110cfa355f5dfdfbfa04e8a263d0a21251200e55b4d73c35f0c65fff7c9f081f013eed111dd2def6cfba7a8cb9326f399a1bda9e9ac9b39963335b7b3ba5f.wav\n",
      "/content/drive/MyDrive/WOLOF/wav_final/14e70e4c4df8ed872571ebb8dcc9a14847b2603e9cb526cdb61bfe2a2a8a49f10c64e467baf3a92f7390be2bd130c102e9782a7a927fbbbbaa02043a7cedc4bb.wav\n"
     ]
    },
    {
     "name": "stderr",
     "output_type": "stream",
     "text": [
      " 17%|█▋        | 616/3672 [01:32<04:44, 10.75it/s]"
     ]
    },
    {
     "name": "stdout",
     "output_type": "stream",
     "text": [
      "/content/drive/MyDrive/WOLOF/wav_final/4f28bc4a48719e466a7955ef1147e4b47f48209f9312d2d8cf40d746936a7d2f06255cdd3236d778c6ef35d7ba4e16457eca45b3e38fa9bfb86ad2112ab156eb.wav\n",
      "/content/drive/MyDrive/WOLOF/wav_final/36fc61b79f4975b14e63df4bc5730a3f8214f72803279f788e4f871dc9ad949e76eced14576a5b966e6cc19803a8023a1571c866a197208c2ee72182cc3c5b28.wav\n",
      "/content/drive/MyDrive/WOLOF/wav_final/a0c9e04e6e733a3940bf7a857d98a018639e2b7a7c12cf05f1714a8e6cff93d56f9c06ffaa6b33449752f6299372ffdc72c8c2302b8bde8ba0e999e7eda01552.wav\n",
      "/content/drive/MyDrive/WOLOF/wav_final/1da86448d8c866631ae17552daf38f8ba62da91a0730ce7f32f7a504314a6979cf5f26692194902e2556f176381ce380b959a1c301b5f4ee124527a004d04136.wav\n",
      "/content/drive/MyDrive/WOLOF/wav_final/785a06487d6e6d62f5970a488bf3b3e689c6229c59d637b4bc189a31f64bbf2ca8e51aee08940f58edc65d26e07fa5e6338626056fded2cd32bf817352687774.wav\n",
      "/content/drive/MyDrive/WOLOF/wav_final/047ed027b225a36597074c72f811490fe6b920e565f37976cacd753d62321c3431629f45361b24353024452e5647085f6bfded287ea5886531befd2b691e4c91.wav\n",
      "/content/drive/MyDrive/WOLOF/wav_final/d86da33daf66022138541d139dc226766582893d6b6b851166378e9fa01bbca780ae4ca11a5707819c3547166ea5c9ead7f0f9e29d3b75ed1d64bb08c501b96c.wav\n",
      "/content/drive/MyDrive/WOLOF/wav_final/c9acee441735200ee8f0bc27cb2a0307ea55bf0db7ea114991e39782fa86b94f8c1d670dee21784232170d6ac34dcf350ecc90cb7b90606c259f5e6657269bc7.wav\n"
     ]
    },
    {
     "name": "stderr",
     "output_type": "stream",
     "text": [
      " 17%|█▋        | 624/3672 [01:32<04:28, 11.33it/s]"
     ]
    },
    {
     "name": "stdout",
     "output_type": "stream",
     "text": [
      "/content/drive/MyDrive/WOLOF/wav_final/9bb4de9d3c272b87b2650aff2d99a7e14315b09563b46c4e959f92f1b6a0e1b4af49f84b1709aa8fa14e15c091b25259e0eaba442a39562b2e56ef34842ed721.wav\n",
      "/content/drive/MyDrive/WOLOF/wav_final/37f98a9a5749222aa861d57e3de1fefa34f89d6e19d85a8fd182c4e62d929e00af2b650a07b2cc60688baa8cc07b453d21b3a31e741355c9319daa386c4a2f0f.wav\n",
      "/content/drive/MyDrive/WOLOF/wav_final/022ed6133506b1e123fed27e445b7ed813e77eba6a191a117cfa15ac21c443dfd034d692a0164a21ed7c7168849b7d3315048e092ff1659e7ea783e07a0a405e.wav\n",
      "/content/drive/MyDrive/WOLOF/wav_final/13db65a12a193718fbec82decf0c8e9d3685879dfcbbdaf19dd1973a70f6a93a76090f4fbf0b18de32d1a2b674736f538f768d5dead4622104e7cff5dd4a86ee.wav\n",
      "/content/drive/MyDrive/WOLOF/wav_final/0c2c4ca0051237774ed6faefd128a5563f9e31e240c0d5d2ea94468eaa6f0d90de57ad0e99076a57735abc13c2d478d7bdd20917814886d895605a6fd0526939.wav\n",
      "/content/drive/MyDrive/WOLOF/wav_final/ad400d400d03664d494fbb59dfefda9810991b88f95aadc55f2f7b747c1c82d2b17f40a9b715fb01eb3b7e74771f9a8ff91eaad36795f6150908044eb063762d.wav\n",
      "/content/drive/MyDrive/WOLOF/wav_final/22090e11185696ce309cf7e03ba08ceb2163276f5c7805153491d3ec3d895178da3865d116410e1a3fc48d81592431789728179ac76bd3de0569171863a4d6f3.wav\n"
     ]
    },
    {
     "name": "stderr",
     "output_type": "stream",
     "text": [
      " 17%|█▋        | 632/3672 [01:33<03:59, 12.71it/s]"
     ]
    },
    {
     "name": "stdout",
     "output_type": "stream",
     "text": [
      "/content/drive/MyDrive/WOLOF/wav_final/ff0c1937aee2bd661fdf17a0df1aaaf30a5b095efb4ed991dad3ad61a4e88f5b3923d5562eab95004594da1d2e4a836ce1d769cee232f08400f1843a44792cf4.wav\n",
      "/content/drive/MyDrive/WOLOF/wav_final/fb56bfc4139f5b0e7cc5b7d961e9d8f15ad458f2fac0b92241558fddc75b7afa0ac78f68f8cfa854893340115f3c0d8cd71dabb2c6fd4d2bc2a7c767d499b3c9.wav\n",
      "/content/drive/MyDrive/WOLOF/wav_final/a626ba6a78dc08e6bcdde15c0e9afd58238657742b3562ce35279926bc595044b89c2d52e65b14737188298821b744f021eba9a8e481f90a388470b829462234.wav\n",
      "/content/drive/MyDrive/WOLOF/wav_final/7a95c2312e84ad8533da5ccf4df1c8c27af849b7217b4711a589aff9962e643b3ab80c88ab92d4819beffb35bd0ba2d3a4f684e29b6dc3fdf8bf74a0a2c8ebfa.wav\n",
      "/content/drive/MyDrive/WOLOF/wav_final/296cfae31a8b669ee02019cea17d9004d32d821e1cefbee4edff92e33671ba81223a6915f9dbba2a6e0718629d53ff8e3a9b1f5ffaf0d0a919f601600e387e8c.wav\n",
      "/content/drive/MyDrive/WOLOF/wav_final/2793e651f8e4d34d8ef8a08e80b103d9c487c1cdbd9e83a74f9dafd8ca60280882b87c5aaeab7c68bf8b1890451256a5e594dd6e77b892420e7a3f72ea979a5d.wav\n",
      "/content/drive/MyDrive/WOLOF/wav_final/1afb2eda6a56d32ef9c6f28d9b8e1cb15c333a996e2f7e74c3a876c41dfb3630c193f650493c8d96b56757c071e083552b7cb50f38f1a9ef96d2b6e2deee38a1.wav\n",
      "/content/drive/MyDrive/WOLOF/wav_final/9c7cc1ab057cd51685d682fba26ff473f37a6bd869fad019547542bbe406a467833d93e5a2cbc432838f046cbf1e528e7a742111e30b2b62b6479d227e08efab.wav\n"
     ]
    },
    {
     "name": "stderr",
     "output_type": "stream",
     "text": [
      " 17%|█▋        | 640/3672 [01:34<04:11, 12.03it/s]"
     ]
    },
    {
     "name": "stdout",
     "output_type": "stream",
     "text": [
      "/content/drive/MyDrive/WOLOF/wav_final/71b2e4127cdbb9b62aafdf8beac3cb0173f2bbc4bb083078564072fdd85a83eab985a28ed73b8aff30a522a58e452e74f87db255c9f62a795fff2f4ce52144b8.wav\n",
      "/content/drive/MyDrive/WOLOF/wav_final/4c76bdb47d7847c1bf0c1793cea48821344aae0cdada4d4a8243d22b5a22b77dd4d62911fc98b1d27737dd6682cfa48ab541019053a9482aabed49d4ea14d263.wav\n",
      "/content/drive/MyDrive/WOLOF/wav_final/f9ded3dbcde5a67220fabdccdf82d2801ea58cc0eacfd9d38b66680a7b6e0b523881675e694de2b4dbdfd06f9f1c6ee7f9a462a211d64065d8a39eec963e4202.wav\n",
      "/content/drive/MyDrive/WOLOF/wav_final/f9bf76dc5208a891f5d403d8ab3522fea9dd83fa6bb97c916e3e254f267ddfc72af37d7a6e32d717d27130f864462c1476a8e0f9dd497d005182a1adefef87fb.wav\n",
      "/content/drive/MyDrive/WOLOF/wav_final/38cffadeb176b9d1f01fb737f3272b1742347c320531825cf92ce13974f28f49453f41ab9096b67e0158dc0deb0d7e203528772834925a77a694297f0ba2ac73.wav\n",
      "/content/drive/MyDrive/WOLOF/wav_final/6f97fa617dff02f50cdbd6c6e122d3730e48b7b619e1366d5047ea5b48a20b321da61be5b8cafcd5ab548198879aae7e87068b9c62eb4a1b5eed2c2497b39559.wav\n",
      "/content/drive/MyDrive/WOLOF/wav_final/d718eb8aab29c7f133767099d3453879fa435c4ed19e24aaffe2ee37dff5049375f1b924021778242e37f7d794713b1448e1e047f1f24c8abf5a61049dc20f95.wav\n",
      "/content/drive/MyDrive/WOLOF/wav_final/a2adea396a1127e4d5eac3d5c1b73239367a7b3e6a2efd155f42c294be64f52150bcf0a5197b6697f9413a3fc5092de3dede0f4799ca0da9b57508c7dccce33f.wav\n"
     ]
    },
    {
     "name": "stderr",
     "output_type": "stream",
     "text": [
      " 18%|█▊        | 648/3672 [01:34<04:06, 12.26it/s]"
     ]
    },
    {
     "name": "stdout",
     "output_type": "stream",
     "text": [
      "/content/drive/MyDrive/WOLOF/wav_final/7948905d265da2207498e51dc94051323c905260cf2be45de307da0655e94541501d398b04f2d830b0d424d24dcb581faddd839af4a8f5512ef8cd2514fca238.wav\n",
      "/content/drive/MyDrive/WOLOF/wav_final/ff989e8092d4038d2d26f93ae155156d88bf97baa5a0838c8685789f1c00799a2113646fb4605415a91c1a9fe2d1a82b6844cf10321f667f1350290e0e3e44e4.wav\n",
      "/content/drive/MyDrive/WOLOF/wav_final/399d88b84093bb81d15140b369a055cb7338bc7d12eb26bef0f8ad07e650fca035c799f6d86428074d7c7158b100796c6ceb476037e79eac82e75bd8d28b9f77.wav\n",
      "/content/drive/MyDrive/WOLOF/wav_final/3395e53515755196b8bcc7a0eb044934c7711303279a58fcb143b3152f3c9c6d35c00dbd2d3e7cc45587acda569a838a04c19e80a4190227248108df22ec65c4.wav\n",
      "/content/drive/MyDrive/WOLOF/wav_final/bb76888388de610860c318e260c0e2b9965430d798ce10a5d8e041151d0df85170ab0b247bcd6b4784d2871b5f627e8bd9754743b2d01f7e7bbf3e4b9bcd1537.wav\n",
      "/content/drive/MyDrive/WOLOF/wav_final/6f1ca346cb8899e48891e50b667189228e4ad1b9750a4d8a598a2e047c0803d48a9536cf7c0d6f30128ae8d2fc35179311caa15ab7641e13eb490f9e338e2ef0.wav\n",
      "/content/drive/MyDrive/WOLOF/wav_final/2ce1ff7efcf981eddf959c0992f728917049b4fabe56d254dd6391225fccbb343fc272b04988a25086686744465ef910ff6793333011b4cd35874477705a1276.wav\n"
     ]
    },
    {
     "name": "stderr",
     "output_type": "stream",
     "text": [
      " 18%|█▊        | 656/3672 [01:35<04:23, 11.44it/s]"
     ]
    },
    {
     "name": "stdout",
     "output_type": "stream",
     "text": [
      "/content/drive/MyDrive/WOLOF/wav_final/f92235f40482d9d662eb1ebaeb1ac80a9fca596dce81d7937029e89ae1d09bbe2f8ae21baae4857198bf183ff075ab08dc0c5cb259fcb1e81560f878b5d4a070.wav\n",
      "/content/drive/MyDrive/WOLOF/wav_final/51570cf36b09a62ae43e8065ed57be0a855027f754dda666e063f8f45ca5426c26f8ef6313572f6561f31c845387be261f4709caa3c954f7370c8e861605c1b8.wav\n",
      "/content/drive/MyDrive/WOLOF/wav_final/b6c2500ac21392b2b1f1b2aee70a563eae9f5e387aaabd2d1cc750549bbf934c629b00783b7ebe9219bfdaae93daca37072917f45a272c542c15217e1e59a58c.wav\n",
      "/content/drive/MyDrive/WOLOF/wav_final/434d49bb03143e940578bd0184668ba895a213acfcdc40a891ca30c889cc004a2bbb5215e711d308dc147b3d6241f848dacb8ef5620e49d99ff0efbfd3043a20.wav\n",
      "/content/drive/MyDrive/WOLOF/wav_final/8a6696cf7055664bf497dfb4a47c3fcace52137e4b527b310dcfb43f213df276efd4e08b282f2d9a4253678a33fb9bd8d2246c944871529e1136e92a7cdd51a9.wav\n",
      "/content/drive/MyDrive/WOLOF/wav_final/5ad725fa8d76bb469bfc21d14813b1a4fd2c790e161dc97ab4d20e5c77fa57ad4bfff9ed8083b00e74ca633578806a4829662c9d35f2d0dcdf1e708440305274.wav\n"
     ]
    },
    {
     "name": "stderr",
     "output_type": "stream",
     "text": [
      " 18%|█▊        | 664/3672 [01:35<03:58, 12.62it/s]"
     ]
    },
    {
     "name": "stdout",
     "output_type": "stream",
     "text": [
      "/content/drive/MyDrive/WOLOF/wav_final/5015bca9e95159206afaf0fe27875331edc11ff92f00253479ca7186f1570634f8f55b7ebf1a1b60e8ab1f806b753d4e60d42a4e229c98ee7f7a52f8c9c23651.wav\n",
      "/content/drive/MyDrive/WOLOF/wav_final/18d78bcf0f91fa11b5399a6fb159943353445d134b3a9766f284f48f35fa56c67307b348868b4f08a2883872bd882a021f77ae45101ae115c17f4604af014112.wav\n",
      "/content/drive/MyDrive/WOLOF/wav_final/30fe41c3fcc53589f05275fb645e3479460202b8717aed8a6fb3e5356d1ddf0bd851786b16983c0257000f895732cea351e4607e1d472b94696597326d48cdc4.wav\n",
      "/content/drive/MyDrive/WOLOF/wav_final/12a8d335389b258daa0b2f19b069ab163dd2a7c9a6ff29cb9783972de6a90b6a1868252d0d8ed64849bb582c756159f00184bdb6c12591077d21a9f25efcb5a4.wav\n",
      "/content/drive/MyDrive/WOLOF/wav_final/dfb2b62a0a45de17a6acd3f1aa10c3bc03af0d586c834d318cf5c4a7380cfdd529ebe0ba8d4409280d98fb4ffd6b496b9a60f3061db896439c12e2a897b2e4c3.wav\n",
      "/content/drive/MyDrive/WOLOF/wav_final/4d649b0f876f459601a483585b4f59376c53f95e6df537eb912d787b1a094d687a32ce2afe744709509a14648e4027d2fdf8c792dba67c17f53f7678002b1253.wav\n",
      "/content/drive/MyDrive/WOLOF/wav_final/59c1260eea52b9cee3382703347e7f79e63c9142121f95876eafbefdf9c3052723ba98f34f941d4f57b3a38ccc374acd94290d1771390f73444b77edce3bd759.wav\n",
      "/content/drive/MyDrive/WOLOF/wav_final/2f526ea721acb74d5fd225d7819b96be37ca3de2ca0530d8ac249f390311e14f4847b5843c3a42b71b3e2a54e7a8938bb43d65c0f7c4b6c931dc5c4db6831cbc.wav\n"
     ]
    },
    {
     "name": "stderr",
     "output_type": "stream",
     "text": [
      " 18%|█▊        | 672/3672 [01:36<04:22, 11.41it/s]"
     ]
    },
    {
     "name": "stdout",
     "output_type": "stream",
     "text": [
      "/content/drive/MyDrive/WOLOF/wav_final/f43d44458c2bdedd8292a21e3ce0b74d3eb4269a33e8c71ac812a7d158b92ce7cf70ca493b652ee68435c9198d20e5444c90326f8e7ee59844ad39531fcbad4b.wav\n",
      "/content/drive/MyDrive/WOLOF/wav_final/7c97965ae0f7372f6d50e795c8c441abc6ff983c821546e46d514b372fc9fa9287b81fc039458243dd20969a3b5bb62932d484d391434ed6fc851c69ab415a39.wav\n",
      "/content/drive/MyDrive/WOLOF/wav_final/98bf172798dc21968473ac46e6231b777690566b772230343b863ce14318ce0e28a16f1d4075dede302f08809a8046ddc873145c8e95702632c3beb8ece248b0.wav\n",
      "/content/drive/MyDrive/WOLOF/wav_final/7a89fb37f2a05a7cdded0dd1dfd408d6c083e8893d27d480e4177a1257ae61b29aaf72b6fc07dddd184e7557acfe47a8c1eaf2ffdf8ded8e5bcdaa7bcd7f581c.wav\n",
      "/content/drive/MyDrive/WOLOF/wav_final/8747165d3f965eb1b1953f1ca301ece4585088abe615a6bc5e80b7b39ee30456000a3e0be6dba61995c7f8eee397b6db0917100dec942bf03fd4069ce528bde9.wav\n"
     ]
    },
    {
     "name": "stderr",
     "output_type": "stream",
     "text": [
      " 19%|█▊        | 680/3672 [01:37<03:56, 12.65it/s]"
     ]
    },
    {
     "name": "stdout",
     "output_type": "stream",
     "text": [
      "/content/drive/MyDrive/WOLOF/wav_final/a060b42f55c4b799e6ac471c8c61565a9ea31b04893a36de992bfbbaffd1d4f5794ee7bda07e8f87b138e53a221ef7ca4af5d97093f48137af31345675e9e399.wav\n",
      "/content/drive/MyDrive/WOLOF/wav_final/75362d79b520211085f9ecd3b6f8cd45dfdd2604be5524bf3a36b147c9eb26644b8de22241c2e7e4261fd90f5d94effd41ef8ec4c8bd403305761993af66c931.wav\n",
      "/content/drive/MyDrive/WOLOF/wav_final/002d664d839e581e4f0b69376f9187d924f082606576eaeac79c80597fe0461595f254686aafac98f6092b2b259452ae9ae793b037d3b1ce951a6b754fe3e009.wav\n",
      "/content/drive/MyDrive/WOLOF/wav_final/3d08eae7637260d74d62c301fbf4c636720813d53a75492001a40180d29e2f805845cf4084b7f5dd26d2c43bbbb267c9566e2909170105ddcf6d3dd95954cdf9.wav\n",
      "/content/drive/MyDrive/WOLOF/wav_final/4afc61e73b3854478d8672d2ae4ca4e2eff7df31b3cdb1313833f2c444e469fc2485b0049f898b4e9cd3320ffce7c6abd70db105194cdef501a0a0fd0ebf958e.wav\n",
      "/content/drive/MyDrive/WOLOF/wav_final/fe9c779dcdad53b735b363d1449a8c9d4e51cf4e91c6a33b905f458fa1b4232e3f294774695cb90692e3de752252c0af40ef2df75f2cd4d57adab408a9ecbe31.wav\n",
      "/content/drive/MyDrive/WOLOF/wav_final/2d1581758c0220a63c90c18f32de3012cbd8b21d5f3395168e18a8057cdb410e7e39243fdf85edaa7013182ef0d846638d5cc7a0992458061cb99d75f7bf7609.wav\n",
      "/content/drive/MyDrive/WOLOF/wav_final/e4d8beaeade312fd9e9f1cb88245e0199d212cb253cb51e3e4fd983fccce5736b04701cb14b00d792c5eb98a9543ea5b73e4a18dac0c2ac2506b7f6e10880a3c.wav\n"
     ]
    },
    {
     "name": "stderr",
     "output_type": "stream",
     "text": [
      " 19%|█▊        | 688/3672 [01:37<03:53, 12.80it/s]"
     ]
    },
    {
     "name": "stdout",
     "output_type": "stream",
     "text": [
      "/content/drive/MyDrive/WOLOF/wav_final/ac3210735ec9ba2a035c0d2f2e671fd0875cda6dfd7a36991141115dd63ae8b5c9fa6d7db02b6415ccad315e94086fadc1878e0209d5e6e4e50e97b132f6264e.wav\n",
      "/content/drive/MyDrive/WOLOF/wav_final/31391fdc8fb2beb8b368bf6221027c7d49a4364a8498995190fb72d77ede5ee405d054ceb4771955f4102d20cb0bf1d50d91cb6efcaf97f014fb06d96d0de9cf.wav\n"
     ]
    },
    {
     "name": "stderr",
     "output_type": "stream",
     "text": [
      " 19%|█▉        | 696/3672 [01:39<06:03,  8.19it/s]"
     ]
    },
    {
     "name": "stdout",
     "output_type": "stream",
     "text": [
      "/content/drive/MyDrive/WOLOF/wav_final/ab4f39f0fdcd76057639aff22bf75adf20839a98735802fe2800b9d8517e55d4038a0e385504a216fdb50360775f92999414784ed4d39c97029cc1a8ecf014c3.wav\n",
      "/content/drive/MyDrive/WOLOF/wav_final/e58ea05485b43c0c7c08d181c0b19550f726c0b384d1917ee6fc7e23dd20fb150b394a9816d9ca30349bcc91512c39f5ceff6bf4675e326a7138127bac40f6ec.wav\n",
      "/content/drive/MyDrive/WOLOF/wav_final/12dd62c11df99db11457fbf783b534a764b1466b5511eb3a06eb6a3d193b228ad0764512e05c41954b227f7ad52fee21ce602f67eb86d4d317847bfb1a1d0a0b.wav\n",
      "/content/drive/MyDrive/WOLOF/wav_final/17cd319bdf72329cf18a2cb66af373718261a412c2ba06def5c9f38e2e54d8f45314ec605f4ddf5fd80f4e15e1843c54cda160d037851f18f90e8e2f0b921c73.wav\n",
      "/content/drive/MyDrive/WOLOF/wav_final/cb80f9472a74242c7f0abf220a6abbb13a5a188bf8d8bae2ff10f83b88c504d0c38abeef034b14ae34604e8f121f17eee99dd020a8ead216620fd00ce87ecebf.wav\n"
     ]
    },
    {
     "name": "stderr",
     "output_type": "stream",
     "text": [
      " 19%|█▉        | 704/3672 [01:40<06:23,  7.74it/s]"
     ]
    },
    {
     "name": "stdout",
     "output_type": "stream",
     "text": [
      "/content/drive/MyDrive/WOLOF/wav_final/5d3b31f92554d23cabed691c85ca6038b38d0e308b44de714396449cd50c8741c5fadc1f6a5c2841c1b47326f061b030b2694dc0bf88c30c0a01b1647550fc11.wav\n",
      "/content/drive/MyDrive/WOLOF/wav_final/a8380da7480b72eca039ab0a0ab195a8fc32b92977f8afaac6f3a5c7a69f2232ddce8af4f6b8c7d84cc3c534670598f551880bc564232645911ce98a480dd968.wav\n"
     ]
    },
    {
     "name": "stderr",
     "output_type": "stream",
     "text": [
      " 19%|█▉        | 712/3672 [01:41<06:24,  7.69it/s]"
     ]
    },
    {
     "name": "stdout",
     "output_type": "stream",
     "text": [
      "/content/drive/MyDrive/WOLOF/wav_final/e728d77697de27a2336bbe62f3af2f3214ff041d321462f0690f763c382cfa9dc7b567f736907efd05eee013f19b375aa0b9763a0c0fc540fa35732ae81d4347.wav\n",
      "/content/drive/MyDrive/WOLOF/wav_final/81aba20a30b1cc3ea19ac0f52f937c268a650179333275c39052f0a98b8e9262e544308fd9b7e7eab2dfec21b8a9327fc9f9be365de6e33dcf4c56d39358a836.wav\n",
      "/content/drive/MyDrive/WOLOF/wav_final/2608a498bac36a8de9aa13ef48a60b91d7516973b3a01d35604ad79103d36486eb8dba9f819fd1d476aa31d86f087e6986a1fbacd57eb5499532d0f355c7c274.wav\n"
     ]
    },
    {
     "name": "stderr",
     "output_type": "stream",
     "text": [
      " 20%|█▉        | 720/3672 [01:43<06:50,  7.19it/s]"
     ]
    },
    {
     "name": "stdout",
     "output_type": "stream",
     "text": [
      "/content/drive/MyDrive/WOLOF/wav_final/ad12c90ccb921d053c5bf0cb6fa73ddf025f5a0d43b36a02035efcce1cbb4ea34a17938051b4a4bd3da07651ace37ac88b65e84e37d20bb2aa651e35b11ae0c8.wav\n",
      "/content/drive/MyDrive/WOLOF/wav_final/282c0d6d979d6fefc1b2f32febcfdb534a3738f92a761aef3bf4f024070f0c2d219a80c67606c986291272802cb31274a6e4b594820736c91424f4d9e78acca1.wav\n"
     ]
    },
    {
     "name": "stderr",
     "output_type": "stream",
     "text": [
      " 20%|█▉        | 728/3672 [01:44<07:12,  6.80it/s]"
     ]
    },
    {
     "name": "stdout",
     "output_type": "stream",
     "text": [
      "/content/drive/MyDrive/WOLOF/wav_final/96dd2c0a469287e6be030f125c1cbe8c0e42404186f6cff50b6d363a8bf5a905ae17e6db3264840b0e51927937b6ba0628d74b6ac9e5c17edee9ab5a0eab607c.wav\n",
      "/content/drive/MyDrive/WOLOF/wav_final/d5ef04f1cd79a61eee1216f8a4405401e9f9d914d1a8e96228be6f806bfae3f14fa2bfa92d0977527597fb263d0f98c7df4033b0e57ffbd8d15b70294f31ed98.wav\n",
      "/content/drive/MyDrive/WOLOF/wav_final/08f909c7244b939d6d96c0f7e5c49237b754503302f3cad40173ff22a8c8c0279ac6e5f9baf963017481f7b7d280744df04f7feef20a0c9d0d1f118b6c454eea.wav\n"
     ]
    },
    {
     "name": "stderr",
     "output_type": "stream",
     "text": [
      " 20%|██        | 736/3672 [01:45<06:37,  7.38it/s]"
     ]
    },
    {
     "name": "stdout",
     "output_type": "stream",
     "text": [
      "/content/drive/MyDrive/WOLOF/wav_final/a48ae1767da5d8a20ecd05cb0a479e74b09a0f4afb88866c43baa761b5d6327895ed5bd6ed689d05c24d9da59395867d179beaecec417920afcaf5f4126bcff3.wav\n",
      "/content/drive/MyDrive/WOLOF/wav_final/d2dddded7e910fd7d81fdfb1769d5f7d64b125ee15acab739cd412c6f27c6b689ae3e46da6399a739ba7cc62b0433890d134b6785159686a7a66c44333ab2ece.wav\n",
      "/content/drive/MyDrive/WOLOF/wav_final/7341c8596b0a221776d61c5c6218703cc5070a8c87e8a7e5089aa870ed6b8aee2108d0955135312b62fb82e7e3e88c9583803efd9159189cc33d49efec84a769.wav\n"
     ]
    },
    {
     "name": "stderr",
     "output_type": "stream",
     "text": [
      " 20%|██        | 744/3672 [01:46<07:06,  6.87it/s]"
     ]
    },
    {
     "name": "stdout",
     "output_type": "stream",
     "text": [
      "/content/drive/MyDrive/WOLOF/wav_final/7c1b28549f763735093eabf5829282552e6465c689609cafb31b85713d0b9c6aae8ebf2abd2ec7fe948840596ae4f02cb7617d4d725201d96684a89a25a75486.wav\n",
      "/content/drive/MyDrive/WOLOF/wav_final/a7bf2fee6ace651ecf1fc540c0458942845ea55f11c8233df405d1838c0c66e0853e160576ba839c42d53775b7d0785f1fae7898e1fae24f705e733145ec3400.wav\n",
      "/content/drive/MyDrive/WOLOF/wav_final/f555375bb2c1b594c84f9cc2a96bde29c8f918f597cc5d63b32733b2f0779871721cc55d60c002a0a5f6df213a4a1a9522e7f699ae3be4a2d7c205171454245e.wav\n"
     ]
    },
    {
     "name": "stderr",
     "output_type": "stream",
     "text": [
      " 20%|██        | 752/3672 [01:47<06:26,  7.55it/s]"
     ]
    },
    {
     "name": "stdout",
     "output_type": "stream",
     "text": [
      "/content/drive/MyDrive/WOLOF/wav_final/870a981d7e2bedd39035af56efe1f7aa4541d7b7d89387c48c17503da69bf2410b7d3a0763ea7047cecc9cf6a1eccbbcabdabad86e1d757a0135857f375e9fb3.wav\n",
      "/content/drive/MyDrive/WOLOF/wav_final/b0cf147c3cc2244f3293864f8aed59ca67d26f09445d073e9dbaa84581359bcb5aa37e2ce9e28bd567b987a1db6fb7224f1311cc1d87f34469cc5b12674dfff9.wav\n",
      "/content/drive/MyDrive/WOLOF/wav_final/634100db75686d2b62c1cfbc80f1f996c30807062596ccbbc1fc59e7e2391496e000f27d9884461805cc1dcb458f5f92e351b897f39ed7047bfa04431840a72e.wav\n",
      "/content/drive/MyDrive/WOLOF/wav_final/f11337f458b7c59a0b55ab405a4741db6b985c1491a32d802d0fda99c11ca9e55342c6e0706b0e5413853edcbc6f1b40766bb909358d3e7161a41b16de94ce43.wav\n",
      "/content/drive/MyDrive/WOLOF/wav_final/86cdf2298df8eec32b746cd5f643962f786aa2eb13e7b354a7fa7c9e7b2ef4ba60930f2ed6ba6670852a95ded8d7ad915804a39c9e26f1370b4a984745477989.wav\n"
     ]
    },
    {
     "name": "stderr",
     "output_type": "stream",
     "text": [
      " 21%|██        | 760/3672 [01:48<06:03,  8.02it/s]"
     ]
    },
    {
     "name": "stdout",
     "output_type": "stream",
     "text": [
      "/content/drive/MyDrive/WOLOF/wav_final/12cf57d57586c04ce3c368e2d054bbe7fc719dbde8800af5c404a18d3aea104ea44c9e89cf8b963b3cc68d60cadb44e8a90bfad3876d3d2d99527d6f2ecc34db.wav\n",
      "/content/drive/MyDrive/WOLOF/wav_final/2f79f9c1caa13db66aeb37d74a5ca963865c3c0f55a2b3a299763d6485b427f7abb156b0cc620147fcf6da0eaa1137ec41de776becfc6e5f928375d75c052635.wav\n",
      "/content/drive/MyDrive/WOLOF/wav_final/603d067c285e1a8fb777884a2d382f236010ea33e5ca045f4b2c0c6fdbae4158b58c02972043a807c5589ac46e95a70e3414a0590f281cd6f9482b2ae2453cf1.wav\n",
      "/content/drive/MyDrive/WOLOF/wav_final/a547565cddc25a88e79834628ba65052f3c6f9a936310bdeed53bb6b53139922162fd103cefbf7c4202f395c06d39f062f71bccf2ee3374e36c60e0ba1b8dc62.wav\n"
     ]
    },
    {
     "name": "stderr",
     "output_type": "stream",
     "text": [
      " 21%|██        | 768/3672 [01:49<06:03,  7.99it/s]"
     ]
    },
    {
     "name": "stdout",
     "output_type": "stream",
     "text": [
      "/content/drive/MyDrive/WOLOF/wav_final/338dc6004e61d0265ee72fa8f748bf0fb869891c71c2bd16bee7cdf8a43963bc79fe94e8b880b44050ee802ba44da121d35e41b1dc575feac433dc81620d4108.wav\n",
      "/content/drive/MyDrive/WOLOF/wav_final/f751777ec9ddccb0e19b9854bae6af1b9540cfd0ce1b503f3b02e0aefd12536c475fccf9fe6120b7b02ab07d7c9fbf9ae1ef56f880b29aa4b8656221f31d1a4a.wav\n"
     ]
    },
    {
     "name": "stderr",
     "output_type": "stream",
     "text": [
      " 21%|██        | 776/3672 [01:50<06:41,  7.22it/s]"
     ]
    },
    {
     "name": "stdout",
     "output_type": "stream",
     "text": [
      "/content/drive/MyDrive/WOLOF/wav_final/2bc1df9919172631fe3c44720c48dec2f5bb92fdd3cb56f4aab69f262ce0a43539ae1fde114edb7ac1cdfae4c2a3c7e98ac1ff09a7ed780c39ce91353e8cd306.wav\n",
      "/content/drive/MyDrive/WOLOF/wav_final/d7f9bac94361e2381a91a2c1357f272d6e7d2fe45baf8931bed3dac29b074a3a38ecd1da06111bd7f87f168ad835a9d36d569a020c0dd970d78a83f855498861.wav\n"
     ]
    },
    {
     "name": "stderr",
     "output_type": "stream",
     "text": [
      " 21%|██▏       | 784/3672 [01:52<07:15,  6.64it/s]"
     ]
    },
    {
     "name": "stdout",
     "output_type": "stream",
     "text": [
      "/content/drive/MyDrive/WOLOF/wav_final/fb68e8ac224f0aed548ac2c1c18cc8a7599d874f2b7715ca75965a789d0e6e1ebed6feef626226458575a6a923f5d3ff7ca99cc2248c0949d4e22cf47269e0b6.wav\n",
      "/content/drive/MyDrive/WOLOF/wav_final/57ef06c0b7edcca209d788f831b67bf7331945a083cc8312a925a2f941abfc347e5426f5532a9ec8b39a624c20cceeb9d6680c2818a4c5bf866b111dbc1769ba.wav\n"
     ]
    },
    {
     "name": "stderr",
     "output_type": "stream",
     "text": [
      " 22%|██▏       | 792/3672 [01:53<06:41,  7.18it/s]"
     ]
    },
    {
     "name": "stdout",
     "output_type": "stream",
     "text": [
      "/content/drive/MyDrive/WOLOF/wav_final/fdbee0cac196682e0f5f2798fb19f11159c57b02b0519c421e9682046c9588a8efa92f34bd6d197a238bc2327dcb20036c2dcd99b370945fb1266a0e4042eee9.wav\n",
      "/content/drive/MyDrive/WOLOF/wav_final/110fb9589d1b95665c870a9ae82262edd652c1397a80ae7b8e1531dd8a2c9a87af23dfb0e7912828bcc0329cb64ce61ac14f33b17a8055c6a004a94ca33e24e5.wav\n",
      "/content/drive/MyDrive/WOLOF/wav_final/54e8a00e08ecf495b55e76d6992ef106aa323faa5d9f7444f8b3d92a70086ab7bb0e042732de0171ced0e92237b51ba5279f34c0e00603d0bb04fa6db4a01fc1.wav\n",
      "/content/drive/MyDrive/WOLOF/wav_final/90dfb8171ad0413bf4dfdddf8b9b0788aa3a6be8eeeab3f3ae031b6e2af37ed4dd85895fa8284c80154515ec70db39dc0505d7a83314fc0dd8020f8482f7bdb7.wav\n",
      "/content/drive/MyDrive/WOLOF/wav_final/10b9be401b85afafff3c1bf7ab4d6ba09d34fd4d4aea7b46b497c9a601d6ef39f4a47fe68b06447037769d96970739dc70a996dd967e06319ebe0aa24acc68ac.wav\n"
     ]
    },
    {
     "name": "stderr",
     "output_type": "stream",
     "text": [
      " 22%|██▏       | 800/3672 [01:54<06:31,  7.34it/s]"
     ]
    },
    {
     "name": "stdout",
     "output_type": "stream",
     "text": [
      "/content/drive/MyDrive/WOLOF/wav_final/dd6e17915153a89304ea6d2a5808c68ffcdf3d806180d71df82ad749e6c347a59dd4c5c5b6c1a3151597d4c02bf245c244d41b68713bcc02e439e16e64d7cbba.wav\n",
      "/content/drive/MyDrive/WOLOF/wav_final/0b61cc07f0b9b4bf947f7bc3f0d03a3f62e9fa59ad345a1457027d7838d7685f23f4ce16cfd338bb16ca081fe96f6e8881a3e8bb6c9b42e59e478b36e6d4d90d.wav\n",
      "/content/drive/MyDrive/WOLOF/wav_final/d692808532ecc7787ee972067c549dda52e4fc9a12659a85f6c54b25eb355a9e20b47d3af79d927128c5cf9893752815026c90ae212ccb70b69f0fc824c7e621.wav\n"
     ]
    },
    {
     "name": "stderr",
     "output_type": "stream",
     "text": [
      " 22%|██▏       | 808/3672 [01:55<06:30,  7.33it/s]"
     ]
    },
    {
     "name": "stdout",
     "output_type": "stream",
     "text": [
      "/content/drive/MyDrive/WOLOF/wav_final/2ddd348ac7b19d3fee55836628fc0ef8d0ee5d00bfea377154b3d3d0c1485fb6bc2a8ca13356a24e7c5e3386e592a3da0737fb07a371a54818ab6cde3af22866.wav\n",
      "/content/drive/MyDrive/WOLOF/wav_final/ce138deddb2dbdf7b6c098f9c868e2ba34fd925ac913857ee719e053990ade05ea3d500c376207ac5b87c8ce9c1c4dcd2450570065103b259f4262e2a3c53a02.wav\n",
      "/content/drive/MyDrive/WOLOF/wav_final/1e7bdc242f3238d5f5a2595cefc7f748f77a8cd201b5a7f0a88f8e61005654d9288fd01751b8a0a3d2553ed7e0c961aeca6d8b6d50516f46355e1b0e75826ec0.wav\n"
     ]
    },
    {
     "name": "stderr",
     "output_type": "stream",
     "text": [
      " 22%|██▏       | 816/3672 [01:56<06:34,  7.24it/s]"
     ]
    },
    {
     "name": "stdout",
     "output_type": "stream",
     "text": [
      "/content/drive/MyDrive/WOLOF/wav_final/31a93991f0be3cd7f4478a1d4f09855aafa30351155c2fc3f273ee4ab498d523949d8e5a15e2c2cf9388d745f0a81e471699ca6c0cffd53182fd6af5e91009f5.wav\n",
      "/content/drive/MyDrive/WOLOF/wav_final/3589ff1797686265845a9af2dcb5e091e3d3e9050c7dff1f600f8681cfb7256c73b853e87b8c285daf404bdcd0affb0bf0e5bfd82076f0203a6e7b393d4f83f7.wav\n",
      "/content/drive/MyDrive/WOLOF/wav_final/72d39b35704fa55b9bc48bf6899165a3efe8ac4c4f7be796948b0caf0516cd7acb123302288df577abb9b6d1d6c88a980f57c914ed469d5448e020b8d123c901.wav\n",
      "/content/drive/MyDrive/WOLOF/wav_final/143ad094a8ba9aec65422583f7ef313a0d19d647147ff8b4b87013c1e52eefa23b5e5d6b3b4d0e760624aff873d36af168df54d13977c9d8e9929e68ce975d41.wav\n",
      "/content/drive/MyDrive/WOLOF/wav_final/2abfc86b91deaf25efba6f055f4a2b2182863eb68ba90fc7a4fcf2cb58a020f37e395d0b86419ede26d1b57dc7e82b23a77afdf639453af5bcded41169b2b26b.wav\n"
     ]
    },
    {
     "name": "stderr",
     "output_type": "stream",
     "text": [
      " 22%|██▏       | 824/3672 [01:57<06:29,  7.32it/s]"
     ]
    },
    {
     "name": "stdout",
     "output_type": "stream",
     "text": [
      "/content/drive/MyDrive/WOLOF/wav_final/847d7de5b18e796e2e130ae079143db182ee03d35a1829c5f82b99ab1600ad811ac2610a4ca27ecbfd9599df7218002d028983df3c273d4b93cc38aa4cfe492a.wav\n",
      "/content/drive/MyDrive/WOLOF/wav_final/5e1a2cdf5d64fd2bed0f1d7aed9f9154bba9ab657fe7ac63574e066f5778f30b4e940b7fc7553c8770a0284fff326fbfe7337aaab908f250b8b586bc60fd5638.wav\n",
      "/content/drive/MyDrive/WOLOF/wav_final/245c9a9b18f383017d96cd501168134e27a5ae39f5341b995b7e429a3877bfad76f1f30dc0530b0d97ee88503347764bf3e2bb03c4bfe27afc7447ed6ab7c33c.wav\n",
      "/content/drive/MyDrive/WOLOF/wav_final/0599510ceaa8f82c9c8eefd745d99e6ef942a20f52b7f791a219781f71e246f56263640e54797a5561b1de98531d30b3a9717b9018e1d68a58607986ffcef743.wav\n",
      "/content/drive/MyDrive/WOLOF/wav_final/e10ab68153fd68e505cec7cd953a7e61d61aaca0472f2aeeb93bbbc0df46a7bbe74789526f22ef277d4d0ee51a9bece37efae8b7a7fc44c64b617f32f630cbbc.wav\n",
      "/content/drive/MyDrive/WOLOF/wav_final/ed23e94c820e823484468112a99c54f7af17b4166e73ebf973d7c962952fde7669c63612b5794a8f867116604c9213db823051a86cb51262357a0383aaeea9cf.wav\n",
      "/content/drive/MyDrive/WOLOF/wav_final/95e3478637e2c5719d87f7831e97870cad6c0b58613a1d1a824f5737dd545d2d22a5984638bee03e9f0fe5c70d5ee7d3109ca40f1ce0c9667563fde7963e1b5b.wav\n"
     ]
    },
    {
     "name": "stderr",
     "output_type": "stream",
     "text": [
      " 23%|██▎       | 832/3672 [01:58<05:34,  8.49it/s]"
     ]
    },
    {
     "name": "stdout",
     "output_type": "stream",
     "text": [
      "/content/drive/MyDrive/WOLOF/wav_final/845b1580d38ebb79fa740b5fc5be3a576cdc55ffeb5fb28ab533e4ab4ae905673be2be31fcca12b05e7eb98aeab3618aabc34cc216d2741eac5d51784bb0d1ae.wav\n",
      "/content/drive/MyDrive/WOLOF/wav_final/3ec267e4ba3afed4915f49714a23fa0cb8868760d6a31e1eba99dd72e2a3814c28f0269927879a9237a1ae057b3a9da74c0081d454d6d47b72965bedce20ccc6.wav\n"
     ]
    },
    {
     "name": "stderr",
     "output_type": "stream",
     "text": [
      " 23%|██▎       | 840/3672 [01:59<06:49,  6.92it/s]"
     ]
    },
    {
     "name": "stdout",
     "output_type": "stream",
     "text": [
      "/content/drive/MyDrive/WOLOF/wav_final/431aa98bffb4b91922eb86405b6d11bf79a958a843d293c82ff61e3cfe2c3c8bd14c2ec9bb152803b2b15d1938167bb80fa9eaed4f6bbee669423d135228ab2d.wav\n"
     ]
    },
    {
     "name": "stderr",
     "output_type": "stream",
     "text": [
      " 23%|██▎       | 848/3672 [02:01<07:08,  6.59it/s]"
     ]
    },
    {
     "name": "stdout",
     "output_type": "stream",
     "text": [
      "/content/drive/MyDrive/WOLOF/wav_final/c2ed870c158727a426d6a0c316b6ee60baf016ec2740c5528dd9869064a8c03193dcafaf437332fbe938860630ff06967ff5b6b53005fe314add3c5678dc0763.wav\n"
     ]
    },
    {
     "name": "stderr",
     "output_type": "stream",
     "text": [
      " 23%|██▎       | 856/3672 [02:02<07:14,  6.48it/s]"
     ]
    },
    {
     "name": "stdout",
     "output_type": "stream",
     "text": [
      "/content/drive/MyDrive/WOLOF/wav_final/84370eea44d30a5131a80e4e68441df682ad7922d96a63d7e1c97c89805a310cc9c9968ad9dd342b802f3b78c34e10e930498191f9f717b44f62920e3de8dc37.wav\n"
     ]
    },
    {
     "name": "stderr",
     "output_type": "stream",
     "text": [
      " 24%|██▎       | 864/3672 [02:03<07:54,  5.92it/s]"
     ]
    },
    {
     "name": "stdout",
     "output_type": "stream",
     "text": [
      "/content/drive/MyDrive/WOLOF/wav_final/781dfbbbdc4d13f179a3c84e591c1407c9a343a902677a02c44e0619b39715a8ef97d35d9e99014afbbe60a6b596ee59bc49ec7abb9e588f696ecc78d1e11ef3.wav\n"
     ]
    },
    {
     "name": "stderr",
     "output_type": "stream",
     "text": [
      " 24%|██▎       | 872/3672 [02:05<08:05,  5.76it/s]"
     ]
    },
    {
     "name": "stdout",
     "output_type": "stream",
     "text": [
      "/content/drive/MyDrive/WOLOF/wav_final/b168019aca0b69aca91c1a8e47e549d6db293061adfde5e3339967d229ed836fd654d602fda1a3922d34b5e66b46597a0642929e1359aa937133282db76ccd9e.wav\n",
      "/content/drive/MyDrive/WOLOF/wav_final/59c3386c5d1bb1ac7bd13d4085f8559091db020a81bb91044e01ec2f5cb0ec2f4e07a37cbd24aeb7c42eb27d2ac49f1bfb904ea4c9f07c5fb33acda7690dd203.wav\n",
      "/content/drive/MyDrive/WOLOF/wav_final/8ab10082809250a69c3ec25a0ed752ede888a4f0ba9e1115230de8c899794cd5e73a27eceb73f586ba04f63394ad5a140bf3ad3c05424dccc4023b9164ff7221.wav\n",
      "/content/drive/MyDrive/WOLOF/wav_final/6af564318d1fafcd14cae2b636cbaf185093d23a8020693d4ac4342a417aba2db9fdef6e1836423a31727a9d32dbd2dfe951e4efabf6b5a2f7f07f6d96dcd2f7.wav\n"
     ]
    },
    {
     "name": "stderr",
     "output_type": "stream",
     "text": [
      " 24%|██▍       | 880/3672 [02:06<07:20,  6.34it/s]"
     ]
    },
    {
     "name": "stdout",
     "output_type": "stream",
     "text": [
      "/content/drive/MyDrive/WOLOF/wav_final/e572e73e71c4d15054ed608b9ca611467043f3b8ee614d5601504466e394701094ade31e5dd612939083a5c5a7be325071f1923d4cfa66c2007f0c7d1a38bad5.wav\n"
     ]
    },
    {
     "name": "stderr",
     "output_type": "stream",
     "text": [
      " 24%|██▍       | 888/3672 [02:07<07:41,  6.03it/s]"
     ]
    },
    {
     "name": "stdout",
     "output_type": "stream",
     "text": [
      "/content/drive/MyDrive/WOLOF/wav_final/39d9e56f4d063d4ae5204e8d6b7e8694d3b1f5d879e73df43ce761ee8d4723516890bc87360a35f44ff5fc5c19ecc843ded346416e60cafa911f9e384fb1eb1c.wav\n",
      "/content/drive/MyDrive/WOLOF/wav_final/df6a070a04e8f6eb814f0c166c9b852f5abd955d4ea5cc2466bc925c5d332a73b85f98d3430600daa32143666407142a6963da07869b28bde9ab329d20ac3b89.wav\n",
      "/content/drive/MyDrive/WOLOF/wav_final/c7150e788abebd60ad133e6c2e028a6022b439a0d8303a56f1188759ffbb817780613b25541e503f5e0aa0882dd2a88a83fe79dbed948a26634925f7d3f98064.wav\n",
      "/content/drive/MyDrive/WOLOF/wav_final/ed6c04fd6ff14b57423223f6f86aa0db9de6fb0d77c1645ad0133739038c1c72652d90aec7235ca44aa3a02fdd5870c09db271b261373b40ffdc9adbef0687b4.wav\n"
     ]
    },
    {
     "name": "stderr",
     "output_type": "stream",
     "text": [
      " 24%|██▍       | 896/3672 [02:08<07:15,  6.38it/s]"
     ]
    },
    {
     "name": "stdout",
     "output_type": "stream",
     "text": [
      "/content/drive/MyDrive/WOLOF/wav_final/2df792b9c7339c69f112b02b8b636cb33d2b062e6ff1d6ee1859fdf4398ddde929c906efd4ef02a50b47a24228c85b9d93759e43824111a8dff2db701472e043.wav\n"
     ]
    },
    {
     "name": "stderr",
     "output_type": "stream",
     "text": [
      " 25%|██▍       | 904/3672 [02:10<07:18,  6.32it/s]"
     ]
    },
    {
     "name": "stdout",
     "output_type": "stream",
     "text": [
      "/content/drive/MyDrive/WOLOF/wav_final/ade68feeff6b29f70f8f80503328b23e0b350783ecd74064a4ac998de46eb664de284774850223f3ddcf0a27b35fc00033cb7610c6660ef51fb62e58273dfbaa.wav\n",
      "/content/drive/MyDrive/WOLOF/wav_final/034983927a5b74ebf5ad9faa403ade638f6221427fdcc6713ecf04b3da813c0811b5392e93368ece2c0e49cdce18f652c69e21504bf5ccbcb88f36e864d8de53.wav\n"
     ]
    },
    {
     "name": "stderr",
     "output_type": "stream",
     "text": [
      " 25%|██▌       | 920/3672 [02:13<07:39,  5.99it/s]"
     ]
    },
    {
     "name": "stdout",
     "output_type": "stream",
     "text": [
      "/content/drive/MyDrive/WOLOF/wav_final/526548d326012347d1f87860785e07375b9a1341a23d9f36f69fabcddefe83a1d4c9e3c9553408e34469fb85f5264b4b7898b58884b45fe3ba846c1c7407be16.wav\n",
      "/content/drive/MyDrive/WOLOF/wav_final/e3f39ea38e4ff3f8032545165a07c2f48832b739569d99181a367292a62427c10277c65d87c36c8733d09e55121e7afff7cabed31f3a767194b78e53717965a3.wav\n",
      "/content/drive/MyDrive/WOLOF/wav_final/39dcb57c2bb94c0dd9444a80be7bee01e3393154015a57ff4789618d4feac56b2e973e7f82a3330603af9d7aef8d79a79734b883afe03b5f68334199a275a5fc.wav\n"
     ]
    },
    {
     "name": "stderr",
     "output_type": "stream",
     "text": [
      " 25%|██▌       | 928/3672 [02:14<07:16,  6.28it/s]"
     ]
    },
    {
     "name": "stdout",
     "output_type": "stream",
     "text": [
      "/content/drive/MyDrive/WOLOF/wav_final/70ae7a9d1b97d276af904efb5eeaca7ec40e58674b56be2407f3cb36ee2ec84213541d7a6b5a3ca6fb15f73d25b85ba6edba328231661a711bf69910051fdfcf.wav\n",
      "/content/drive/MyDrive/WOLOF/wav_final/b94406fc0d7ab631c488a665c714a88938af002b68837df0fb10fb5b0e96f5fc78610d88c3c60db75ef53e96d44debfe34e911764300f9a75c4d7f2e9cc84afc.wav\n"
     ]
    },
    {
     "name": "stderr",
     "output_type": "stream",
     "text": [
      " 25%|██▌       | 936/3672 [02:15<07:23,  6.17it/s]"
     ]
    },
    {
     "name": "stdout",
     "output_type": "stream",
     "text": [
      "/content/drive/MyDrive/WOLOF/wav_final/1cb6795caebb29dfab0edf64653e5e731d1ff927994d7ba03c1f88c9201977be68db6a199913cdf18c545625d8b44393912ceda1d992e2e53f2c5e5311994850.wav\n",
      "/content/drive/MyDrive/WOLOF/wav_final/80b3cd953958feef2a4081821a15affb53dcf7cc6710bb491f22a8d5e7cb2c731926519b4badf8bdd5cba15d40bd19a7195f405ef18b854aaaa3b0133ce822ea.wav\n",
      "/content/drive/MyDrive/WOLOF/wav_final/7851f6c1d7428e342f7c1e76c8f893e58ef78f165543c6826c44528d57c6255818d03bdfde9415d74e791c856d85cea318322fa8dfb00ad09a99d177d4776c01.wav\n"
     ]
    },
    {
     "name": "stderr",
     "output_type": "stream",
     "text": [
      " 26%|██▌       | 944/3672 [02:16<07:00,  6.48it/s]"
     ]
    },
    {
     "name": "stdout",
     "output_type": "stream",
     "text": [
      "/content/drive/MyDrive/WOLOF/wav_final/c5522df701c23075f5ececd87633103e7e062f1da50dd491c54c3872bb89a597f78c078e91e01b79aea2819350e160d56b4cbbc229bfab6a5ef411dc34908159.wav\n",
      "/content/drive/MyDrive/WOLOF/wav_final/77c9aa58fce329c700f83b54b57b4a778da23ce6fbb51b5ea9801713c9c2827352a0773833a7c34d093bae7122ba5e46e3972b5c9d28caedb7a757f377587028.wav\n",
      "/content/drive/MyDrive/WOLOF/wav_final/d8b1326bc432a4cec05160f3cb3e1b2eaa4e366ca0958dbc63008a55e0ab7ca770fd0667858cd4ea21b5b120518429b1e95a599593fbfd340a6a569a3455adfd.wav\n",
      "/content/drive/MyDrive/WOLOF/wav_final/7a9a64308fe2edc316a24373deae59cbb7c8afb61b0b7a1e2c3dee48d550686a5caada678decb72214a31dade12f0c8dbb7f17a502b44dca4fe8c37163b05daf.wav\n",
      "/content/drive/MyDrive/WOLOF/wav_final/94ada74b8a61cb2e5114452150f18a79cafe7c794093648827c32d09602f3cd38b0841a7513cec0c7fb7d6f8a2268c74201bc4abdb3d3a6a6245e72dd30469e4.wav\n"
     ]
    },
    {
     "name": "stderr",
     "output_type": "stream",
     "text": [
      " 26%|██▌       | 952/3672 [02:17<06:48,  6.66it/s]"
     ]
    },
    {
     "name": "stdout",
     "output_type": "stream",
     "text": [
      "/content/drive/MyDrive/WOLOF/wav_final/f45bcfe5633c9df74063f1c56656839149087c60e98276939d363bf80f56c98a3800418b0b01acfb9e1a0b2a4f7ad6de2fcf7fe1975bced18d9bc9c905b7f32f.wav\n",
      "/content/drive/MyDrive/WOLOF/wav_final/15946316f6e6ae9fb4a16b92d1c65829186a017e2d4b8237627a866e09d53046fc9d1a2e20c2741eea0ecad1fc29a8d26b213012e45190aa5b7e1b6ecd76f063.wav\n"
     ]
    },
    {
     "name": "stderr",
     "output_type": "stream",
     "text": [
      " 26%|██▌       | 960/3672 [02:19<07:19,  6.16it/s]"
     ]
    },
    {
     "name": "stdout",
     "output_type": "stream",
     "text": [
      "/content/drive/MyDrive/WOLOF/wav_final/7ab9895f7399adb4a235b170a71ff0e919a1b4e3f42d6f1d0f24f69adace996f070eeae82e4aef09562df5285d83201aa6037cd8018488686edfd6ab1fee70ad.wav\n",
      "/content/drive/MyDrive/WOLOF/wav_final/806ef4653bcdda922f56fd9c960e536f10499e42386c862c0b68c197d6e235251a05797afe6cd869be3f7f517e31940e296c92fb637dc77a40a42d6dea282e0b.wav\n"
     ]
    },
    {
     "name": "stderr",
     "output_type": "stream",
     "text": [
      " 26%|██▋       | 968/3672 [02:21<08:01,  5.62it/s]"
     ]
    },
    {
     "name": "stdout",
     "output_type": "stream",
     "text": [
      "/content/drive/MyDrive/WOLOF/wav_final/4820cbb7b0d83f713273a5649a63df871e0243c63e61df2bfa6c061bdd82d1a23f20d4ae60335a1ce44aa7c95713944eda7a56d6e572a9f998b02c546263f305.wav\n",
      "/content/drive/MyDrive/WOLOF/wav_final/34f8c010755c1bf21eb68b5ab460bd05cdfb045f4244c396a25ea57a264a79bceef2994fdd950cb8602eacbe2713ae40a95787f37eab3d8967f9daf6bd748305.wav\n",
      "/content/drive/MyDrive/WOLOF/wav_final/7ce2c8d1e86614ee3aa28c7c3bc62bca5a2cd7b009d8c590eeedab46a801827601d0e120ae01bd95f8d9d8a0791fe2f53aab8127438a83468ce84263ae6c9ebc.wav\n"
     ]
    },
    {
     "name": "stderr",
     "output_type": "stream",
     "text": [
      " 27%|██▋       | 976/3672 [02:22<07:30,  5.98it/s]"
     ]
    },
    {
     "name": "stdout",
     "output_type": "stream",
     "text": [
      "/content/drive/MyDrive/WOLOF/wav_final/2a1f3142f2cfbada47031c71f058bf941df974c4255bc57dcadb0d28a665b23d7dd28e2b466fe67515784cbe89644a1458f42b7c711d9231d9b9bd1a49bd26bf.wav\n",
      "/content/drive/MyDrive/WOLOF/wav_final/51a6c048ee75f4646f29236fe2a189f3057d91d930a0a43827ba653a44e8ee88745eac1d164d9694c3a3b418a554260ef021105818970a821a3b2adf5d02e68c.wav\n",
      "/content/drive/MyDrive/WOLOF/wav_final/063e1a97cf4ba8ca7137dc559aadb4091629eb7b4814c0e85e5b5c878ef102ed061d90697c125756e41b848218cba71e2a2f44ce9ba50fb79da17f6d1f95d9b8.wav\n"
     ]
    },
    {
     "name": "stderr",
     "output_type": "stream",
     "text": [
      " 27%|██▋       | 984/3672 [02:23<07:06,  6.31it/s]"
     ]
    },
    {
     "name": "stdout",
     "output_type": "stream",
     "text": [
      "/content/drive/MyDrive/WOLOF/wav_final/cf607e612a7fca7ced869534b910e62332c483448f42f4778f502b30786749e331865555995b06cf59408f09ebed5c93a1cfc7622aa19479a892923d1535a9ad.wav\n"
     ]
    },
    {
     "name": "stderr",
     "output_type": "stream",
     "text": [
      " 27%|██▋       | 992/3672 [02:24<06:33,  6.81it/s]"
     ]
    },
    {
     "name": "stdout",
     "output_type": "stream",
     "text": [
      "/content/drive/MyDrive/WOLOF/wav_final/6e82bb9d4bf8b035c328cd491207fbb41edf8e6200a0f07f9d8e09bd4b679d7f6ee529455b6d4965110c72cef8c44757e8dbed5688e6493d5bdcd210c9075993.wav\n",
      "/content/drive/MyDrive/WOLOF/wav_final/af63b2942ef6e2f97743d70ce7fdd8a5a24cdde0ccf7c084fbb312bd4a095f0c4c69e80905fec1c5452281cd765358ec10af138cabd7ddb9f6f4dd9c21bc8983.wav\n",
      "/content/drive/MyDrive/WOLOF/wav_final/0f057360ed04087f14ce9dea5edb5228db0bad9aca3b7cf9d01ad1af2e002242ee7e711ff2fbef82ef94ec5e2c7286b686829f347f46808d52c69da3bdccc390.wav\n"
     ]
    },
    {
     "name": "stderr",
     "output_type": "stream",
     "text": [
      " 27%|██▋       | 1000/3672 [02:25<06:58,  6.38it/s]"
     ]
    },
    {
     "name": "stdout",
     "output_type": "stream",
     "text": [
      "/content/drive/MyDrive/WOLOF/wav_final/67d2dd1626911ed19c1f922779a96dcc8528745d19b0e3a3de5e605165594843a0c7432e824cfafe82ac7483d899d1fb39920aad401e231070b6522268f85ae9.wav\n",
      "/content/drive/MyDrive/WOLOF/wav_final/c3dd0bd92f1826674e9009ef4405fdd8ea0cf78097391e7d1bcb378ab3caca5254e11f2e708f77d1ee0c60010680986873518904b00d8a2cc6d63de5c6e4c3db.wav\n",
      "/content/drive/MyDrive/WOLOF/wav_final/b90f14460f4648af04cd6ac70fbecb6e0218a96d50e5e088ad9603b33f3a0cdd17b87427517f0eb7fcabec069d2a761cfd3fff9fcb46e0de9793f5cefb9d6131.wav\n"
     ]
    },
    {
     "name": "stderr",
     "output_type": "stream",
     "text": [
      " 28%|██▊       | 1016/3672 [02:28<07:46,  5.69it/s]"
     ]
    },
    {
     "name": "stdout",
     "output_type": "stream",
     "text": [
      "/content/drive/MyDrive/WOLOF/wav_final/0266e6e8f354f4a241b744a64a226d24b90aeef8160ec86c9b32d2bb71da51d34b2f86e1154b8d0af1f1aa54378f3da8b229707e25b38312d75bd440f09a9250.wav\n"
     ]
    },
    {
     "name": "stderr",
     "output_type": "stream",
     "text": [
      " 28%|██▊       | 1024/3672 [02:29<07:01,  6.28it/s]"
     ]
    },
    {
     "name": "stdout",
     "output_type": "stream",
     "text": [
      "/content/drive/MyDrive/WOLOF/wav_final/59b67a812bbaf201232573d7a05f3c4326ce7262a9d533da4993158cd4f3d0f76027a1e5fe257b58e3d11749d1500c53684521ee806fd828440d630c5a3bc618.wav\n"
     ]
    },
    {
     "name": "stderr",
     "output_type": "stream",
     "text": [
      " 28%|██▊       | 1040/3672 [02:32<06:58,  6.29it/s]"
     ]
    },
    {
     "name": "stdout",
     "output_type": "stream",
     "text": [
      "/content/drive/MyDrive/WOLOF/wav_final/cebafd001fbbc0a4107aeb3e8dcc4eab7fa3fc3dd30686207fb925320da9fe2562d0ff5d45f5adf27a5309051e712ee493697fd56ef0adfe9d39a9c378cef57b.wav\n",
      "/content/drive/MyDrive/WOLOF/wav_final/61ca9f24a4ff08673a28c845b21c1ffd3e4c93f9aec19fd8dc0800211787c59376ee4fd0e85534ea37ddffbfe3fe7d949417b43f5b736d885f54597f5983ba5b.wav\n"
     ]
    },
    {
     "name": "stderr",
     "output_type": "stream",
     "text": [
      " 29%|██▊       | 1048/3672 [02:33<06:58,  6.27it/s]"
     ]
    },
    {
     "name": "stdout",
     "output_type": "stream",
     "text": [
      "/content/drive/MyDrive/WOLOF/wav_final/9a3d6c18e45f7d9e2c6934610f7aad75c42b346044736587635f45c79a01753fbcbe805a51bd3699213e5bd27d43b084034fa1b86a75b7ee8359f881ed35ff6d.wav\n",
      "/content/drive/MyDrive/WOLOF/wav_final/66e42340d0e1f904d52ea34336a550f5d92a4331e3b7a20196a5d9f179bb52dcbb1525f0027100cea615efb46db9b61401f71599e66c6238505b8cac81c33c30.wav\n"
     ]
    },
    {
     "name": "stderr",
     "output_type": "stream",
     "text": [
      " 29%|██▉       | 1056/3672 [02:35<07:54,  5.52it/s]"
     ]
    },
    {
     "name": "stdout",
     "output_type": "stream",
     "text": [
      "/content/drive/MyDrive/WOLOF/wav_final/46ed4053f45abafb6a11aa491d0d95c2a8937bace18f9039813d46cd3d9d2a8c507e308900658f89be94b7a70dd9500be1311329c7c3889b582621f1f7ab3e9d.wav\n",
      "/content/drive/MyDrive/WOLOF/wav_final/d12878ed8f950ed571db43126e86190a26957b4c04773d4b16fd9d54c03bc7b3dd2a594e592a0fda6722941a887a5271c2ae4baa47dfe60177978bfff3553f99.wav\n",
      "/content/drive/MyDrive/WOLOF/wav_final/9bddfe9642db0559c0206da0503f301f9b6cf86d7caac28843ed5d99becbe8e1a853b0a73766f62db2586f84181ea984749799d4f130af227dbf4e4aa86bc227.wav\n"
     ]
    },
    {
     "name": "stderr",
     "output_type": "stream",
     "text": [
      " 29%|██▉       | 1064/3672 [02:36<07:39,  5.67it/s]"
     ]
    },
    {
     "name": "stdout",
     "output_type": "stream",
     "text": [
      "/content/drive/MyDrive/WOLOF/wav_final/1f328d75bbe2f59d23e329fb655ccf547586020629fd6dba02abacb6f89063f4705b82bb8a92bb723acb3d6a93ced7e8e27d54a87d2ed1d0e14c94944e90ee2a.wav\n"
     ]
    },
    {
     "name": "stderr",
     "output_type": "stream",
     "text": [
      " 29%|██▉       | 1072/3672 [02:38<07:56,  5.46it/s]"
     ]
    },
    {
     "name": "stdout",
     "output_type": "stream",
     "text": [
      "/content/drive/MyDrive/WOLOF/wav_final/313ea9cc9e31439661edbc2fb3fce4f8c024c8a3cdbbaba19f8eec4fc22155dc8de34144e27f8e56e88d3abb5a94f5f06fb5faae124c9488edbf01ebcc043726.wav\n"
     ]
    },
    {
     "name": "stderr",
     "output_type": "stream",
     "text": [
      " 29%|██▉       | 1080/3672 [02:39<07:38,  5.65it/s]"
     ]
    },
    {
     "name": "stdout",
     "output_type": "stream",
     "text": [
      "/content/drive/MyDrive/WOLOF/wav_final/9a5baf44093c774d6b5b39674447df1d8a910ba696f18675c6586b8cdaac0e6ec8b94a0df0cbaf82c3baec3dfc7ac87c409060c4bdee8707167ee939d64f46a7.wav\n",
      "/content/drive/MyDrive/WOLOF/wav_final/84af70a1e4e13cce515ec7166a8160146cf650f96958a92489028a6dd3e41d40b48c795837740ad15ef9b94101a934514cf67bfcac4f04fa012cfd868d6c932d.wav\n",
      "/content/drive/MyDrive/WOLOF/wav_final/0a7e814ec33b2f55f46a07a531726a7fa138bf471ec5a2059d3cf42fa10e1c10aeebaa2f8456a17e66c4277a21e1240bcc779ebac9134f0a7ee517d1b027e142.wav\n"
     ]
    },
    {
     "name": "stderr",
     "output_type": "stream",
     "text": [
      " 30%|██▉       | 1088/3672 [02:41<07:30,  5.74it/s]"
     ]
    },
    {
     "name": "stdout",
     "output_type": "stream",
     "text": [
      "/content/drive/MyDrive/WOLOF/wav_final/9f6e21a876ac323ed46cac4be0b2b6f404c27bdcfec86c78bd165fb8c34bb112d8cf78213d78b623729c9c97fe2fd17d485187bf9b359294bf109cc613152c4a.wav\n",
      "/content/drive/MyDrive/WOLOF/wav_final/6ef410bcd2fe8ba62eec72396881e2b6eb7526ca1c9c1331809d2ffd9da4bea85199f8bbbf7b7f695215126d35689b745a5da06d4e7fe37922aa307a4dfd8ce6.wav\n",
      "/content/drive/MyDrive/WOLOF/wav_final/9eca8365803e75689b3b66866a6bf5cc948f1dca7080e1a392231727d1eed38d937b491fd4179385c78f5d3f2d4eae6683faafdb3392e6f178c2a1fee3c6a72e.wav\n"
     ]
    },
    {
     "name": "stderr",
     "output_type": "stream",
     "text": [
      " 30%|███       | 1104/3672 [02:44<08:04,  5.30it/s]"
     ]
    },
    {
     "name": "stdout",
     "output_type": "stream",
     "text": [
      "/content/drive/MyDrive/WOLOF/wav_final/a64e1e8a1bfc0e0e2f33f400bef0660245b6ceae9086cdfd0598b126b2500d6d05c5b06e2407bbff0acaa5e14d564ad36af04f53045f1076c18ee0d4daaed8a3.wav\n"
     ]
    },
    {
     "name": "stderr",
     "output_type": "stream",
     "text": [
      " 31%|███       | 1144/3672 [02:50<06:42,  6.28it/s]"
     ]
    },
    {
     "name": "stdout",
     "output_type": "stream",
     "text": [
      "/content/drive/MyDrive/WOLOF/wav_final/84b6704b07b7016822075896133bc55b4a05bbcbab8b02fb7aadfa165483a37e05de8c0306d7a0b4b58bca44dc3dad820d975198bb0601a49af2f4ae0fcfe5ad.wav\n",
      "/content/drive/MyDrive/WOLOF/wav_final/c35e3fe072c93803ae0430a7e5667132b4252a04985dde7852b34e5755b9bed5fc0728b2e4b6a866b5646d920f651e5331dd104506af9a86ba89945fb87eda76.wav\n"
     ]
    },
    {
     "name": "stderr",
     "output_type": "stream",
     "text": [
      " 31%|███▏      | 1152/3672 [02:52<07:14,  5.80it/s]"
     ]
    },
    {
     "name": "stdout",
     "output_type": "stream",
     "text": [
      "/content/drive/MyDrive/WOLOF/wav_final/9e470d82694308b2b093346e077f8036f5f1b37f959312114a420fd82a585a673f3213ebf0e4b1337d3f18c06be2a133ff5d4cdf9c8575227771adca1b9d7a68.wav\n",
      "/content/drive/MyDrive/WOLOF/wav_final/74583826ef8367ba89c05db82a9520aa03223678367618dcc714dbfc2a415c051ce0ec6f130fb11228044090f8d2b41c7a44e71d136c41a327e63ff30d7726c3.wav\n"
     ]
    },
    {
     "name": "stderr",
     "output_type": "stream",
     "text": [
      " 32%|███▏      | 1160/3672 [02:52<06:09,  6.80it/s]"
     ]
    },
    {
     "name": "stdout",
     "output_type": "stream",
     "text": [
      "/content/drive/MyDrive/WOLOF/wav_final/1db8db169ffce3e9f2405088dcc6c62a34094278dba98b67eca789c2f2970c38507a2f00b24b4b60fbcad8423c66042ff1c51e9f6126fdcdd7da134282ad5bf8.wav\n",
      "/content/drive/MyDrive/WOLOF/wav_final/3fd6bd10ffe2314392b9a12481e6cafc3f2e4f78bca1370a6dfe8f9c44bca9e94c50ebd8b87e9e76c373adee06e9f8a318fcf50817fef8e5511a5a50cd29bfde.wav\n",
      "/content/drive/MyDrive/WOLOF/wav_final/afa03af2da4109c4515305daab553365269f251d21d717417cab4bac5befe664533c532c18032074f37f3d883490155ad411d463780801f08f78b496d56070c3.wav\n"
     ]
    },
    {
     "name": "stderr",
     "output_type": "stream",
     "text": [
      " 32%|███▏      | 1168/3672 [02:54<06:13,  6.71it/s]"
     ]
    },
    {
     "name": "stdout",
     "output_type": "stream",
     "text": [
      "/content/drive/MyDrive/WOLOF/wav_final/b6e1aed3de680cd3bbf66f84dc5b63f6d976d2fd0490e70c879a56815b99556bc17d246ecedbb405e2d774506b1d50dbacc98a03719a32ccdeb12f783bf13be7.wav\n",
      "/content/drive/MyDrive/WOLOF/wav_final/9ef9023ccc0639d0c8939ffcde2fdffa1b695a41086526e7641c178e9198a53608e1b1b47f2d209f566ff6b8b8c0f71311ce42348e7d583124794aa3c22d2912.wav\n"
     ]
    },
    {
     "name": "stderr",
     "output_type": "stream",
     "text": [
      " 33%|███▎      | 1224/3672 [03:02<06:40,  6.11it/s]"
     ]
    },
    {
     "name": "stdout",
     "output_type": "stream",
     "text": [
      "/content/drive/MyDrive/WOLOF/wav_final/ce86e27b721ce6748fc881be7aa868bca99d965cbf48b983ce3fb7a3cc985cba0a77d331a0e4171ef4a74339b03bc7ce65574a4d03978c7eaea54e212851dd1c.wav\n"
     ]
    },
    {
     "name": "stderr",
     "output_type": "stream",
     "text": [
      " 34%|███▎      | 1232/3672 [03:03<06:20,  6.42it/s]"
     ]
    },
    {
     "name": "stdout",
     "output_type": "stream",
     "text": [
      "/content/drive/MyDrive/WOLOF/wav_final/97e3cf9982ca2604fbf8824a3959f22e6b3ce3cc78eb2fca31a79af8e84ac0703db1cdd9cf00cf347a3a8386bbbddf5b8f665522b70572166f2f5df5171c0a37.wav\n"
     ]
    },
    {
     "name": "stderr",
     "output_type": "stream",
     "text": [
      " 34%|███▍      | 1248/3672 [03:06<06:24,  6.31it/s]"
     ]
    },
    {
     "name": "stdout",
     "output_type": "stream",
     "text": [
      "/content/drive/MyDrive/WOLOF/wav_final/9889f26392e07bdc5bd54d8d6938481ddfcaf9c0a4763c897d6dbcda0d98ceb858160dd0e8c004ae09089e7a145dd7170da49462b52f3a85f3d7c7f513c40074.wav\n"
     ]
    },
    {
     "name": "stderr",
     "output_type": "stream",
     "text": [
      " 34%|███▍      | 1256/3672 [03:07<06:13,  6.46it/s]"
     ]
    },
    {
     "name": "stdout",
     "output_type": "stream",
     "text": [
      "/content/drive/MyDrive/WOLOF/wav_final/3b6d58b5d179ef9334ed42fec55fdcba699946ffaa74c58ea1fd4e4ba0b55f23d3796b1f793dfb559366032252df70571efa7afbc8795d41fe5e0660dae2d811.wav\n"
     ]
    },
    {
     "name": "stderr",
     "output_type": "stream",
     "text": [
      " 35%|███▍      | 1272/3672 [03:09<05:56,  6.73it/s]"
     ]
    },
    {
     "name": "stdout",
     "output_type": "stream",
     "text": [
      "/content/drive/MyDrive/WOLOF/wav_final/217f29cb51ae2fa05ecf110f34f1cba7be688324194f0d4adb16f641257912dd88a82d57f37a61633e735d8db063a25c47d2bfa98224309d87deaa53d99da803.wav\n"
     ]
    },
    {
     "name": "stderr",
     "output_type": "stream",
     "text": [
      " 35%|███▌      | 1288/3672 [03:12<06:08,  6.46it/s]"
     ]
    },
    {
     "name": "stdout",
     "output_type": "stream",
     "text": [
      "/content/drive/MyDrive/WOLOF/wav_final/db7d79db0450426a218997b7f300dd07bf906717d450ed443e36df36ce0e41ed839b3031432c82e690a01e82ed5ca3ba2163cf8a56211c2262f414776c67bb99.wav\n"
     ]
    },
    {
     "name": "stderr",
     "output_type": "stream",
     "text": [
      " 35%|███▌      | 1296/3672 [03:13<05:57,  6.64it/s]"
     ]
    },
    {
     "name": "stdout",
     "output_type": "stream",
     "text": [
      "/content/drive/MyDrive/WOLOF/wav_final/c6f2525112f43be3e1d24e44cefdf00a96a96bfd8221aa7bdd23544b25445829828f887f7157c290e68da4a8d66cb1f6f3fbf6493aa159a910cd0c5500607a4e.wav\n"
     ]
    },
    {
     "name": "stderr",
     "output_type": "stream",
     "text": [
      " 36%|███▌      | 1312/3672 [03:16<06:43,  5.85it/s]"
     ]
    },
    {
     "name": "stdout",
     "output_type": "stream",
     "text": [
      "/content/drive/MyDrive/WOLOF/wav_final/871c6b5cff489024700079691c1efb6052b2b6aee9e7869362c86e58a7f0dc95611df2676e296da180e58aba0634397e0a284ce2d73166f5dfa18cf084b00443.wav\n",
      "/content/drive/MyDrive/WOLOF/wav_final/f1241ed39527e8f434eba6432c17504100c9139dc7537a0276c098bdc3d97e5f3cf02c34dd368cd5e20408686faa43a97d991d9f222d108664b5a574c56b1bb6.wav\n"
     ]
    },
    {
     "name": "stderr",
     "output_type": "stream",
     "text": [
      " 37%|███▋      | 1360/3672 [03:25<07:36,  5.06it/s]"
     ]
    },
    {
     "name": "stdout",
     "output_type": "stream",
     "text": [
      "/content/drive/MyDrive/WOLOF/wav_final/13ed81bbf03bf0576b6caa5710051000bf9df2fed56074f35f9943b7292214ea64fa13882c9fb6159b9d7260cc37816ed26759183a59b095ce40e9c6e3aecb04.wav\n"
     ]
    },
    {
     "name": "stderr",
     "output_type": "stream",
     "text": [
      " 37%|███▋      | 1376/3672 [03:28<07:14,  5.29it/s]"
     ]
    },
    {
     "name": "stdout",
     "output_type": "stream",
     "text": [
      "/content/drive/MyDrive/WOLOF/wav_final/8b39acd92e504a2be6f07a8fdcb387fb043c4b4f518f39c67fa2d42d6a36418621ed8be84b2aaf67516d7217f062ba257ed23db2a890d97c3f30a977c43b3b6e.wav\n"
     ]
    },
    {
     "name": "stderr",
     "output_type": "stream",
     "text": [
      " 39%|███▉      | 1432/3672 [03:38<06:25,  5.81it/s]"
     ]
    },
    {
     "name": "stdout",
     "output_type": "stream",
     "text": [
      "/content/drive/MyDrive/WOLOF/wav_final/8e7d1826acbbc33212655939092fb97c74cee4ba28bd95dbd45ccc16b25b7023f46a4947c53f70ed6a59e11091a22510363ebb0b9769ae6a8815ac32f08e7a06.wav\n",
      "/content/drive/MyDrive/WOLOF/wav_final/477e2920285beeaf460196cab84700fade4d60bb2d15947785860147da9d4969a5924a0f2e8b5dce063ed3576b40e77405d4a614957449836b560c5c1aa7d154.wav\n",
      "/content/drive/MyDrive/WOLOF/wav_final/53e2aaf5555c1f58cb9048fcef25d709d81c1b8f40af8c37bb9c88177ee9a158caef7a3b2ff9ec3e5b5ce0ca21e7d261b0eedebc305f2822f002e545d5b925d2.wav\n"
     ]
    },
    {
     "name": "stderr",
     "output_type": "stream",
     "text": [
      " 39%|███▉      | 1440/3672 [03:39<06:20,  5.86it/s]"
     ]
    },
    {
     "name": "stdout",
     "output_type": "stream",
     "text": [
      "/content/drive/MyDrive/WOLOF/wav_final/7aac9eb725396a0e6d36824c69e8369f2f500d79c6f0d03e8beec5c58cd56edff26932c5fec4aeda3f92383e8492a5942a8e75032785512b9cc36950dfbcd3e9.wav\n"
     ]
    },
    {
     "name": "stderr",
     "output_type": "stream",
     "text": [
      " 39%|███▉      | 1448/3672 [03:40<06:01,  6.16it/s]"
     ]
    },
    {
     "name": "stdout",
     "output_type": "stream",
     "text": [
      "/content/drive/MyDrive/WOLOF/wav_final/73adc0466ab80530fc8c1a61063b3036ea6c3c8325ca204768879027293f567ee32ede45fd3cd6505d829065e69fa941aefa1c652f075c1dc89bea747f2eff30.wav\n"
     ]
    },
    {
     "name": "stderr",
     "output_type": "stream",
     "text": [
      " 40%|███▉      | 1456/3672 [03:42<06:26,  5.74it/s]"
     ]
    },
    {
     "name": "stdout",
     "output_type": "stream",
     "text": [
      "/content/drive/MyDrive/WOLOF/wav_final/f31acf3b85b6a0379962f3959b75be27c6825b365da85da424eaac98dce8895ca52fe67623a2e694cedbe97a54c9e5125d7f8a4d577e03299423e1ce9fffd9ed.wav\n"
     ]
    },
    {
     "name": "stderr",
     "output_type": "stream",
     "text": [
      " 40%|███▉      | 1464/3672 [03:43<06:46,  5.43it/s]"
     ]
    },
    {
     "name": "stdout",
     "output_type": "stream",
     "text": [
      "/content/drive/MyDrive/WOLOF/wav_final/85bd02506654fdcb0dba183ae3dcb5341668af65ebd65f51424b5c5b8c522b6b011ca92e5fc47f9bc0dd7d0d75009690ab88f28908d05b57763ecea6446c5016.wav\n"
     ]
    },
    {
     "name": "stderr",
     "output_type": "stream",
     "text": [
      " 41%|████      | 1488/3672 [03:48<07:13,  5.04it/s]"
     ]
    },
    {
     "name": "stdout",
     "output_type": "stream",
     "text": [
      "/content/drive/MyDrive/WOLOF/wav_final/9fb0b00d14b52b449ff2fdf496d11ef8a32aa9f148dbb68d531875b32809b4924ef2662a5a042c1fa869d9a07d896d8c35e5aa51afd72e2b86c7e8b3c9582988.wav\n"
     ]
    },
    {
     "name": "stderr",
     "output_type": "stream",
     "text": [
      " 41%|████      | 1504/3672 [03:51<06:33,  5.51it/s]"
     ]
    },
    {
     "name": "stdout",
     "output_type": "stream",
     "text": [
      "/content/drive/MyDrive/WOLOF/wav_final/4b598a01a5b3c07203eeffe1842ef8ef185fd35b8af8dd672c5795b2a417011ea7caa5d0c797fd6b27998962726c32121c03d8ab95eda233edb8a0db0fb65fbe.wav\n",
      "/content/drive/MyDrive/WOLOF/wav_final/fa6cab6b897e9ad09f449646be72854ec5d3ed0a59b3aa4739082aedf574d2bd6fe23e13d5f7667331531c7ad24bd73024650ce6210554ef6d6bde197af639ba.wav\n",
      "/content/drive/MyDrive/WOLOF/wav_final/1e146e376ad3897e8d6caa8d4dc2464c64cdead97cad2ba2e7f10b5eb5bd2f3c22c7fd5a76649f9249d2179a286c2fdcdbd990917f05e34ae43892c641fa9a43.wav\n"
     ]
    },
    {
     "name": "stderr",
     "output_type": "stream",
     "text": [
      " 41%|████      | 1512/3672 [03:52<06:09,  5.84it/s]"
     ]
    },
    {
     "name": "stdout",
     "output_type": "stream",
     "text": [
      "/content/drive/MyDrive/WOLOF/wav_final/497247a3028894a35faf20d766894b2bdeacab70632663031d9a31854cf6d871ebf190cfc5ca819927a6cc79715efc271980cfc3a78d2f68ff9dd2be6063c473.wav\n",
      "/content/drive/MyDrive/WOLOF/wav_final/16b35917e21d947487a45727dd670a6fa6752ce5f84cf402fa492103b4cd8014a6e6b5a6cf2807ba82e82b31e53717fe8a5c738a76a3daee02b7e980a813dcf9.wav\n",
      "/content/drive/MyDrive/WOLOF/wav_final/3f64e15a7a25c8d01ee8f3f9713e12af7563a41c55788b5ff6072e81c42f8e3575a34bae47f4bacdf2725565cd0c2a56abee5e065a946e65962a8861b76e3b3e.wav\n"
     ]
    },
    {
     "name": "stderr",
     "output_type": "stream",
     "text": [
      " 41%|████▏     | 1520/3672 [03:53<05:58,  6.01it/s]"
     ]
    },
    {
     "name": "stdout",
     "output_type": "stream",
     "text": [
      "/content/drive/MyDrive/WOLOF/wav_final/c5796ad113badc71af347bf07cbb628a4fa09d9fc90a1f9196b2151f11cd703b5478444fd06d9b98e09ad898b80eb67975f1b12abc3c4b1f74f98f54ccc95f97.wav\n",
      "/content/drive/MyDrive/WOLOF/wav_final/1451ad1fa55478cbeb1d76bbde3f57127c35e6c1b5280f008ba52f18a88f48eab9fa23228d8dd9fb4a51685aa97d08a7082fcc2a8186079c2f7156e598c9fe50.wav\n",
      "/content/drive/MyDrive/WOLOF/wav_final/290773a9af639f1de46eebf8d16c515587dd91090f234debb6ddb204ca9632933931b33d4c27bb52909dc2c59a2bdd9221229a924d101d7c62db17010c16621a.wav\n"
     ]
    },
    {
     "name": "stderr",
     "output_type": "stream",
     "text": [
      " 42%|████▏     | 1528/3672 [03:55<06:31,  5.48it/s]"
     ]
    },
    {
     "name": "stdout",
     "output_type": "stream",
     "text": [
      "/content/drive/MyDrive/WOLOF/wav_final/4bab2a3e6c0f5478516d67f9913622162514facc42b908aa01e20f558b63bd88a36b0c2773a19e5bf19d8230531ffad46944e0ca32f92d7a47d5459fd5e46b6f.wav\n",
      "/content/drive/MyDrive/WOLOF/wav_final/b5c6d9dfe5671e3271c1ffe65f49e003f89d03e3406c295da9beb88d15ea80202fbc6afeea111bdd8ed76d57a5a5567c9826b0c8d6a88785af96f66236afe83a.wav\n"
     ]
    },
    {
     "name": "stderr",
     "output_type": "stream",
     "text": [
      " 42%|████▏     | 1544/3672 [03:58<05:58,  5.93it/s]"
     ]
    },
    {
     "name": "stdout",
     "output_type": "stream",
     "text": [
      "/content/drive/MyDrive/WOLOF/wav_final/8941096340b9bf0886d08c568e5c72f60409b5c71117204fb09399ca653717afed601e3bc527bfe18c309ea0efadcbc6179664e0f726b8fd971ff0556cf98edd.wav\n"
     ]
    },
    {
     "name": "stderr",
     "output_type": "stream",
     "text": [
      " 42%|████▏     | 1560/3672 [04:00<05:43,  6.15it/s]"
     ]
    },
    {
     "name": "stdout",
     "output_type": "stream",
     "text": [
      "/content/drive/MyDrive/WOLOF/wav_final/46b71125cfc61c02453fcb0a22e8f75f0205ca57379cb68d852c168e0c6feaa4e3e66789c36b1481ce22366a27b31672b6b06095927c2ed5900a7ad1d1c7393d.wav\n",
      "/content/drive/MyDrive/WOLOF/wav_final/4276011b806397aff22e91fc976ccf4a305d38d747d42cdcc77f9cb18a1057952f3070b0b180a03a2a0026ab533e36105546fce9c8db9d648f19d80642e19ace.wav\n"
     ]
    },
    {
     "name": "stderr",
     "output_type": "stream",
     "text": [
      " 43%|████▎     | 1568/3672 [04:02<06:16,  5.59it/s]"
     ]
    },
    {
     "name": "stdout",
     "output_type": "stream",
     "text": [
      "/content/drive/MyDrive/WOLOF/wav_final/1fb1c3feed34b9ca09f4eabf28b96d9ed8e71fe0d39e4be6a27fda88467d27b5fe232515d8e0493ef6463c7d95d0f6835ac6ab97fe5c6cafedead9d4ab00b9f5.wav\n"
     ]
    },
    {
     "name": "stderr",
     "output_type": "stream",
     "text": [
      " 43%|████▎     | 1584/3672 [04:04<05:09,  6.75it/s]"
     ]
    },
    {
     "name": "stdout",
     "output_type": "stream",
     "text": [
      "/content/drive/MyDrive/WOLOF/wav_final/7c8f574e7a6f626afbc7f66560e385c7fa4fb9b81383841dd4b6b01c7d572b982568d6359195a85d21cce58c85264b8ae4f8b3003def81b8ed3a36ab579722e0.wav\n"
     ]
    },
    {
     "name": "stderr",
     "output_type": "stream",
     "text": [
      " 45%|████▍     | 1640/3672 [04:13<05:38,  6.01it/s]"
     ]
    },
    {
     "name": "stdout",
     "output_type": "stream",
     "text": [
      "/content/drive/MyDrive/WOLOF/wav_final/4df7251fb808f1d9a5a1e65216468738422208992380247652938a820f98e5014f905e748618a15c24139d4e45b85a1e586eb028554f54d6ddbb54507ae383cf.wav\n"
     ]
    },
    {
     "name": "stderr",
     "output_type": "stream",
     "text": [
      " 45%|████▍     | 1648/3672 [04:14<05:06,  6.61it/s]"
     ]
    },
    {
     "name": "stdout",
     "output_type": "stream",
     "text": [
      "/content/drive/MyDrive/WOLOF/wav_final/3d833c0eb0abb5293f4d963cfaf128089a6690a93e8598c7162578c8c0b7170298e2d503324234d0236e2e63209bfc395d6ead866865b680633918b4d6e8bbb8.wav\n"
     ]
    },
    {
     "name": "stderr",
     "output_type": "stream",
     "text": [
      " 45%|████▌     | 1664/3672 [04:17<05:11,  6.46it/s]"
     ]
    },
    {
     "name": "stdout",
     "output_type": "stream",
     "text": [
      "/content/drive/MyDrive/WOLOF/wav_final/643d7f8d9ad8955cc46df48b924f1489f8b9f9e5e625b64bacbaab6e02bed998aec0cda79958fb04b8a80e3c2d11bff6aa36ba2e3e70da2eef12b0852cffbc65.wav\n",
      "/content/drive/MyDrive/WOLOF/wav_final/50639ddf2e31cd307d5f576907b819371d34060a3b3ef5ddff85ca73546ff4ca4b3355668f45a4fc33a1428b08f85159f923e7cba515cecd30c4d285b768ca7a.wav\n",
      "/content/drive/MyDrive/WOLOF/wav_final/92f256291b56befbf0f4eaac914144e1cbcab763f01faf3365a12fcaafbe1564cbcff376dd262c1a50d8424a1317b98cca68b885690a178424878ffd0fecb136.wav\n"
     ]
    },
    {
     "name": "stderr",
     "output_type": "stream",
     "text": [
      " 46%|████▌     | 1672/3672 [04:18<04:50,  6.89it/s]"
     ]
    },
    {
     "name": "stdout",
     "output_type": "stream",
     "text": [
      "/content/drive/MyDrive/WOLOF/wav_final/f3d94669bcf492ebdd56c369bb3f5c72383e8b26927eb2a1bb7b5457c3d677cb2f09736a12aafccd80d1cf3b83c6097a5739cf3015de5453dc3dcbebc29456ae.wav\n",
      "/content/drive/MyDrive/WOLOF/wav_final/3b625f8ba6e6ad778a0ee71f91fa571236ea24581baa6b377d84c1979d23fe43be7560c619a0c39fe9e79e425c83fb45395a367dac68de24d8a1d1f9ae569ea5.wav\n"
     ]
    },
    {
     "name": "stderr",
     "output_type": "stream",
     "text": [
      " 46%|████▌     | 1680/3672 [04:19<05:10,  6.42it/s]"
     ]
    },
    {
     "name": "stdout",
     "output_type": "stream",
     "text": [
      "/content/drive/MyDrive/WOLOF/wav_final/da0d2f16fbfe0ca4e1ef3ff33c89602177cd6d79bd2a86301b7429faf122fd63cd948f4aadf25520d1c61fafb182bf62236e79606fcaa80a9d02fdeff8bc4ac9.wav\n",
      "/content/drive/MyDrive/WOLOF/wav_final/3f0fc333de95823b4028323c36103029aa5bd5e71d856dde1ce4249db567c5438d084a9190dd2578df97f2ef670de28093c99eaac7e729164276fc99d52e4064.wav\n",
      "/content/drive/MyDrive/WOLOF/wav_final/4481dd06f813c0d06e0db93e8a39d076e05b65e5d57fac79d846ec0468c5bb762a4a850f2d7971e4274da0d15449be68ca2aa3f2a654fc6c5ad19ac1f9b0c17f.wav\n",
      "/content/drive/MyDrive/WOLOF/wav_final/0726fe283e1414c9d3774dab83475f093e51466068902370ba53d9cc65710d0a973276cffce469d33269aa2030eb8673851c566acb8c7b862d06d05fa888f526.wav\n"
     ]
    },
    {
     "name": "stderr",
     "output_type": "stream",
     "text": [
      " 46%|████▌     | 1696/3672 [04:22<05:50,  5.63it/s]"
     ]
    },
    {
     "name": "stdout",
     "output_type": "stream",
     "text": [
      "/content/drive/MyDrive/WOLOF/wav_final/3b56ca3a8bcc29f2982ca59fc05be5b2e40eba1e0addfe9a8939c0a9ae34f3e00042fffdbb8576940f80fc118ae464d9efaa2ca16b0e290c7c4de55b689b0e08.wav\n"
     ]
    },
    {
     "name": "stderr",
     "output_type": "stream",
     "text": [
      " 48%|████▊     | 1760/3672 [04:32<05:00,  6.36it/s]"
     ]
    },
    {
     "name": "stdout",
     "output_type": "stream",
     "text": [
      "/content/drive/MyDrive/WOLOF/wav_final/1e9c34f5d06a7aadb8d4585931bd409e4b209c9056f6f7351896fd8b6f8d662212b1445e2c5908ad2bdcfe51039cf82b0a7f28cc4e311ae0d64600a7295dad65.wav\n"
     ]
    },
    {
     "name": "stderr",
     "output_type": "stream",
     "text": [
      " 50%|█████     | 1840/3672 [04:46<05:49,  5.24it/s]"
     ]
    },
    {
     "name": "stdout",
     "output_type": "stream",
     "text": [
      "/content/drive/MyDrive/WOLOF/wav_final/ce372e9ba035fa921dbe0c0790bef64da7d26b63c1df1c18b6fadb23ec10aa4975c0106293b5cb8a3b0139e72109c1608e12ba97ae44d8727094c5b11de86af7.wav\n",
      "/content/drive/MyDrive/WOLOF/wav_final/245c357aa75bac4c9d6d57a727bc0ccf9391e15ac503e03fa13c3f568fbdd6b2b6ea2284446770f430953e4e5da92f70da2e474c736e7f1c394e34a433dd72f0.wav\n"
     ]
    },
    {
     "name": "stderr",
     "output_type": "stream",
     "text": [
      " 52%|█████▏    | 1912/3672 [05:00<05:42,  5.14it/s]"
     ]
    },
    {
     "name": "stdout",
     "output_type": "stream",
     "text": [
      "/content/drive/MyDrive/WOLOF/wav_final/8b2c2ca538c60ad6cde541d5355ac22c41fbc1779799be467303c13ce1bfb2e1d33f4d778de2e4902f936a6f9a813e83e02551342f3e6980d8051cc3946cc16d.wav\n"
     ]
    },
    {
     "name": "stderr",
     "output_type": "stream",
     "text": [
      " 52%|█████▏    | 1920/3672 [05:01<05:20,  5.46it/s]"
     ]
    },
    {
     "name": "stdout",
     "output_type": "stream",
     "text": [
      "/content/drive/MyDrive/WOLOF/wav_final/4092f6f5fd409723a036ebc48445ff01b762092073f34a0d6072ef90efc05ff2f12abc5908be009a8ab01db05823cf8e9601521674cf3daba2630b2ccda70549.wav\n",
      "/content/drive/MyDrive/WOLOF/wav_final/431a60166907dc223de2e3d4c2e7e14796b2c543185d432ccf96495f1a9138ee7b775add18c03553cbc0452d7ac7fe135b16ed87c95c0d5b29fc2cc1f995e69c.wav\n"
     ]
    },
    {
     "name": "stderr",
     "output_type": "stream",
     "text": [
      " 53%|█████▎    | 1928/3672 [05:02<04:50,  6.01it/s]"
     ]
    },
    {
     "name": "stdout",
     "output_type": "stream",
     "text": [
      "/content/drive/MyDrive/WOLOF/wav_final/578252fb65e88fdbeb0c024708a2b8af24d2570b02610d65dd58e262d7a94fff5125662fdf8e4e6c626baee4ee60fd5d3c00f350d9a996326ead941472187d25.wav\n"
     ]
    },
    {
     "name": "stderr",
     "output_type": "stream",
     "text": [
      " 53%|█████▎    | 1936/3672 [05:04<04:53,  5.91it/s]"
     ]
    },
    {
     "name": "stdout",
     "output_type": "stream",
     "text": [
      "/content/drive/MyDrive/WOLOF/wav_final/118502bc468a20867cb0c2f7b347dd8c2ed1171a71aec4369fe86776df4137782eb03fcf87930b9c6aa2b1c6e4ecf951a39dedcbd4a2ce6af4220d7ea60b09d6.wav\n"
     ]
    },
    {
     "name": "stderr",
     "output_type": "stream",
     "text": [
      " 53%|█████▎    | 1944/3672 [05:05<04:51,  5.92it/s]"
     ]
    },
    {
     "name": "stdout",
     "output_type": "stream",
     "text": [
      "/content/drive/MyDrive/WOLOF/wav_final/da8b99f72315aca8b34a6eaa7fa08b966558e248046f891a5e96e1ca1cfe2439779b7d123a28be5eaf57cbdefd376dad5738016037336711b295342974bb1de5.wav\n",
      "/content/drive/MyDrive/WOLOF/wav_final/d6aa20a8821355b80bcfa86cda5d45f551fec69ebb775e3c9d2c4760019c16d4c7b6fede46afa7566f1dc578a8f8be3abbf7143a725661660c4b72d788153cfa.wav\n"
     ]
    },
    {
     "name": "stderr",
     "output_type": "stream",
     "text": [
      " 53%|█████▎    | 1952/3672 [05:06<04:25,  6.48it/s]"
     ]
    },
    {
     "name": "stdout",
     "output_type": "stream",
     "text": [
      "/content/drive/MyDrive/WOLOF/wav_final/964e57fc64b0b8f58380e62d7a8c12b93cb22f64e6f9ffc2739ea85df7cd1c167bdb5f354be6fee55754d859f19b05d1e62198bb34d91bab981beb2a6e90d6fd.wav\n"
     ]
    },
    {
     "name": "stderr",
     "output_type": "stream",
     "text": [
      " 53%|█████▎    | 1960/3672 [05:07<04:37,  6.17it/s]"
     ]
    },
    {
     "name": "stdout",
     "output_type": "stream",
     "text": [
      "/content/drive/MyDrive/WOLOF/wav_final/38c31ffd5bc8cffdbb8ee014fa55fed3aaccb1cd140a0e6020d940938621617a53f51cb4ee721c785912f49eee70bdbdeb75e58824e92f47e29ff7d5805176e7.wav\n",
      "/content/drive/MyDrive/WOLOF/wav_final/413eeaf8fde1c1ba0857fca68e9e764751e70d5fc1c27c3d12050dcececed8580e1d2f6aef316895acdb7deaed88abda6f3e5a93df35feffff644a9edf95ccc0.wav\n"
     ]
    },
    {
     "name": "stderr",
     "output_type": "stream",
     "text": [
      " 54%|█████▍    | 1992/3672 [05:12<04:13,  6.62it/s]"
     ]
    },
    {
     "name": "stdout",
     "output_type": "stream",
     "text": [
      "/content/drive/MyDrive/WOLOF/wav_final/c285feea2d55bd5e30db472a7108037a8eb614975689f116aa623fdc2337fdf5a31009ae5990abf2f87f26cc1158cd15082898b7f69a2bda76a1ab7a6e03d8e9.wav\n"
     ]
    },
    {
     "name": "stderr",
     "output_type": "stream",
     "text": [
      " 55%|█████▍    | 2008/3672 [05:15<04:29,  6.18it/s]"
     ]
    },
    {
     "name": "stdout",
     "output_type": "stream",
     "text": [
      "/content/drive/MyDrive/WOLOF/wav_final/5c281cb1a131cff54d5c368e30c76fdbea3f435b2a7ed1ef47f168a4ded6fa7834c2e3922863246e494419df7a6b99075b176419cf51eed6c17e73ddbad242bd.wav\n"
     ]
    },
    {
     "name": "stderr",
     "output_type": "stream",
     "text": [
      " 56%|█████▌    | 2056/3672 [05:22<04:16,  6.30it/s]"
     ]
    },
    {
     "name": "stdout",
     "output_type": "stream",
     "text": [
      "/content/drive/MyDrive/WOLOF/wav_final/393b4fc2cc0e79c448f333835121750506758cf2ad39db04a316dba7cb28778479690e722e86c8dc7e50ec5dd94f45f555f277b05a1466fda3f56975122b7f8e.wav\n"
     ]
    },
    {
     "name": "stderr",
     "output_type": "stream",
     "text": [
      " 57%|█████▋    | 2080/3672 [05:27<04:55,  5.38it/s]"
     ]
    },
    {
     "name": "stdout",
     "output_type": "stream",
     "text": [
      "/content/drive/MyDrive/WOLOF/wav_final/32ea4d04e20f854a49241b5a84576c8b0ca564b8f7bfaf1b3bc16c00d83ccfe16d229e5dfe00b671c2972660168037417f819f9c4803123f8cbc5d14a6c8b2ca.wav\n"
     ]
    },
    {
     "name": "stderr",
     "output_type": "stream",
     "text": [
      " 57%|█████▋    | 2096/3672 [05:30<04:55,  5.33it/s]"
     ]
    },
    {
     "name": "stdout",
     "output_type": "stream",
     "text": [
      "/content/drive/MyDrive/WOLOF/wav_final/88385dae2007a75b7cd89e76055c0e11ff928e0e90fe0c4991fe71b62e9c4fa6210005e58ee0bcd9daae6548b88b1f2be6f97451f7e95835a02b78fb4b9a7a5e.wav\n",
      "/content/drive/MyDrive/WOLOF/wav_final/1248f4633d04701b57a7f6114383942fabeafeb99ee5fae02467a8b707d3c80f1332f0ceada82d60de621e37650e2d46924f7695cf0eb7b6d57db53b1ecc58f0.wav\n"
     ]
    },
    {
     "name": "stderr",
     "output_type": "stream",
     "text": [
      " 58%|█████▊    | 2112/3672 [05:33<04:47,  5.42it/s]"
     ]
    },
    {
     "name": "stdout",
     "output_type": "stream",
     "text": [
      "/content/drive/MyDrive/WOLOF/wav_final/e9ad2d358ef07980b1c8e822ebc6eae1f7b98225929b7cf7db365acd2661fc248523d0a64056f0093102bbdcc5ff7e065e15472670a7f7cd7d74704468f9fd2d.wav\n",
      "/content/drive/MyDrive/WOLOF/wav_final/77b285d946448fb88f57ae152054ef7581af6349dd6e3f36be9d904a2b23115fcee617d4f6dd9cc2eec85317fcd6f807b94ffb0ff40624ad7d9434215f79398a.wav\n"
     ]
    },
    {
     "name": "stderr",
     "output_type": "stream",
     "text": [
      " 58%|█████▊    | 2120/3672 [05:34<04:29,  5.76it/s]"
     ]
    },
    {
     "name": "stdout",
     "output_type": "stream",
     "text": [
      "/content/drive/MyDrive/WOLOF/wav_final/eac69d92ca36fcaffef554edaa0d0c346a0bf0f77e91e965771a4520cf7c87af142b1c6f78c3c442815e76472fcc59e9882d1b6ac5c546af62f7bb3f88720529.wav\n",
      "/content/drive/MyDrive/WOLOF/wav_final/8519b73741340143d045b4d3a7d7f5276585e46dbd8adb499555c7805d53a3479b0f301a8bc6ec09836d87a0b8a9b4fe9940a0418a2ccc657cba84a1f36e3d09.wav\n"
     ]
    },
    {
     "name": "stderr",
     "output_type": "stream",
     "text": [
      " 59%|█████▊    | 2152/3672 [05:41<04:35,  5.51it/s]"
     ]
    },
    {
     "name": "stdout",
     "output_type": "stream",
     "text": [
      "/content/drive/MyDrive/WOLOF/wav_final/1eba2b4dec6582cc58c29feb1acfa237a72be6766232ddb4353eabd6e59f84d7dce107f531a7d996d6262654697c2cfd36520892e2f5426f6d73731097b26bdb.wav\n"
     ]
    },
    {
     "name": "stderr",
     "output_type": "stream",
     "text": [
      " 59%|█████▉    | 2160/3672 [05:42<04:20,  5.81it/s]"
     ]
    },
    {
     "name": "stdout",
     "output_type": "stream",
     "text": [
      "/content/drive/MyDrive/WOLOF/wav_final/87f8494a855879a9a35f976456953f3de91319b91c5a8186374742de0adc1e3909b88491bae4037981b127d76f24ba620b9a54de0467ee5202b53163a9254ced.wav\n",
      "/content/drive/MyDrive/WOLOF/wav_final/ddca6f81323b2699292b521f418f5d16277478edb75b848b3204e3f6b9f96886094f21cfbe49c201f509914cad1d1b534c8d15a2f2f6a858f149b9499782115b.wav\n"
     ]
    },
    {
     "name": "stderr",
     "output_type": "stream",
     "text": [
      " 59%|█████▉    | 2176/3672 [05:44<03:57,  6.30it/s]"
     ]
    },
    {
     "name": "stdout",
     "output_type": "stream",
     "text": [
      "/content/drive/MyDrive/WOLOF/wav_final/3f50e761d1237dc8178737df1ce1020992f6f4bf7ab38aef48399a5d71123d0a81d0380ae4c47b36faf40b05ab15e998f12a6dc2dff7ff22d6355fc8dabad428.wav\n",
      "/content/drive/MyDrive/WOLOF/wav_final/6c61f939aaa658cf23f6ae8fd5e6ced65fb5737327179c5bcfffd55100c50d8a7864316fde5e27a94d37df875ec66dfa3a6105c65ce0778aa848fefb5b774647.wav\n"
     ]
    },
    {
     "name": "stderr",
     "output_type": "stream",
     "text": [
      " 60%|█████▉    | 2200/3672 [05:48<03:51,  6.37it/s]"
     ]
    },
    {
     "name": "stdout",
     "output_type": "stream",
     "text": [
      "/content/drive/MyDrive/WOLOF/wav_final/1fedbdfe59672ec9100b2508b9b9c1f7e2e2f594d5b6774cab41588c749125bdc7d90aea4d093a66b6070c4020cd434d3e6ce6f118c904ccb173887714cb6896.wav\n"
     ]
    },
    {
     "name": "stderr",
     "output_type": "stream",
     "text": [
      " 60%|██████    | 2208/3672 [05:49<03:50,  6.36it/s]"
     ]
    },
    {
     "name": "stdout",
     "output_type": "stream",
     "text": [
      "/content/drive/MyDrive/WOLOF/wav_final/ec220fc35ffaa59dbe2120a4cf58da2efa4f083f9504ebe2f87fcef65165e71ecb91700502da4cf43c8adfd6e74f59975f38cd84fecd6da38b1f42b198361406.wav\n",
      "/content/drive/MyDrive/WOLOF/wav_final/9d07933546ef2b9c79cfafb7762ce320fadceedf1992ff8e6c433f0514ee32b76f16c502b8e4b2e207054e0442cd1a40db1a625c18c8c5059c55729b909f0697.wav\n"
     ]
    },
    {
     "name": "stderr",
     "output_type": "stream",
     "text": [
      " 60%|██████    | 2216/3672 [05:50<03:46,  6.42it/s]"
     ]
    },
    {
     "name": "stdout",
     "output_type": "stream",
     "text": [
      "/content/drive/MyDrive/WOLOF/wav_final/dd27c771b131170531bcf21e46ebb1ed67e83b537703338ad467d3dadca10ccbaa66b3c8d9f9a9bebd5eae8a8bf6fe911c61d697993686e6ec8957a6ae406868.wav\n",
      "/content/drive/MyDrive/WOLOF/wav_final/b64da406397baad783adf85b5db4ed44131b94507407a4ff3b7f41b52dd5bbd76c483de5cfca39d5b061f2ff5a6f1b78eb2aee8ab93cdc11abcebb42e266d6d7.wav\n"
     ]
    },
    {
     "name": "stderr",
     "output_type": "stream",
     "text": [
      " 61%|██████    | 2224/3672 [05:52<03:46,  6.38it/s]"
     ]
    },
    {
     "name": "stdout",
     "output_type": "stream",
     "text": [
      "/content/drive/MyDrive/WOLOF/wav_final/2d75b16a342e26d5912cb0061f3da5eafc0e66c4a4b2ab585a693494c4dd76bbca7bdcbfa6df7bf13b33e02ca88919a35e85740ecd0f5efd183fd1f97b7531d9.wav\n"
     ]
    },
    {
     "name": "stderr",
     "output_type": "stream",
     "text": [
      " 61%|██████    | 2232/3672 [05:53<03:45,  6.38it/s]"
     ]
    },
    {
     "name": "stdout",
     "output_type": "stream",
     "text": [
      "/content/drive/MyDrive/WOLOF/wav_final/780ecfaea366d8799f8f7df30432fb0fc3a38217085d754cc04337d1c272278c1f438161cffa5f2748f02cd6329a21681e0c3ccc9901739887318ed9f302039f.wav\n",
      "/content/drive/MyDrive/WOLOF/wav_final/a07e563a32a2b77233cd4e738f9fc97639365f98f941b1825a82c43d6b7aaf95afb6890b5ae4dc9b4051a74d9a04acf0909515816299094c9173ba9683525a50.wav\n",
      "/content/drive/MyDrive/WOLOF/wav_final/1d8e7a9aee1e9047fb7c56f2bcec6e842f8d45a5a66ebf4bc2cf336cab1385e918fe05036adf19f75b1ad748a19226ff693523826faa2eed121382aec453f092.wav\n"
     ]
    },
    {
     "name": "stderr",
     "output_type": "stream",
     "text": [
      " 61%|██████    | 2240/3672 [05:54<03:26,  6.95it/s]"
     ]
    },
    {
     "name": "stdout",
     "output_type": "stream",
     "text": [
      "/content/drive/MyDrive/WOLOF/wav_final/ea0f9d6c5c4d349a93436376d2f4a38723937428cbf0698e0097fa0d98dbeae8a57465432cfbf0148410c7d4c92bceb623bfe46557f48564177db81e13a1cd71.wav\n",
      "/content/drive/MyDrive/WOLOF/wav_final/b6b7e05bd8758bed90bab7ffca83f7d617e3cfb6a3743fb603b3ca1613c4c27c6ffd37407d384e416fd01fdd4239f2ace355aed97d3a144b9572ce4ef5d01373.wav\n"
     ]
    },
    {
     "name": "stderr",
     "output_type": "stream",
     "text": [
      " 61%|██████    | 2248/3672 [05:55<03:31,  6.72it/s]"
     ]
    },
    {
     "name": "stdout",
     "output_type": "stream",
     "text": [
      "/content/drive/MyDrive/WOLOF/wav_final/565fff9e227b208b564eeb943c68d835696eef5be6ef30cbf4b6b3c92452dbc23bb7456624b614dc896a84a20249cd70b388178b76890231a258c6ab029c3009.wav\n",
      "/content/drive/MyDrive/WOLOF/wav_final/09bf13483bba4f0475b891e8473fb5e56d7c1caffe62bdac1305c59754955ddb00e3d4709eab77360a6890ca6912bd9719d0456c098a137cecbd4d61e177a5ee.wav\n"
     ]
    },
    {
     "name": "stderr",
     "output_type": "stream",
     "text": [
      " 61%|██████▏   | 2256/3672 [05:56<03:26,  6.84it/s]"
     ]
    },
    {
     "name": "stdout",
     "output_type": "stream",
     "text": [
      "/content/drive/MyDrive/WOLOF/wav_final/de51ec4906f16b75353caa9494ff1e11f73c9d32356bfcabb90947d7f14b1616a0ac11daac33f9ae901e0ecd38b953fde29c79a88b1a3732efb2d093978c8ac2.wav\n",
      "/content/drive/MyDrive/WOLOF/wav_final/bee54fde1b1b37084246622e175feac0e2ca22a4c2f5651642fe14f4f28548711cd267122be4f11739cf514d576f52c3016c4a9cc598e5365ee71be8f2cfc26b.wav\n"
     ]
    },
    {
     "name": "stderr",
     "output_type": "stream",
     "text": [
      " 62%|██████▏   | 2264/3672 [05:57<03:16,  7.16it/s]"
     ]
    },
    {
     "name": "stdout",
     "output_type": "stream",
     "text": [
      "/content/drive/MyDrive/WOLOF/wav_final/42bf3e97a3ca5ed646ee007e02501833e814a2ae73787987de7b207ca231eca9cd96d611e4f4ceb6a8e44c648264c34d311acae48074b6ed467d8860769fc77f.wav\n",
      "/content/drive/MyDrive/WOLOF/wav_final/57b2a7ed39921fd53bd700f0b70ef73a93b40f8938d84e1e08db8e62fafdbac7b27d110252ad4ded3b51b6dacdeaa2c52a8b841e5bc8ac9cdec40e0c8a24cc5f.wav\n"
     ]
    },
    {
     "name": "stderr",
     "output_type": "stream",
     "text": [
      " 62%|██████▏   | 2272/3672 [05:58<03:21,  6.95it/s]"
     ]
    },
    {
     "name": "stdout",
     "output_type": "stream",
     "text": [
      "/content/drive/MyDrive/WOLOF/wav_final/67a7627bd722fb4b245a429d40f921887ce1d1d5273f0d489ab0619f73966a83241ad0a10c7bed31bf678a65ca302df7398dc908d51f0dde412e8ebe7cb5510b.wav\n"
     ]
    },
    {
     "name": "stderr",
     "output_type": "stream",
     "text": [
      " 62%|██████▏   | 2280/3672 [05:59<03:21,  6.91it/s]"
     ]
    },
    {
     "name": "stdout",
     "output_type": "stream",
     "text": [
      "/content/drive/MyDrive/WOLOF/wav_final/67c5fde204e9b85e2d3f28698774127a407380f783f8320e185ac4560f79affc3e6713e24cd752233839d2b9d35d949a6576aa6732ea48b126a23cefc09061d9.wav\n",
      "/content/drive/MyDrive/WOLOF/wav_final/7a308a6e4c29efa4eb7cf1b99fb4f2a2933a6de90addab685ddd9d3230720f9c371672a877c934021ae1c622f0b076da3d05122a44d61e6a64cd6c14da2e28e3.wav\n"
     ]
    },
    {
     "name": "stderr",
     "output_type": "stream",
     "text": [
      " 62%|██████▏   | 2288/3672 [06:01<03:40,  6.28it/s]"
     ]
    },
    {
     "name": "stdout",
     "output_type": "stream",
     "text": [
      "/content/drive/MyDrive/WOLOF/wav_final/45d8ae9a60bbfe6b4002829c42ee5c50d24fa301982d45243507f8ab5e6cbc3bbc54ae92f3e44abe66a4da3e42943e1efd566a0b81fd236e1f9f0727a66d9f23.wav\n",
      "/content/drive/MyDrive/WOLOF/wav_final/8dd0bb9501c1ce8c809140c4e425dd9d7406b46ad5e75be109505118124beadd82da5b66fb4d26a5c855e8b6eecbc3eda73b29ee4aaa71afb32de2aa05b6288e.wav\n"
     ]
    },
    {
     "name": "stderr",
     "output_type": "stream",
     "text": [
      " 63%|██████▎   | 2296/3672 [06:02<03:17,  6.96it/s]"
     ]
    },
    {
     "name": "stdout",
     "output_type": "stream",
     "text": [
      "/content/drive/MyDrive/WOLOF/wav_final/73386fb27e607554e3598cbb086867a55b2d9c5c0f6ea6dcd87dd21038d95e8df49806ee81e284d9b776d94ea245a22c3fd0d8ffde9af902ac1e2edf7b4870b8.wav\n",
      "/content/drive/MyDrive/WOLOF/wav_final/18727c149e3a324026ec9df07c485f2f7fb0d5f73db2584e3b53a2110b3d81bb0e63b65341bf7d2761640f4ca96c5e296bc3784833fd85083d939600c5f5fe32.wav\n",
      "/content/drive/MyDrive/WOLOF/wav_final/e5b546482c2cd113bf8121f64ae4946ec0af20cf71d6f3630a269c2e239021d48476181d43e50a64056c2ac142138b3b6b9a529d23e970a8ce4b036c9df1af5d.wav\n",
      "/content/drive/MyDrive/WOLOF/wav_final/510613c1d972078e42f4f82882d66cfdff4479d05a0549599cf4fe4ee3f367e02a4c733bd48d131bceb175208ceff305fcb9562b6328418b77a031584acbe95e.wav\n"
     ]
    },
    {
     "name": "stderr",
     "output_type": "stream",
     "text": [
      " 63%|██████▎   | 2304/3672 [06:03<03:05,  7.39it/s]"
     ]
    },
    {
     "name": "stdout",
     "output_type": "stream",
     "text": [
      "/content/drive/MyDrive/WOLOF/wav_final/2222afbafedadb259a85694db1f794af4fde057ab1c2e0479d6dc5fdfeeef8b2c50227b3d904f1ac4957b6e348207a2c4f84c504cadd128e75259baaab19f358.wav\n",
      "/content/drive/MyDrive/WOLOF/wav_final/57f5ccf019f0584bb2f61333b2a4c130d4f8e718d9f633570e179239405a83ac021e901df3d3140abd3faca004aa7370491be7531566195f7bbcfcc1e416d62e.wav\n",
      "/content/drive/MyDrive/WOLOF/wav_final/55e47269c12e0fe3874ccf35a3d38a5e9d92512017914d377f6c8d51b196dc89310da0d51d5968982f5b6ab5a6284bdcb9cd2e93f0c96f5d1b3657dfb79b2608.wav\n",
      "/content/drive/MyDrive/WOLOF/wav_final/61e61815d9c977acf860b2af4eb01f5202b7be7dfa136bedba338f0f7fe75c0d8ebdf082e8c7b1203d4b887e60ac315cc416dc66072638b2de3a32dfb28feef8.wav\n"
     ]
    },
    {
     "name": "stderr",
     "output_type": "stream",
     "text": [
      " 63%|██████▎   | 2312/3672 [06:04<02:56,  7.72it/s]"
     ]
    },
    {
     "name": "stdout",
     "output_type": "stream",
     "text": [
      "/content/drive/MyDrive/WOLOF/wav_final/9ca1313e96b799ca2ee272c9c8d64e9eed15eab9582cf0c596a35b9357fafce82c649ef5053f15a1dadd4998eeb7df56a874892cf0a91c412d1980d5525e5e8a.wav\n",
      "/content/drive/MyDrive/WOLOF/wav_final/28bbe8d0f20bb866682568418d651a7f9ee5b57b241def9ec22190ee6d55226cf814dbf93f9f2e5553ec2dc6a79e46c5e90380b767d4b536396dfe10f74613e3.wav\n",
      "/content/drive/MyDrive/WOLOF/wav_final/d1ff2fc8245ea416bcf713414e92000395b8b4efd7c88c3be4a270b4d308c58ef19bf347baf5165e0a3a43c6840fc08f8872830e9fc3c4e0bc80510232a8c017.wav\n",
      "/content/drive/MyDrive/WOLOF/wav_final/e74d6f2ba0c1fc56d3920132a2fdfa0110a3f2863ea260c7ec9cdfb6cc969d86784e93ca18e995c3c7df3e469206b358d889c3e48ccce9f29c1edbf165280d39.wav\n",
      "/content/drive/MyDrive/WOLOF/wav_final/8eabbb554ee5f04b95104d98d0888e5bb3b32b6a911bb776cf68fb19e44766a7157fec9c163186fdef94d8f5903ccaf77c5aa47147e0c9233225057928b4364c.wav\n"
     ]
    },
    {
     "name": "stderr",
     "output_type": "stream",
     "text": [
      " 64%|██████▍   | 2360/3672 [06:12<03:42,  5.91it/s]"
     ]
    },
    {
     "name": "stdout",
     "output_type": "stream",
     "text": [
      "/content/drive/MyDrive/WOLOF/wav_final/ecebd272030e2803f669a1ae879bb4a48a9b1ef40da3080024da693a386d0a6ea9e4f65a1fbf26260195ff6fa8425cbcffbfec70f9946cebb075b08334ed7ffb.wav\n"
     ]
    },
    {
     "name": "stderr",
     "output_type": "stream",
     "text": [
      " 64%|██████▍   | 2368/3672 [06:13<03:30,  6.20it/s]"
     ]
    },
    {
     "name": "stdout",
     "output_type": "stream",
     "text": [
      "/content/drive/MyDrive/WOLOF/wav_final/3c80a8d3d63db3883de65f31c47c12b25ebf1b301c21a23d01f7c36a1aeb920891b94591fc8bb42ef673da7316b6f66d37ab36d731d0861387d3d478aa7e6800.wav\n",
      "/content/drive/MyDrive/WOLOF/wav_final/7c47e0743867799f9fbf75d24d6725fc4a6a78bc23c818df2404ade56fd3e24e2b1c94bc7ec752f001c21807c37ac65e4c6caa3f83a649160a6ec36164e09223.wav\n"
     ]
    },
    {
     "name": "stderr",
     "output_type": "stream",
     "text": [
      " 65%|██████▍   | 2376/3672 [06:14<03:05,  6.97it/s]"
     ]
    },
    {
     "name": "stdout",
     "output_type": "stream",
     "text": [
      "/content/drive/MyDrive/WOLOF/wav_final/36547d6b5edbd59348b79bff701988b5da582589c03ff2770a566e1f0355db8c9cd604fa79d9e0b65386f5cbf7af8d027eebdf66863902910778469957dc3e74.wav\n"
     ]
    },
    {
     "name": "stderr",
     "output_type": "stream",
     "text": [
      " 65%|██████▍   | 2384/3672 [06:15<03:10,  6.76it/s]"
     ]
    },
    {
     "name": "stdout",
     "output_type": "stream",
     "text": [
      "/content/drive/MyDrive/WOLOF/wav_final/52de5952eaec3987774d6b52d1e40772f3f94ce238179653faf38c316b84111b26a124849c475fbd89a0c1f6ff88b95119e1c102467b48b499ace17662666411.wav\n"
     ]
    },
    {
     "name": "stderr",
     "output_type": "stream",
     "text": [
      " 65%|██████▌   | 2392/3672 [06:16<03:10,  6.72it/s]"
     ]
    },
    {
     "name": "stdout",
     "output_type": "stream",
     "text": [
      "/content/drive/MyDrive/WOLOF/wav_final/d2d306e4059aaef121765fb91b09ecc9cd785dd0d8e185050558d4791fd37d09beb41c4b74814617ab01abf1b48ccfebb0273480b1c31c76e69c1cc8dbed9634.wav\n",
      "/content/drive/MyDrive/WOLOF/wav_final/d05adf1022ab30762e1c50efbe081a44a90698dcba2420138883b74164e2b661561296be4b0faff23d67d0c1e8f983671b2ab53a05fbc06156af137d00f59cd7.wav\n"
     ]
    },
    {
     "name": "stderr",
     "output_type": "stream",
     "text": [
      " 65%|██████▌   | 2400/3672 [06:17<02:55,  7.23it/s]"
     ]
    },
    {
     "name": "stdout",
     "output_type": "stream",
     "text": [
      "/content/drive/MyDrive/WOLOF/wav_final/b6db498ff4ffc840a56199ddb7181aaa4847f9679fc4a5810b4b9f7166cf44ec8c07b5b81f23004d098433195c5324d9d907e4eae8dce048a31a568ad04e0e75.wav\n",
      "/content/drive/MyDrive/WOLOF/wav_final/faed8396e40782fad363c67d4ed38b51f8d963f58fc8627113a4620cc5a973a93d73f4ae89fc47945a5798b7d5ac9c425b1009a1e2399fd91cee6e55abc36c7c.wav\n"
     ]
    },
    {
     "name": "stderr",
     "output_type": "stream",
     "text": [
      " 66%|██████▌   | 2408/3672 [06:19<03:11,  6.59it/s]"
     ]
    },
    {
     "name": "stdout",
     "output_type": "stream",
     "text": [
      "/content/drive/MyDrive/WOLOF/wav_final/eccfef74f74919f545d40345a18a45f74fd8a2b7a6c072d62c091413c0bb4d9b60a12241a75209416f0693b06feca8bd1f995798dd0ab70c84c9942ea698dbfc.wav\n"
     ]
    },
    {
     "name": "stderr",
     "output_type": "stream",
     "text": [
      " 66%|██████▌   | 2416/3672 [06:20<03:09,  6.61it/s]"
     ]
    },
    {
     "name": "stdout",
     "output_type": "stream",
     "text": [
      "/content/drive/MyDrive/WOLOF/wav_final/afd07eee5635cc7450263e41db0ecd4256af9b064571d1074b2c0ec2f76e68575dfba5fc847b61f32afa1ea2c8657552524705adb65bb7ea8e4762738fc2502c.wav\n",
      "/content/drive/MyDrive/WOLOF/wav_final/f845eae0fcd77f14e925bdcf0274fdcb5aa9aba396415dc5bc9244ffc094637a006a72abaf1bbf210f813d26ec94b6f7feaa8d90247c7d5a6bd0c0831520845a.wav\n",
      "/content/drive/MyDrive/WOLOF/wav_final/274d017b9b7a44e5147e4b05a78fedabe5d0812194b28da0571139c8c9ff81d8d4dd2a4e6bce537db16e8f62acdb759276b72b6cffebec5f046bbc3573b9cff9.wav\n"
     ]
    },
    {
     "name": "stderr",
     "output_type": "stream",
     "text": [
      " 66%|██████▌   | 2424/3672 [06:21<03:02,  6.82it/s]"
     ]
    },
    {
     "name": "stdout",
     "output_type": "stream",
     "text": [
      "/content/drive/MyDrive/WOLOF/wav_final/bd27197666313c0c44e78f68610d26be6ab812de40ed1cddf06245cb609f10797cb02fed119d00261bb955f69a3e539637772e20d4627fc5bc297475ecf020e5.wav\n",
      "/content/drive/MyDrive/WOLOF/wav_final/33eccca324df6491ddedd8726f14fde04fab122d484916d6237afff86b99243591d92bec5beeefe10b66f0e1f8f89a60ba8042c4fb125f578d2b4ff36f6e1b52.wav\n",
      "/content/drive/MyDrive/WOLOF/wav_final/e014cabbfe9303986b5951a60532e1dee2633046ca61f43af586d823eff0dc6f525aad311933cb65f067a8a995abc77d89f3d91b5ebb4ff5ad9531289e3116ae.wav\n",
      "/content/drive/MyDrive/WOLOF/wav_final/202a255400c81637a91fc6d298e47cfec67c0a9ed45aced96ad326dfd9b69a91fb7a2309d42285d75ad707a180eb3989f32294283a8e5c4150aa2c2d86963440.wav\n",
      "/content/drive/MyDrive/WOLOF/wav_final/27beb649f45b1bb18683fe334986acc74d4a1f34331bd6a801a58b7f1b40947709e6f4ac94683f2105ea046a226689759ee7ddd82dddffca1e5dc6323f3587f5.wav\n"
     ]
    },
    {
     "name": "stderr",
     "output_type": "stream",
     "text": [
      " 66%|██████▌   | 2432/3672 [06:22<03:04,  6.73it/s]"
     ]
    },
    {
     "name": "stdout",
     "output_type": "stream",
     "text": [
      "/content/drive/MyDrive/WOLOF/wav_final/9aa0a41f999e21a30c50690e24f844ac60339489991d1562c5d8f9c690a27426c55dd5ccc594785a90a42f906f748da2b09ae181b90410afd3af8b67b4fb93b8.wav\n",
      "/content/drive/MyDrive/WOLOF/wav_final/4d77cb958e3f0edce27f36944f5ac3fa1ae82b825765e57a60a2860c517a4f98e1ef07976c3c8c65f145e87c2c41390ec8b203bf81d606a0a83fa2229e47c4fc.wav\n",
      "/content/drive/MyDrive/WOLOF/wav_final/7dcd7b50c0064dd6fc69d61200f2e01403c6485187f993b59e71178fcd3b9a2dfaa5db937bb2deef8be3dcad5a6e3ab8d280a173dafdb7f41f4eb8500683fb49.wav\n"
     ]
    },
    {
     "name": "stderr",
     "output_type": "stream",
     "text": [
      " 67%|██████▋   | 2464/3672 [06:27<03:15,  6.18it/s]"
     ]
    },
    {
     "name": "stdout",
     "output_type": "stream",
     "text": [
      "/content/drive/MyDrive/WOLOF/wav_final/cc067b971ea821cd3887372e798b95a7cd67764bfd148b2f78b1cf02d6fd411cc0c00794bca7cdc6efee3fbef5fdfd556844b237a72b41ae8881e8b3c54da471.wav\n",
      "/content/drive/MyDrive/WOLOF/wav_final/ee1240a419c73990d983be8487dd77df3b4a69b45c65cb525403ba79cd0e329f0971f18bfe8a4c50a22c05f48cb939f96bafb19c16f68b50c82f38b1ad424d53.wav\n"
     ]
    },
    {
     "name": "stderr",
     "output_type": "stream",
     "text": [
      " 68%|██████▊   | 2496/3672 [06:32<02:55,  6.70it/s]"
     ]
    },
    {
     "name": "stdout",
     "output_type": "stream",
     "text": [
      "/content/drive/MyDrive/WOLOF/wav_final/3407458c11568037d78a09cec1bb53b3944455acd78430d306b51d84d3bb3a2c31ba5314f5878857f0af1c00843197188b72cee5e6d36e177f6f34f13b2a5f9c.wav\n"
     ]
    },
    {
     "name": "stderr",
     "output_type": "stream",
     "text": [
      " 68%|██████▊   | 2512/3672 [06:35<02:48,  6.90it/s]"
     ]
    },
    {
     "name": "stdout",
     "output_type": "stream",
     "text": [
      "/content/drive/MyDrive/WOLOF/wav_final/38e024f2a042ec27f235da49e926ba98b7d8b7b05b092341ee0b3a815d0d0b3ff5e70281ac8201ddb5e920f377010a73b820258e7f4b7d42509dc7b1eb6eed1d.wav\n",
      "/content/drive/MyDrive/WOLOF/wav_final/37baa16fe0cd91ee773baa0a708e7bb2771ce861aa0ef55ec7c7f4c3218406b6a7bdf0b297c110eabc0fae9ef1d242d30a9a83f22b3fb1856dc654dfd88e06e1.wav\n"
     ]
    },
    {
     "name": "stderr",
     "output_type": "stream",
     "text": [
      " 69%|██████▉   | 2528/3672 [06:38<03:07,  6.09it/s]"
     ]
    },
    {
     "name": "stdout",
     "output_type": "stream",
     "text": [
      "/content/drive/MyDrive/WOLOF/wav_final/141aa1f667bb66434ba0f8abd87e350d44f9ae97c81fb7dec3c1aadbd2f3beafbb460b6494886a7d6faf4b9f788355bc77b7476e7e76913c930d98d562d5b6b9.wav\n"
     ]
    },
    {
     "name": "stderr",
     "output_type": "stream",
     "text": [
      " 69%|██████▉   | 2552/3672 [06:41<02:58,  6.27it/s]"
     ]
    },
    {
     "name": "stdout",
     "output_type": "stream",
     "text": [
      "/content/drive/MyDrive/WOLOF/wav_final/a06396d0347c2427b7b28f5482282162e8843e0832166749e89c221829955d783f67d575c447090a05333cf6c7d4f7e127bdefbb8ec9b7804fad4095f33c551e.wav\n"
     ]
    },
    {
     "name": "stderr",
     "output_type": "stream",
     "text": [
      " 70%|███████   | 2576/3672 [06:45<02:59,  6.12it/s]"
     ]
    },
    {
     "name": "stdout",
     "output_type": "stream",
     "text": [
      "/content/drive/MyDrive/WOLOF/wav_final/10bf3415ae55a36ea1d6898778aaa950e2386153fa08166159f3f395c8aea53af5da05bcc21d9ec60793feaed76b6c715a231f81f60c36f0a739cb91215afcd0.wav\n"
     ]
    },
    {
     "name": "stderr",
     "output_type": "stream",
     "text": [
      " 70%|███████   | 2584/3672 [06:47<03:18,  5.48it/s]"
     ]
    },
    {
     "name": "stdout",
     "output_type": "stream",
     "text": [
      "/content/drive/MyDrive/WOLOF/wav_final/22b868cf6a4ca373fd6502ffc30a8b9e5d8be990c7b3f14f0e170696b991cfb524b38323e7921162f7839ed5ff18a212bb0ef68ef1c50b494eb0720be8fc23ed.wav\n"
     ]
    },
    {
     "name": "stderr",
     "output_type": "stream",
     "text": [
      " 71%|███████   | 2600/3672 [06:49<03:02,  5.87it/s]"
     ]
    },
    {
     "name": "stdout",
     "output_type": "stream",
     "text": [
      "/content/drive/MyDrive/WOLOF/wav_final/a4ed20c89639834e771142f0ef5f5960355b3cd60430f6218e81179ffd88ccf2a6d75ec8ecf58ca9180194004599540c7f805ef646bda458f223986580e4333d.wav\n"
     ]
    },
    {
     "name": "stderr",
     "output_type": "stream",
     "text": [
      " 71%|███████   | 2608/3672 [06:51<03:05,  5.74it/s]"
     ]
    },
    {
     "name": "stdout",
     "output_type": "stream",
     "text": [
      "/content/drive/MyDrive/WOLOF/wav_final/b7f9354ac1502d5692d888b921276a3771a6743825bfbb5062aa385ed85a813e7da19767659a4d8744f910bc6cd76fc5b6a75833f35b8e7af540847dd9c6d924.wav\n"
     ]
    },
    {
     "name": "stderr",
     "output_type": "stream",
     "text": [
      " 71%|███████   | 2616/3672 [06:52<02:58,  5.92it/s]"
     ]
    },
    {
     "name": "stdout",
     "output_type": "stream",
     "text": [
      "/content/drive/MyDrive/WOLOF/wav_final/b51326914d14619a290599117c95b483856ff0d21c61043ad893de1ce4f0cd8a116d92badeaa2edae51c1fd3e8a71448328bd628f38e317de69f7db8cf9e7551.wav\n",
      "/content/drive/MyDrive/WOLOF/wav_final/fd78815bae42eadb81b88abbfe2ca7955b3d8b4046f61acad66ac82229868a560eb657b907367aea27440cee5c737fd94742f88d6931f73498aa1e57b8537d54.wav\n"
     ]
    },
    {
     "name": "stderr",
     "output_type": "stream",
     "text": [
      " 71%|███████▏  | 2624/3672 [06:53<02:49,  6.19it/s]"
     ]
    },
    {
     "name": "stdout",
     "output_type": "stream",
     "text": [
      "/content/drive/MyDrive/WOLOF/wav_final/347da253ed089ae09e9b11a2ef760046ab79d4667d4d7c259c6fab72726137533e2af8c547e3b301019d98c1f235274c66b2a74f2d0c5bade4b39311e522dcff.wav\n",
      "/content/drive/MyDrive/WOLOF/wav_final/20114287645e3e582ffe8bf24ef4c5d2d5a2ebf2f5f27b0d3f7697b9005a3043429b4839520dd5ab52dc95cc42b5c984008bb863596b8fc05504612722c61753.wav\n",
      "/content/drive/MyDrive/WOLOF/wav_final/c5fc176af57ec61a7b9fdb108a3bff42f6cbe17264c629d503f201d89b11ffc56a9d30737a2d9c0fae2b270acb1f417f89bd80d3bcf5a9e207ef7ab91ad8485f.wav\n",
      "/content/drive/MyDrive/WOLOF/wav_final/360d0b4d061d8a8644709b5803d9831acdb26cc98a07e5da49d62237a574e8ce91879ccfd02f4637fc7e3afa45b08c24e3331bfdaaae76c3788c1ce322c66328.wav\n"
     ]
    },
    {
     "name": "stderr",
     "output_type": "stream",
     "text": [
      " 72%|███████▏  | 2632/3672 [06:55<02:52,  6.03it/s]"
     ]
    },
    {
     "name": "stdout",
     "output_type": "stream",
     "text": [
      "/content/drive/MyDrive/WOLOF/wav_final/9f6e4d2254f263cd3d924d5a48a6df4c3bad22c4639332dace0753e9c6804eaad7334e056328f916cb80428a017e828a8ac3e0bbb9490b3fe78844db1c4962ba.wav\n",
      "/content/drive/MyDrive/WOLOF/wav_final/3ef9d14b0d33754cfbac70228cb85d1d97fe873b1f3133dc3fbc46d961ecbc439b69cd930c2e6a78c9d381ef7db8c6b9f849267b46c350767ec1149e465ab620.wav\n",
      "/content/drive/MyDrive/WOLOF/wav_final/f8d240b70944068d8ecd3ceade8ac9fa40eb0b86588b081c29c99a40aa97302b8e11be58f9c829ef5284085d8cd9090f037bf22f683a1f187731c90be70bba1b.wav\n"
     ]
    },
    {
     "name": "stderr",
     "output_type": "stream",
     "text": [
      " 72%|███████▏  | 2640/3672 [06:56<02:43,  6.33it/s]"
     ]
    },
    {
     "name": "stdout",
     "output_type": "stream",
     "text": [
      "/content/drive/MyDrive/WOLOF/wav_final/7e4863d9ba8d27b44ed44eba4941f7a8dcc09660871de25f5b6ce844f1dddb8166ae78ccd4826fc4b54d399134583a21cb69ab3565f511741fb432d8209a8aca.wav\n"
     ]
    },
    {
     "name": "stderr",
     "output_type": "stream",
     "text": [
      " 72%|███████▏  | 2648/3672 [06:57<02:30,  6.81it/s]"
     ]
    },
    {
     "name": "stdout",
     "output_type": "stream",
     "text": [
      "/content/drive/MyDrive/WOLOF/wav_final/f380609f18fa9af03f862b31babfe3038d299bbf54c5a9041a66ec4fb18b8f5f11c11f13ebc28de1a199ec44ccfa480480ee482688631920c26a84657c33ac74.wav\n",
      "/content/drive/MyDrive/WOLOF/wav_final/9aea6bde7ceea436ce5da88ef8b39f34d6517ea8e5de8ab14874f1c72184c2b905d35852ba2126f64004f67a627a81f921f07253e2e63855c07f564607278ac2.wav\n"
     ]
    },
    {
     "name": "stderr",
     "output_type": "stream",
     "text": [
      " 72%|███████▏  | 2656/3672 [06:58<02:41,  6.30it/s]"
     ]
    },
    {
     "name": "stdout",
     "output_type": "stream",
     "text": [
      "/content/drive/MyDrive/WOLOF/wav_final/3ef642f1d16639f3d9849ff36587fec326e88198b308487b220779140bccfbf3deaead07c3958fa4f070bbc5e88e349cdb796c3e1982c8fecc1514b22ed7f0c5.wav\n"
     ]
    },
    {
     "name": "stderr",
     "output_type": "stream",
     "text": [
      " 73%|███████▎  | 2664/3672 [06:59<02:34,  6.51it/s]"
     ]
    },
    {
     "name": "stdout",
     "output_type": "stream",
     "text": [
      "/content/drive/MyDrive/WOLOF/wav_final/0d297110f6e7fe2296f2b0031d4ae9b377f2d100972567da9d094bc24c74e231570998a8cd390a1dd22ff81b1889983481ed7cdf23851fec781d1d27e91552d9.wav\n"
     ]
    },
    {
     "name": "stderr",
     "output_type": "stream",
     "text": [
      " 73%|███████▎  | 2672/3672 [07:00<02:25,  6.85it/s]"
     ]
    },
    {
     "name": "stdout",
     "output_type": "stream",
     "text": [
      "/content/drive/MyDrive/WOLOF/wav_final/b12aa00540eaa2e07ce820064037d877b04bf7fadd1e8e26ceddd08472cd75c53010a3bf9001c5682225b39b47cba6f2334a13997ab0b46de715d5693bc1e7bd.wav\n"
     ]
    },
    {
     "name": "stderr",
     "output_type": "stream",
     "text": [
      " 73%|███████▎  | 2680/3672 [07:02<02:29,  6.62it/s]"
     ]
    },
    {
     "name": "stdout",
     "output_type": "stream",
     "text": [
      "/content/drive/MyDrive/WOLOF/wav_final/f084910c929c1ff1c55b46c4b6b052e8b3f3cbdac217f7d5252e27ea4bd488a336ef85617304501e05e3f32279c76e38e48803f390c292e99f6441fa6322fd3d.wav\n",
      "/content/drive/MyDrive/WOLOF/wav_final/faf79b2406eb56df512680192a4d467c71d381ad4a628d9a61f0e8746f27a6539bb29faf0449cfba2b2ddeae284350eab97f3dd782769865853c42229a056718.wav\n",
      "/content/drive/MyDrive/WOLOF/wav_final/69d95ebebf68b720d728fa3f4a22263bac38ce98a97a5925b9af37fbf74656dd92574ed7c5a6b8c142b41a3e8d7c0b19047bff80126a8c8308a69ea2de92a7f5.wav\n",
      "/content/drive/MyDrive/WOLOF/wav_final/e46e161231fad3d02a944cb9b3f83eb5e8149c10a1bc9d92803919474a8d90935b1c68678582c20190d9ad3cbd7f08ea3097b8b725a19f28069b242cd64c66d1.wav\n"
     ]
    },
    {
     "name": "stderr",
     "output_type": "stream",
     "text": [
      " 73%|███████▎  | 2688/3672 [07:03<02:23,  6.85it/s]"
     ]
    },
    {
     "name": "stdout",
     "output_type": "stream",
     "text": [
      "/content/drive/MyDrive/WOLOF/wav_final/999739dec27cac79418a765cbc77b9af28f48766ebbb641f149da2a8ca4993db58abe4a9e98928e0b77cd89533e69f560eca0e7f44352e360706b3b7d1af8c72.wav\n",
      "/content/drive/MyDrive/WOLOF/wav_final/6d6b0bf3e7a9d2a8d104963d40b33d0f451980ef3e119ee738a354fe2e3ddbd7a3adf69d32d16cd6d9a6dce5daac74059a75f082e69fda39a10cf128f0ae1a7e.wav\n",
      "/content/drive/MyDrive/WOLOF/wav_final/8101a993f9176a4eb07d6a94da5e8309af9b30283b2dd9fa7f6ef087a7b3f0018ff7117bce7ad3a8a392d68c26fa59d30dbb191d0be9937d915396a2c2ec1c5a.wav\n"
     ]
    },
    {
     "name": "stderr",
     "output_type": "stream",
     "text": [
      " 73%|███████▎  | 2696/3672 [07:04<02:27,  6.61it/s]"
     ]
    },
    {
     "name": "stdout",
     "output_type": "stream",
     "text": [
      "/content/drive/MyDrive/WOLOF/wav_final/36e107a53897a719020676d2838c481a2476ad0f7188e286af7074f5929b9a3dc116f6a440fec7ae9c630249b84154f1df325640f5f287bf5aecd8da0717bafc.wav\n"
     ]
    },
    {
     "name": "stderr",
     "output_type": "stream",
     "text": [
      " 74%|███████▍  | 2712/3672 [07:06<02:15,  7.10it/s]"
     ]
    },
    {
     "name": "stdout",
     "output_type": "stream",
     "text": [
      "/content/drive/MyDrive/WOLOF/wav_final/b3a29a53c9cdda177d189a95f9faa8e9d04520815baf7e54b78128f8a24ec7a704fe1729e429f310278ff9b8ef322d0d32f93f592d1e4602b5b98de316298dc6.wav\n"
     ]
    },
    {
     "name": "stderr",
     "output_type": "stream",
     "text": [
      " 74%|███████▍  | 2728/3672 [07:09<02:19,  6.75it/s]"
     ]
    },
    {
     "name": "stdout",
     "output_type": "stream",
     "text": [
      "/content/drive/MyDrive/WOLOF/wav_final/651497a1f0767b77195b8063bac51ed7592650bb50bc68c1b4e95be4136ee1ac79d77a20d9eaf2c7d9f591ce005551bb80dfba05de8ebd37dc885445c74f1317.wav\n"
     ]
    },
    {
     "name": "stderr",
     "output_type": "stream",
     "text": [
      " 75%|███████▍  | 2736/3672 [07:09<02:02,  7.65it/s]"
     ]
    },
    {
     "name": "stdout",
     "output_type": "stream",
     "text": [
      "/content/drive/MyDrive/WOLOF/wav_final/8974690d73025845e2a0ab045096042f3f54edb6851e627ba5f7bc9f974345c339cad6efc8e8cbddbc607ebdaca52637da695fd9342da43df231e52512a2c36a.wav\n",
      "/content/drive/MyDrive/WOLOF/wav_final/0289f86f598030c296a448a542634198d1ce0d6d7193032a221d1bb231c955d2a4e1f5ecec26bd0c6559057bb9da1153f098649ecbee030dd041e36c6a4b1527.wav\n",
      "/content/drive/MyDrive/WOLOF/wav_final/d3f74bc3f69092c462aa193c5284c592bd351a0997a3dce7de5a493729458e13379c0c4a559a94083ed786f3fdebb85eec4b70c2180b2defc1620bc1304c381a.wav\n"
     ]
    },
    {
     "name": "stderr",
     "output_type": "stream",
     "text": [
      " 75%|███████▌  | 2760/3672 [07:14<02:29,  6.09it/s]"
     ]
    },
    {
     "name": "stdout",
     "output_type": "stream",
     "text": [
      "/content/drive/MyDrive/WOLOF/wav_final/f248a77fac129083501684b8623e51c373a86e29e4c47690e8fdc79ea7ecf3617bb17df8a94c1ef267f0ba2798ca800e4a3f1ee2d5156878e241f4300c28b50a.wav\n"
     ]
    },
    {
     "name": "stderr",
     "output_type": "stream",
     "text": [
      " 75%|███████▌  | 2768/3672 [07:15<02:15,  6.67it/s]"
     ]
    },
    {
     "name": "stdout",
     "output_type": "stream",
     "text": [
      "/content/drive/MyDrive/WOLOF/wav_final/28494b4af813d7f1c1238a58b01301fb02aa810fd3794c19ec097970731ba58d366f6f1c94fa16ef9ddf15da17b5897967d9c0b055051ef25526c02dbfc5b3e9.wav\n"
     ]
    },
    {
     "name": "stderr",
     "output_type": "stream",
     "text": [
      " 76%|███████▌  | 2776/3672 [07:17<02:28,  6.04it/s]"
     ]
    },
    {
     "name": "stdout",
     "output_type": "stream",
     "text": [
      "/content/drive/MyDrive/WOLOF/wav_final/90ea67b0cc6a6fb7298ce9827c794f8223b45f5e7f2397d146369683234e58b72e4a632b315d68828f1cb5c43941d47c28b77706cc8c52ef1ee30253bdf0b769.wav\n",
      "/content/drive/MyDrive/WOLOF/wav_final/7df8f7daba66e9f8c806d4307b7c97af13e519a8296544df52d9b74490d6b970f337b941630d4cdfed38a7c02aa0f419edf2f38236d9c8deb0430057fc37c579.wav\n"
     ]
    },
    {
     "name": "stderr",
     "output_type": "stream",
     "text": [
      " 76%|███████▋  | 2800/3672 [07:21<02:35,  5.59it/s]"
     ]
    },
    {
     "name": "stdout",
     "output_type": "stream",
     "text": [
      "/content/drive/MyDrive/WOLOF/wav_final/e77eb296f1195fd05f6257c6e10ade081d0fc72a7e9f7ccc7d2356fd245a6660fedaa5c49f88dea9373041174189f577350509b5440f9edcd888623a1bf75dd5.wav\n",
      "/content/drive/MyDrive/WOLOF/wav_final/c4734a958e2485d0288726658dc8911ead1b4eabbb86f2d99f45dd9f8451b9a800b6c3475eae278f7254d23878bb4902f088a417fc64e06d68c0dfca0de570fa.wav\n"
     ]
    },
    {
     "name": "stderr",
     "output_type": "stream",
     "text": [
      " 76%|███████▋  | 2808/3672 [07:23<02:52,  5.01it/s]"
     ]
    },
    {
     "name": "stdout",
     "output_type": "stream",
     "text": [
      "/content/drive/MyDrive/WOLOF/wav_final/e64c0ae4d0e095d967a155360eabdf2cd51cda311efd18b26aaa7b3de04c858d172b30940140ca03fa2e4c19565935a32d283f5656601e60dadeae304867d1e5.wav\n",
      "/content/drive/MyDrive/WOLOF/wav_final/e3d2cd959d50620020d63ff5d26a9023aa0dcd5030ab4d824c2b87c58cb5326e9ddda1e6203310d8aef08ab6c58363aeaccba395a0b8fed8b87e1a896be4848d.wav\n"
     ]
    },
    {
     "name": "stderr",
     "output_type": "stream",
     "text": [
      " 77%|███████▋  | 2816/3672 [07:24<02:32,  5.63it/s]"
     ]
    },
    {
     "name": "stdout",
     "output_type": "stream",
     "text": [
      "/content/drive/MyDrive/WOLOF/wav_final/fc654515322373484c6aa6b520f87390c7bb5ff77f0b92172f37ecbf0c47873f108a44d85cafb3556a679e28afbe33472532a1679a25a97bd223a7ffd91618e6.wav\n",
      "/content/drive/MyDrive/WOLOF/wav_final/b0d7baf660e88f1a40a9108a6f46d7b0ab9eeec416313bd56316d3c088c9a52d14e357da1d2140d643589ec9d7ac7595ae9e354a0500f2779f8e4de5f1910b55.wav\n"
     ]
    },
    {
     "name": "stderr",
     "output_type": "stream",
     "text": [
      " 77%|███████▋  | 2824/3672 [07:26<02:21,  5.99it/s]"
     ]
    },
    {
     "name": "stdout",
     "output_type": "stream",
     "text": [
      "/content/drive/MyDrive/WOLOF/wav_final/37232fa63de7d264b55ac704a7769a9c1e11664e08b15d734e8377f4bbde537240c27dc5f129b6a3278b18848e9b9c68ffbb5334c5e2037ba5af78f0e3a6b2b5.wav\n"
     ]
    },
    {
     "name": "stderr",
     "output_type": "stream",
     "text": [
      " 77%|███████▋  | 2840/3672 [07:28<02:25,  5.73it/s]"
     ]
    },
    {
     "name": "stdout",
     "output_type": "stream",
     "text": [
      "/content/drive/MyDrive/WOLOF/wav_final/9673cc6fbcd62be73335a8386a73f691bd19fb0464dceff8a2405e7ca7618cd6a1b28af3aa9878c798b5d9e3b0fcf53b37033d47f66a9415ebf1d5362764b6a6.wav\n"
     ]
    },
    {
     "name": "stderr",
     "output_type": "stream",
     "text": [
      " 78%|███████▊  | 2856/3672 [07:31<02:29,  5.47it/s]"
     ]
    },
    {
     "name": "stdout",
     "output_type": "stream",
     "text": [
      "/content/drive/MyDrive/WOLOF/wav_final/b884802fe5555bc770e3d002e0723beee03f36767a84bf5005c0d82cca84fa21da0680c8c935e9d18fa1b0c63c9162699d6878de7219a31119410af23ca8e891.wav\n",
      "/content/drive/MyDrive/WOLOF/wav_final/61e58fdef2392475683ceaae504fb47550a5b5f415aee7a087bd1bff954ed59b1453196a0c21f2e4880a8a4d902d238561a701d0e283fc6bd898602e5f2c3102.wav\n"
     ]
    },
    {
     "name": "stderr",
     "output_type": "stream",
     "text": [
      " 78%|███████▊  | 2872/3672 [07:35<02:32,  5.24it/s]"
     ]
    },
    {
     "name": "stdout",
     "output_type": "stream",
     "text": [
      "/content/drive/MyDrive/WOLOF/wav_final/f52e7bad23f7af69a58c834d01ae1e62f59a27fc8d217e38cd1bbf946cc4ee74244cc3f3e0227f88e56ebaf6f63acab4035b3df0692180228bcffafb3909a980.wav\n"
     ]
    },
    {
     "name": "stderr",
     "output_type": "stream",
     "text": [
      " 80%|███████▉  | 2936/3672 [07:46<02:08,  5.71it/s]"
     ]
    },
    {
     "name": "stdout",
     "output_type": "stream",
     "text": [
      "/content/drive/MyDrive/WOLOF/wav_final/03832080316802cd495f80eebd66332f5ce881ff06349e9896557c8b01aa085eb22cf22f198eed2589799437039cb0e78030baf8338afb3f06616f880a85055d.wav\n",
      "/content/drive/MyDrive/WOLOF/wav_final/0dbc39e1e1c4ebc61fa607e2650b7143e38588548bba0d66f899d4b25ba485156b7255d47caf8d02f5dbf12deaa800216baf4d90b6995bba5f76d3ae6099947e.wav\n"
     ]
    },
    {
     "name": "stderr",
     "output_type": "stream",
     "text": [
      " 81%|████████  | 2968/3672 [07:53<02:08,  5.48it/s]"
     ]
    },
    {
     "name": "stdout",
     "output_type": "stream",
     "text": [
      "/content/drive/MyDrive/WOLOF/wav_final/82ac6e553d294482bd9dcc820ce20819450abd7666ebcb5c1dc9bd1fe70b344ae2318f80492c0890bc77095540be4678b89030f2b762625b35986357627e2993.wav\n"
     ]
    },
    {
     "name": "stderr",
     "output_type": "stream",
     "text": [
      " 81%|████████  | 2976/3672 [07:54<02:01,  5.71it/s]"
     ]
    },
    {
     "name": "stdout",
     "output_type": "stream",
     "text": [
      "/content/drive/MyDrive/WOLOF/wav_final/1fc94d445c9a4b151e8f8ab913c56f5a1d9963b18c8f7f51f77b9cc7535c22462afc7ab82a0deefe28b75bef861cee4142d16824f6d1ab75dfd7898bad0d00f5.wav\n"
     ]
    },
    {
     "name": "stderr",
     "output_type": "stream",
     "text": [
      " 81%|████████▏ | 2984/3672 [07:55<01:45,  6.54it/s]"
     ]
    },
    {
     "name": "stdout",
     "output_type": "stream",
     "text": [
      "/content/drive/MyDrive/WOLOF/wav_final/28abdeccca51f1e642d12d130864d627610b12bd084c87b20b8365974e6f759997944735bc0b70906fc75991d03db0d1f2bcac0a96911b4942e2c462f3f953f1.wav\n",
      "/content/drive/MyDrive/WOLOF/wav_final/7a5ae13e86cde9ef75f9c9ae0771b12e189d933b77fb6bb5f02d2360a98082ccfb0a59201d842969557348997f5ff3956ffd352c2076894f7e9563af2f9b58e2.wav\n",
      "/content/drive/MyDrive/WOLOF/wav_final/3c308da3d1b19da418a4769fc9ab6d1b38c4912ef197c26408f34e3f360e8308360dfeeba49c791386405a00875a0eceb4e99c9629bdceae1c688d891cd5dc88.wav\n",
      "/content/drive/MyDrive/WOLOF/wav_final/7f096ce48371f8e3bf0e8c96340b6dbf2703dddabee236d478fee62cf47c054dad2d66aeaa4d76498c5a469f34ac5251c79e5e506f1e3c94b36dfafb264f2552.wav\n"
     ]
    },
    {
     "name": "stderr",
     "output_type": "stream",
     "text": [
      " 81%|████████▏ | 2992/3672 [07:56<01:42,  6.62it/s]"
     ]
    },
    {
     "name": "stdout",
     "output_type": "stream",
     "text": [
      "/content/drive/MyDrive/WOLOF/wav_final/4c59c64f12b935ed3db0c77e3bf3e0d9f3aa4a6b3620177013bc7536d6a01be08c2c84e4dfbc8fea72215cc078a5696c3544be3e860132d41ab894b15347ebca.wav\n",
      "/content/drive/MyDrive/WOLOF/wav_final/6ba326e10ff39f7961e48c9ef6133a41d5e56c557ecb6d5c0a9c2617ad365b3a269f2427bc34b3d87b2ac6c494cbfc446638f2976944995cc52f1056a75036a4.wav\n",
      "/content/drive/MyDrive/WOLOF/wav_final/4427fb6ce15059921f696e31f6e30b5c41ba3876d8a256ab811bc2cfe8a6df5e85bcbb396ceb705576501bb96881a03eab1b53ea9c42a46a803de1c1d0d496e0.wav\n"
     ]
    },
    {
     "name": "stderr",
     "output_type": "stream",
     "text": [
      " 82%|████████▏ | 3000/3672 [07:57<01:34,  7.13it/s]"
     ]
    },
    {
     "name": "stdout",
     "output_type": "stream",
     "text": [
      "/content/drive/MyDrive/WOLOF/wav_final/1520938891bd7c484566d134149d62d1b877550de6f1e5ded323da92b5b33e3b14b29c9772223c827c1653d04ef0c99d22e060e3b6a05b4d7eab230085910b5a.wav\n",
      "/content/drive/MyDrive/WOLOF/wav_final/1a3592f808261d03a4513a1af4a1572c9e3228ac1a4534f406548e9f1888477c9e24179bdea954edda90bb1737f9ca15ca50e091f28ae9b5e1f16ef1fd0f2f78.wav\n"
     ]
    },
    {
     "name": "stderr",
     "output_type": "stream",
     "text": [
      " 82%|████████▏ | 3008/3672 [07:58<01:34,  7.04it/s]"
     ]
    },
    {
     "name": "stdout",
     "output_type": "stream",
     "text": [
      "/content/drive/MyDrive/WOLOF/wav_final/9b9ea57815e527c37963dbc602c0c95e106c33fc9d005e99720b5d0998e4849e07256cc9e16341f8c32b56d36e61395499bf84de497bfaa09e4717dcaae6860b.wav\n",
      "/content/drive/MyDrive/WOLOF/wav_final/1ff0b0b772654ac2a644b7a7ac1164bde8952a5d5c3891008e8b5c33ad6c507f5a83a870caeb2417ef1ffa691ad6e9e262c377abc1fef300e213a2fb24f8695d.wav\n",
      "/content/drive/MyDrive/WOLOF/wav_final/748a95ba59a7261c17f255b6b757e0ffe4b5a7655d682ae955b43faf2bfa06f50411c9e9557679faf7fbec1308c8f19423dd922ed963397a6713b6a6f714cfb9.wav\n"
     ]
    },
    {
     "name": "stderr",
     "output_type": "stream",
     "text": [
      " 82%|████████▏ | 3016/3672 [07:59<01:30,  7.24it/s]"
     ]
    },
    {
     "name": "stdout",
     "output_type": "stream",
     "text": [
      "/content/drive/MyDrive/WOLOF/wav_final/2938306357ddeb8484bddef85236e0639aa4aed4796d26b32cfab1692a0100e71c7ad4bd99552b70078a46ee2907c5aa189cc1dcefa9c17602303c2773b12e4a.wav\n",
      "/content/drive/MyDrive/WOLOF/wav_final/0cf4da244bf65432e640eacbf133e4b715a05efcebb3d83ec7fb5f1a9dc37d7c2e97f02a8a3240cb80f40ec3d88a7b0a3c39d0c83cd24fda5887ba253870a655.wav\n",
      "/content/drive/MyDrive/WOLOF/wav_final/24136c2278f5eb73f5d2ae6dc70fd3cc702799e2b3269663eacc5ddf477570c6f05742cb327e718a88dc7fbe7ef57840da23d596dbd53179c2a04d955af95f6c.wav\n"
     ]
    },
    {
     "name": "stderr",
     "output_type": "stream",
     "text": [
      " 82%|████████▏ | 3024/3672 [08:00<01:31,  7.12it/s]"
     ]
    },
    {
     "name": "stdout",
     "output_type": "stream",
     "text": [
      "/content/drive/MyDrive/WOLOF/wav_final/48ac2a9b78df1ce8d534aa9e675c7564e586940bbc8142ff5954af67a8d9fbfe2fc8a9907ed1430cb892e7cbf35c97f6a4f2049322ec5379820107feb78b9f92.wav\n",
      "/content/drive/MyDrive/WOLOF/wav_final/7f0dd84a2401c30dc22baca8513c8d215b9067d3d7e227519262fa594ba9fd01db742ed2aad67a69789c6ba9e973342443572f93dad6c6245c0954d1b2864a7a.wav\n"
     ]
    },
    {
     "name": "stderr",
     "output_type": "stream",
     "text": [
      " 83%|████████▎ | 3032/3672 [08:01<01:37,  6.54it/s]"
     ]
    },
    {
     "name": "stdout",
     "output_type": "stream",
     "text": [
      "/content/drive/MyDrive/WOLOF/wav_final/0b03369b9c3b50dce961bf9e5b007bd46c18b8258a51adad1a75ae57323f6d3d8bb6eca0ca39342aad70579758d9be945b730733bb06d92372b7bc3e67378135.wav\n"
     ]
    },
    {
     "name": "stderr",
     "output_type": "stream",
     "text": [
      " 83%|████████▎ | 3040/3672 [08:03<01:45,  5.97it/s]"
     ]
    },
    {
     "name": "stdout",
     "output_type": "stream",
     "text": [
      "/content/drive/MyDrive/WOLOF/wav_final/a23ea3dbd160261ab88d9c9591d1ee7987b71c43e869413a3e9297cb72d4c802bb387826230227c9c9ba3d986e880cfd6d4b07a3d6a619b0442693493356eccc.wav\n",
      "/content/drive/MyDrive/WOLOF/wav_final/41815b794c9e20372db370cf8fd7c5e36fe420a2e15016cd7e489099284a7615c2652fa8847d9171fa080e53ddba9283f5ac2776baedaea8e46ec334c57a8c0b.wav\n",
      "/content/drive/MyDrive/WOLOF/wav_final/7f9f63d1ef16c136c87527c0428d66b13094743297b7a0f1fa32964c8ed976c6de986fc27a23baa15e8e9c57b7770722b64341e76b435224d422dab139af1f5a.wav\n"
     ]
    },
    {
     "name": "stderr",
     "output_type": "stream",
     "text": [
      " 83%|████████▎ | 3048/3672 [08:04<01:44,  6.00it/s]"
     ]
    },
    {
     "name": "stdout",
     "output_type": "stream",
     "text": [
      "/content/drive/MyDrive/WOLOF/wav_final/7f31d265203c0d864c5a5fb8195e64a42ffef4b80d65f24de3f2d562568a7e8fb8f7d87ccfcb6e3363d81ae0c5ff23b22d49b6a4270b319727c3d1d616710ad2.wav\n",
      "/content/drive/MyDrive/WOLOF/wav_final/2d192f0ad8ba8f65837632d33e5c43bea54a98e37170f55c354fdbb9a2da25c9719e64fe1cbc3a61f2990beb5c7f10dbfa42c6f9defa3e01787f538c9322106d.wav\n",
      "/content/drive/MyDrive/WOLOF/wav_final/22d341ba6c555fea0545ac41bb9292c28d4b36c95f022006a48c8f26ae0496dfc75e46efb1ae8ed6b8d6b86350bff7e61e25bac9e67aba504c7b0f81bb41a15a.wav\n",
      "/content/drive/MyDrive/WOLOF/wav_final/2a91d0089d4274c2d507430c61c79fd91dbd8d8ee30c61b98c36a4e3f85929d961965882a3251ad495ebf0e3e0beb8143d487ce0dbcfe4ff6872e7a52e497348.wav\n",
      "/content/drive/MyDrive/WOLOF/wav_final/b33517fa1aaef231046063598f9d809bb72a52e840c53ecd4c6b5ab7a1f8231fe4a2d345edc9a284e950a0ccc84f1ee38c1218115a9af161db350613288ee8c8.wav\n",
      "/content/drive/MyDrive/WOLOF/wav_final/7d92e471e1fe3aeb34e1d363496e43979b5947eb1f24f4961bdcc5cb9df97eadb27817f63502648b67c1fe86dca28149e0810363d59df758a67ac3dbc80c8ca0.wav\n"
     ]
    },
    {
     "name": "stderr",
     "output_type": "stream",
     "text": [
      " 83%|████████▎ | 3056/3672 [08:05<01:30,  6.80it/s]"
     ]
    },
    {
     "name": "stdout",
     "output_type": "stream",
     "text": [
      "/content/drive/MyDrive/WOLOF/wav_final/4199a7248ebea57e9b4dcc723e211c205070d2a47dee425c7bc7c8b6fc7a0eeb68570944728635b7d458cb8dfe60ae37362e9a35ed927691b10f29aad627f726.wav\n",
      "/content/drive/MyDrive/WOLOF/wav_final/896da87d2a9ccc1c76aa991901af9b9d587e46637c76d9cfe7f1ec2b2e585524d658d17b4499f6a367734bc961cf2ff9bcaa234d28a07ec5b9a1261da1c76e1e.wav\n",
      "/content/drive/MyDrive/WOLOF/wav_final/cc4f2d4c7d469c9b000e253ca10a1b680ba09dfcee8aa113df6a43c87b8c8f8162e5aa7eac28914aa89d9cab84317ac13409194059ef6ede1e04d37079da729b.wav\n"
     ]
    },
    {
     "name": "stderr",
     "output_type": "stream",
     "text": [
      " 83%|████████▎ | 3064/3672 [08:06<01:17,  7.89it/s]"
     ]
    },
    {
     "name": "stdout",
     "output_type": "stream",
     "text": [
      "/content/drive/MyDrive/WOLOF/wav_final/84f46634f8611014c66f96ce2baab41eafdda7d1edfb73918addc389411d35a0d7189ff24af5aa37e0c8e6fb2308bace4f752870d9856a214631a89e78dc9b1c.wav\n",
      "/content/drive/MyDrive/WOLOF/wav_final/7d4986d1c1e081fd8233c4c37b3ef2dcad47117d539907eabbea5e0917aee4d5a037387c38025f4937df3820fd69210fa8d347f657f383f5fa362f6f83221499.wav\n",
      "/content/drive/MyDrive/WOLOF/wav_final/2aebdcf503a4ef4cf2a4c1d61f424f585675644b9645602eae551a299b8377280a474ec3e29d5fd49133190dabc33e8d5a5635f02cd222a2962e3c9767bef909.wav\n",
      "/content/drive/MyDrive/WOLOF/wav_final/56324d97bb1bfc7cce301efbdcbdddbd27ce6a49eed037a36379a8cd5a6b3ca3c78818af20ca515b4a05d47e3f3dfefe69f60cedbf927b15eae202a739743b13.wav\n",
      "/content/drive/MyDrive/WOLOF/wav_final/3dae327bd4231bdca23d2a31f322d9d64e9f5a0163d4b431207de8ae351b9c5992a2f0afc0b4e601b388a13f5c8c069f405b394957b5a1042f05ce092be35043.wav\n",
      "/content/drive/MyDrive/WOLOF/wav_final/1e34a46fe4679cd7443ef95543c551652c1d0ce96d11dd8b7dedb56fbb03c421458196aeceb281653d5aa068746faeb7c879ea961ef986246b89a7245b558e71.wav\n",
      "/content/drive/MyDrive/WOLOF/wav_final/e0e5c77142529851e3e64ab4dabbd8bcf2f4b2b196cce0607cd63fb9ad306e19fbd58d287b30b4e1ba1769aef9785856efc1a92c8d123bb4d1ccbc28d4943ca3.wav\n"
     ]
    },
    {
     "name": "stderr",
     "output_type": "stream",
     "text": [
      " 84%|████████▎ | 3072/3672 [08:06<01:06,  8.97it/s]"
     ]
    },
    {
     "name": "stdout",
     "output_type": "stream",
     "text": [
      "/content/drive/MyDrive/WOLOF/wav_final/cee008284773273a0bb3182cce6b17e01bf99763843df949fcec499c5ac7d46ded07b89383a2b02a9d1a2c2908617375a1e12a928c11770bc79fb539e40e7313.wav\n",
      "/content/drive/MyDrive/WOLOF/wav_final/0c462afaa95d89b8b9249a7c0da6c7356e23045ced33b703fd7affd84c11083e1883f1973b45fc75eb565ddc47867871d41cb4395ab4d556b6ede350c763b1db.wav\n",
      "/content/drive/MyDrive/WOLOF/wav_final/b15c819aabf252ebd1a9606df4463d9f3dc8cf59ebd675b70993ae3ae6de499a93d071a89693facfa7aacf2d8e33c856ebaad4e5a3bb1d138b2eea8dd387ec8d.wav\n",
      "/content/drive/MyDrive/WOLOF/wav_final/367d99b1637394d32a38f91c72bdfa2b6318916480e2ace9ece061089d67841e583498c62e55b3e902ba681ff5ba964e63e1579452a19749552b614f94827a8d.wav\n"
     ]
    },
    {
     "name": "stderr",
     "output_type": "stream",
     "text": [
      " 84%|████████▍ | 3080/3672 [08:07<01:06,  8.88it/s]"
     ]
    },
    {
     "name": "stdout",
     "output_type": "stream",
     "text": [
      "/content/drive/MyDrive/WOLOF/wav_final/ef2e367117568bc771030aca9e9988c13a09e737fcbdda976d6d5042197361df45fedfe21386d8597bc2e0330eaa990d3321393464aaa4f8131f2bc3607386dc.wav\n",
      "/content/drive/MyDrive/WOLOF/wav_final/4ff6400ffd7d41bcff69c352cc8bfd4791dff533d83c90ea0099ef3c49d23ffc11d82608595f8fdde14e6998c450a100e0cf893722b781d1ed00e48a91919a56.wav\n",
      "/content/drive/MyDrive/WOLOF/wav_final/cf3554aecf52843f4315a24d598c313f9690ef1ab1bbdca7abcb4f95bbfb36b471b26132b0415736673812b4ea4bb769aabfc87c3591ee8170ca1d8127638cb9.wav\n",
      "/content/drive/MyDrive/WOLOF/wav_final/59303341a71874576deaae3adad6894e014697f0fe09d8bb96c29e46a1b6214e678ee3f8031fcb3b6b91980128bc26bbc5e1fdb9259de95597520710dbdb0c11.wav\n",
      "/content/drive/MyDrive/WOLOF/wav_final/c158079d892feb4b7ee041d1897f9633302c11cabd6c5fdc196cc442f7f599465334ff8cd47cb4c90b3514d2b2544d81d46182d9bc81901b37d5c4ab4e7a5a10.wav\n"
     ]
    },
    {
     "name": "stderr",
     "output_type": "stream",
     "text": [
      " 84%|████████▍ | 3088/3672 [08:08<01:06,  8.72it/s]"
     ]
    },
    {
     "name": "stdout",
     "output_type": "stream",
     "text": [
      "/content/drive/MyDrive/WOLOF/wav_final/11dba250f306ed7d14462f2d5de1b6091a1b011722a62e6fd3bff45aff82b799656598bed32f81c3d356e5dc0dc08a3a2ec1711b5b7bb353e4b6c259b694e9dc.wav\n",
      "/content/drive/MyDrive/WOLOF/wav_final/c7929a12a768d960ee6ab519314734ab4485daffa03ab30933e4401cad97d1a8f13a1891a80c70b75691a4f4f9ee2d11f747a4d4496d368fe18f5a2bc34061bd.wav\n",
      "/content/drive/MyDrive/WOLOF/wav_final/38e01312db2e0d4d8b9520a788158f2a2fabad4ccddffdb475eaac9c0e916733683d468060df116ca13104bee1cbb90dea481f658cd240653020b992fe9d6d84.wav\n",
      "/content/drive/MyDrive/WOLOF/wav_final/679dab7ac97ba59fb639b305efda5597bf1a45c232ad4f10e729295b66b64dc63e2a58c063d4d8a681b6e353cae150c2e66e3a0eca15e9a1f6f23f425f2a1ecc.wav\n",
      "/content/drive/MyDrive/WOLOF/wav_final/9b9a79b0ff24b33ddf1d5236e7c64cead7680b25e4b2bfec1e18ff1f0cea50b176fc5cb5a6366211e7c6ae2ccd0dd8c736b136d458d4b4f897f41d1ee2a68529.wav\n",
      "/content/drive/MyDrive/WOLOF/wav_final/66a7568aabeaf88a3cd620503921746f48dbf6a9f3942ac2fd1e0e07b5d93e3a9890a29848eab7830ae6e485477156c9ebce982b1ea218051a5a67765eb670ed.wav\n",
      "/content/drive/MyDrive/WOLOF/wav_final/ffb15847cb6e9d2170eefd742e8213b519eddce33d998056dbc3cf78fe4986317aa64f1b448bdd70f7dca9c00605675c4579406539696fe8c3acea69a1d01f45.wav\n"
     ]
    },
    {
     "name": "stderr",
     "output_type": "stream",
     "text": [
      " 84%|████████▍ | 3096/3672 [08:09<01:01,  9.43it/s]"
     ]
    },
    {
     "name": "stdout",
     "output_type": "stream",
     "text": [
      "/content/drive/MyDrive/WOLOF/wav_final/dcbeb835b8f4e02a58611a40c5fb887e4e11d5f16cdad1a42aaee243328316aedb59d74a5e9bfd3216746ad38dd4447a5602bd3f6f2170e0dce64dbbc26a0bd3.wav\n",
      "/content/drive/MyDrive/WOLOF/wav_final/23bfc85e1af4177992d6776d931c82d8636bc79593ec56afc072e8830c03c904f71298dc6f60aab368a49668076dcee0dec70fe733969826526a352fd34f67f1.wav\n",
      "/content/drive/MyDrive/WOLOF/wav_final/6c5a55c0b07ddd1689bb26c24def764cde34ee29f4c67bc381bdaec06bc7cace8be5b9d23c99ec07b7e117d60253e31f0adeba96189208f7b09c887482bb4e35.wav\n",
      "/content/drive/MyDrive/WOLOF/wav_final/7d1941afe18b38f9b2f38062f953d9765e72aa5d41a51897850832c3ad8226ae91f03c3e7d2cbe47eb0724175fd53537712d63902891cbb8a571a7b77e85fb05.wav\n",
      "/content/drive/MyDrive/WOLOF/wav_final/b790f1ddc852219a8e68c864b467b2701fb617c5da6178c4a7be69e6a1e478388d23ffcca5abcdb91e6a215a7ba8e9c86b86927111abb1bf03c64efd1dc0a332.wav\n",
      "/content/drive/MyDrive/WOLOF/wav_final/e0b06f663720be644a856d694b7386c3b181e90ce5fc81ceea0ce890762d5413f20df50daf83a433445e10f2872ac2f83829ac0400fbda61bd02e72de57e5b15.wav\n"
     ]
    },
    {
     "name": "stderr",
     "output_type": "stream",
     "text": [
      " 85%|████████▍ | 3104/3672 [08:10<00:57,  9.90it/s]"
     ]
    },
    {
     "name": "stdout",
     "output_type": "stream",
     "text": [
      "/content/drive/MyDrive/WOLOF/wav_final/17af2d3d1b0493d6b1913049d7137c69eef65a1f11eb98fcd1b2f21ee2a09687e532929c7663fe249305f1408a8ae31896aa7260491c6a9d10d8122d31b5ebc0.wav\n",
      "/content/drive/MyDrive/WOLOF/wav_final/222d628baa0793fb3c914efbee2b41738d527404fe7c155f4e7375bc1e611ab8f18ab68d0cb1c82815b4b8aa984c1a0107a5423e7bb808af8976a45d8a49d79d.wav\n",
      "/content/drive/MyDrive/WOLOF/wav_final/dc44ecd91eb99d11b656fd34f59e37f65063b9b1c12ee3b75fc739825558e0fa30ed4b88ab8227d5d6e71cc9e72018a925978d262fc9d31b5e472eb31790708d.wav\n",
      "/content/drive/MyDrive/WOLOF/wav_final/5e5b69173eaa77e4ab8b8b354b65059aa3c6df6ee2177d1e99235e4ad05132ff7ecebbd83e6f3c58af5bd7bec46c64e8fea11eefb508a337df14a9b1c5dd0221.wav\n",
      "/content/drive/MyDrive/WOLOF/wav_final/9b75fc9de0dd76ba5df7a76dc968ddd99555e7b081eeb679d73652a2db4482419e501416cefd605e046995fdfa139069dfe8c30ea3bf52b52df593f97a0eed15.wav\n"
     ]
    },
    {
     "name": "stderr",
     "output_type": "stream",
     "text": [
      " 85%|████████▍ | 3112/3672 [08:11<00:57,  9.69it/s]"
     ]
    },
    {
     "name": "stdout",
     "output_type": "stream",
     "text": [
      "/content/drive/MyDrive/WOLOF/wav_final/32528adb6e127ffa2616ba0d49c899433b142f0d56ac5169180915c4cd8cf8a7bf8f8e9cc2585a463aa1d76d17fc11a17d3df69ea5c3c95182c31fb91d94fde2.wav\n",
      "/content/drive/MyDrive/WOLOF/wav_final/e4fb13021fd2fc9b0920ce1caf1c7f87444335c315613184e6480f883ae3f1c3f3642977f571a70c023762d91c538849c801af93cb45ed28e8305edfbc0dbb5e.wav\n",
      "/content/drive/MyDrive/WOLOF/wav_final/bb7968901f6e6b14ed6902fb36ddd71ebfed05635195bbcaee83af9836c4f8923025f95c1a242c34e1eda593732db3b47b2d733f61011d4db783e7c7e3d41a36.wav\n"
     ]
    },
    {
     "name": "stderr",
     "output_type": "stream",
     "text": [
      " 85%|████████▍ | 3120/3672 [08:12<01:05,  8.48it/s]"
     ]
    },
    {
     "name": "stdout",
     "output_type": "stream",
     "text": [
      "/content/drive/MyDrive/WOLOF/wav_final/f2b005e129c818f3010e979c0fe575895f813ddb531740b538a411de8233bbeddbb594b7b94bc0e4adb6165af9d3da257bd363e485ae3b5a96425300f671bee9.wav\n",
      "/content/drive/MyDrive/WOLOF/wav_final/7c48dcf2d54dd508d0313b537caf04138b7d38fe4cd12c5b1515c721de6d9239bb2b1c042674a0f15dd748d168e04a10efcc0e684fc85d6d10261cb19c4c1a95.wav\n",
      "/content/drive/MyDrive/WOLOF/wav_final/1cd8685d4d2498ea30ec63f2cf13f86abd34b43aa44854c50f5efa9617a6fae35f94fa4882c44d8d0ccbc1a406e62d00f15ec2c73a65d3f1bf9ca86bd43d2a2f.wav\n"
     ]
    },
    {
     "name": "stderr",
     "output_type": "stream",
     "text": [
      " 85%|████████▌ | 3128/3672 [08:13<01:02,  8.75it/s]"
     ]
    },
    {
     "name": "stdout",
     "output_type": "stream",
     "text": [
      "/content/drive/MyDrive/WOLOF/wav_final/ad1235a7375d567e8e18e67b86cc4c7748ce358a2829745b08a8aa6922f277e1d318efd73346d13dfdc04c252cb548743e8d84f1590efd414d9e6a01adddc807.wav\n"
     ]
    },
    {
     "name": "stderr",
     "output_type": "stream",
     "text": [
      " 85%|████████▌ | 3136/3672 [08:14<00:59,  9.00it/s]"
     ]
    },
    {
     "name": "stdout",
     "output_type": "stream",
     "text": [
      "/content/drive/MyDrive/WOLOF/wav_final/12760a61d6b27c3172be6f1d323ed2a2fdb56aa7109835362bdfb6d900fb99ce7c0abd33815b8577e4ee58db7af69834366a03dcf223445b7ed35d43c3e806e6.wav\n",
      "/content/drive/MyDrive/WOLOF/wav_final/a2e16b5a1b3a34b62702808426f622c2ff3217601bb25fd199b90e7a5b08bd31d2536f8823c1d208d4486256fe20245288dbe79f802478786795b549f8b7593b.wav\n",
      "/content/drive/MyDrive/WOLOF/wav_final/767e769b5f175c73ef33d745de62e055def8ac2a6efeb763829af08bc205091dfb86c16227a91d1ba845c63d4ba7b258a067a97384fb53c2cc956583e7bbe035.wav\n"
     ]
    },
    {
     "name": "stderr",
     "output_type": "stream",
     "text": [
      " 86%|████████▌ | 3144/3672 [08:15<01:14,  7.06it/s]"
     ]
    },
    {
     "name": "stdout",
     "output_type": "stream",
     "text": [
      "/content/drive/MyDrive/WOLOF/wav_final/5a4ea7edaf93c9120d7c918416cac4c6548286f71f75307f1a90eba2667ed6f9ee06814e8e17c47dbe6e8c64bcd23455caaacce9ae624ad880e5a22ee1406b63.wav\n",
      "/content/drive/MyDrive/WOLOF/wav_final/0a38876da061bb49f31f771b3913c2a223d50f377401bf0e661e9a18eb6a3d51978484ae52c1ffe77551f2fd2ad6c1e582d49ef0f5b7b8965427d7fca907634d.wav\n"
     ]
    },
    {
     "name": "stderr",
     "output_type": "stream",
     "text": [
      " 86%|████████▌ | 3160/3672 [08:18<01:12,  7.10it/s]"
     ]
    },
    {
     "name": "stdout",
     "output_type": "stream",
     "text": [
      "/content/drive/MyDrive/WOLOF/wav_final/6caab46fdbf460f778bf9cbdea007fb7df752517235479a935fa7e9a69e2ac86b1f2322202e78086f20bd0e02397128af19136689f4a222686e367eff9d49a35.wav\n"
     ]
    },
    {
     "name": "stderr",
     "output_type": "stream",
     "text": [
      " 86%|████████▋ | 3168/3672 [08:19<01:13,  6.90it/s]"
     ]
    },
    {
     "name": "stdout",
     "output_type": "stream",
     "text": [
      "/content/drive/MyDrive/WOLOF/wav_final/7f48c450f80d95c9d561f034ecdcdef923f7b5be82e4223d1f5a94277fdde2858a967f75e1713e130d6e636b12b5b6b487a736bf0361452d6c2a8a035a4d1af5.wav\n"
     ]
    },
    {
     "name": "stderr",
     "output_type": "stream",
     "text": [
      " 86%|████████▋ | 3176/3672 [08:20<01:16,  6.44it/s]"
     ]
    },
    {
     "name": "stdout",
     "output_type": "stream",
     "text": [
      "/content/drive/MyDrive/WOLOF/wav_final/5af387769bd107edaa08eb04aec56152604c8cf9416b7bf48dc630f85d5aaf382e1ebde978dc1b67d4b6cfd095346366464cf477c50e4a1c058d8591f5cc902b.wav\n"
     ]
    },
    {
     "name": "stderr",
     "output_type": "stream",
     "text": [
      " 87%|████████▋ | 3184/3672 [08:22<01:22,  5.92it/s]"
     ]
    },
    {
     "name": "stdout",
     "output_type": "stream",
     "text": [
      "/content/drive/MyDrive/WOLOF/wav_final/f5fa9ac99967ee0573776dd3cf97257c103f08f9f171b72954d1979bdb5701ce70d2937ae9a6bf10d3c39729e7c948e0a84f7232ad8f68c36524e4f5ea4c915c.wav\n"
     ]
    },
    {
     "name": "stderr",
     "output_type": "stream",
     "text": [
      " 87%|████████▋ | 3192/3672 [08:23<01:20,  5.99it/s]"
     ]
    },
    {
     "name": "stdout",
     "output_type": "stream",
     "text": [
      "/content/drive/MyDrive/WOLOF/wav_final/e0126686a2db9b0bd07a67be158bffca76103e6671b91c46b7a3004df9d0e3a50fba6641579ac3926acd73463fd55ca08c7a4a397b3ac86fdd09937720f909d9.wav\n"
     ]
    },
    {
     "name": "stderr",
     "output_type": "stream",
     "text": [
      " 87%|████████▋ | 3200/3672 [08:25<01:31,  5.17it/s]"
     ]
    },
    {
     "name": "stdout",
     "output_type": "stream",
     "text": [
      "/content/drive/MyDrive/WOLOF/wav_final/ee06a3cfa70fa74f099f4c4d5b5505177bc9321452e3ac55411c82b6f7183962de6105b06843bec0aa7effee21ced74ef39779c546642ac9fd57214aed553080.wav\n",
      "/content/drive/MyDrive/WOLOF/wav_final/9314b4826fdd82769e01e1846ad552beacb77328bfbf484ef2734569f92f9750a64b7d46e7170778487273efe486666e12af3a16ce187a33b6055b09e2c04066.wav\n"
     ]
    },
    {
     "name": "stderr",
     "output_type": "stream",
     "text": [
      " 88%|████████▊ | 3216/3672 [08:28<01:19,  5.73it/s]"
     ]
    },
    {
     "name": "stdout",
     "output_type": "stream",
     "text": [
      "/content/drive/MyDrive/WOLOF/wav_final/19245c1168e9c0d88f3db93c3c31646a69b55d6bd85989e9fad1b4181f36d86611360b4d1b33c3a91cabc70abf342e472559258b3debc06e5b5dc2bbbe622158.wav\n",
      "/content/drive/MyDrive/WOLOF/wav_final/ebcb71e5d52db033de553f2024c7a4ab46f7eafcb568d34be2236e97bc6e46672001002645d2f3e9efb38f7eeaa4d01ce9dc5f294117020575967730eb6dcdcb.wav\n"
     ]
    },
    {
     "name": "stderr",
     "output_type": "stream",
     "text": [
      " 88%|████████▊ | 3224/3672 [08:29<01:18,  5.71it/s]"
     ]
    },
    {
     "name": "stdout",
     "output_type": "stream",
     "text": [
      "/content/drive/MyDrive/WOLOF/wav_final/85966f2181b7371133c5367ae2831046a21f68c9a328c1852c069223c0e281b796c27aae978bc46af9426826451e8763ea88946606842493de95387db9619a59.wav\n",
      "/content/drive/MyDrive/WOLOF/wav_final/c5a33da357826fb40abc91a8d487edea716b1342a216f9eeed518bfc31e015b30d025218cd019cc89ebe85a321d4a0dc10fa8cbba61f98558b2b13c1e82fd084.wav\n",
      "/content/drive/MyDrive/WOLOF/wav_final/d75663ad48d55afd90282e5b45197b6ac64b2c91e52f205b93507bc2009d887a8cf8c4fe9395f48322c04ce1cc2cc782fbe5be0bca90fd127408afff2b7649b1.wav\n",
      "/content/drive/MyDrive/WOLOF/wav_final/9bf9d5c93a1b2f633196563a7d10aff3b5bc44aa3df48f586b7282dc6b24fdb14d92857271a18f2d1f9599e080f5a4120f684f9636f28f9807a76126c5743684.wav\n"
     ]
    },
    {
     "name": "stderr",
     "output_type": "stream",
     "text": [
      " 88%|████████▊ | 3232/3672 [08:30<01:17,  5.69it/s]"
     ]
    },
    {
     "name": "stdout",
     "output_type": "stream",
     "text": [
      "/content/drive/MyDrive/WOLOF/wav_final/2f676e7594e427b569bd3cbb1dd51abfb3fd328ae47b232e1fb3c97dfb39556086292e86685745997788e12a347079d6108aafca07bcafca6179b6090004067e.wav\n"
     ]
    },
    {
     "name": "stderr",
     "output_type": "stream",
     "text": [
      " 88%|████████▊ | 3240/3672 [08:31<01:08,  6.30it/s]"
     ]
    },
    {
     "name": "stdout",
     "output_type": "stream",
     "text": [
      "/content/drive/MyDrive/WOLOF/wav_final/a6822e3c80d969ce2fe9d97c222f62f6d66fb1495b12361bdf2c119e9ca48ae75997b5ee76d17cd8d014038b01bcc726a3ae87fc04862c7b4f730e52238d5585.wav\n",
      "/content/drive/MyDrive/WOLOF/wav_final/d7361d023b80e9d3e554df2c638e6391c1d38bb5ca16040e48c11df79cd922ad77a66911d1a89072a4f19f3626a07ab7a4220a55fd9184df7a5f376ce148305c.wav\n",
      "/content/drive/MyDrive/WOLOF/wav_final/ef1c96b5907637ea0895e7ed705ea9312b9dbc07215e3b911c149380ba4e3f7b07d4f587ae5eb1036f62528b055a76e83041e8fa407924d86972bc0d52098418.wav\n"
     ]
    },
    {
     "name": "stderr",
     "output_type": "stream",
     "text": [
      " 88%|████████▊ | 3248/3672 [08:32<01:02,  6.78it/s]"
     ]
    },
    {
     "name": "stdout",
     "output_type": "stream",
     "text": [
      "/content/drive/MyDrive/WOLOF/wav_final/2db1978a4d7e830ade76553e07c3c4448a9e05d4d470de1fd2104e0886073936100b91c0591236cd764faaa36fc493c4d8be494a1e37200fa4424e90361a1213.wav\n",
      "/content/drive/MyDrive/WOLOF/wav_final/5ce8deb05b2d5553c7ef5c5887363817ff70ace10ba041a7ab1a722a8790fb6414c0d185f843e6a9707e5b72a242c2c116439b28271f10b8567aee3d7b2870f0.wav\n",
      "/content/drive/MyDrive/WOLOF/wav_final/37a8f54cbf1886ba7ce0b93f6efb9a034e368c12dd4055a9e333cf9aad9e5b6ed020d5454ce48c6061ec6e3f88dd02b6db764a53f11ae33f8aff073fa5560dd5.wav\n",
      "/content/drive/MyDrive/WOLOF/wav_final/65393ad66890bd49dcf2562a80d2574cb06c6360cf7a5565893e958fd4ab840354fa4aa51c925264f5dff9b0c9c2f2f5947b143d8c7aa92fe6e649d9e8035fa1.wav\n"
     ]
    },
    {
     "name": "stderr",
     "output_type": "stream",
     "text": [
      " 89%|████████▊ | 3256/3672 [08:33<00:58,  7.06it/s]"
     ]
    },
    {
     "name": "stdout",
     "output_type": "stream",
     "text": [
      "/content/drive/MyDrive/WOLOF/wav_final/dd659feae0288462310538b3649d4d27cee151269f1e49d834d5847e9fa131ff5ce135b86295adeb07a7bf3a267af513d44e9157fafe76952200e1e3abd598be.wav\n"
     ]
    },
    {
     "name": "stderr",
     "output_type": "stream",
     "text": [
      " 89%|████████▉ | 3264/3672 [08:35<00:59,  6.85it/s]"
     ]
    },
    {
     "name": "stdout",
     "output_type": "stream",
     "text": [
      "/content/drive/MyDrive/WOLOF/wav_final/93d47dc0915a80856db47387131b42b35c109f7dbce922f161604aeeeeec9ee55b7c54a61dde8bf8cf6331195e3495a79eec09c4c742e260e5c9277bb1e018df.wav\n",
      "/content/drive/MyDrive/WOLOF/wav_final/0d7ea16e3317bbd1c936b684db8608cf8cbecffce8dd0296cde58d70d30f833fa2ca46a42bfb321d327deb1efd9ef10dfa12d49dd7c8b3dc12e430b17acd6d72.wav\n",
      "/content/drive/MyDrive/WOLOF/wav_final/54768432f9235a8ad6319be748c4d3e58fa4ac13b14c678916e71fe73d5b8e3ff139e3b3335df1e95e8c5bbd6ba016a987ea3c76218ce4252894abe2bec81664.wav\n"
     ]
    },
    {
     "name": "stderr",
     "output_type": "stream",
     "text": [
      " 89%|████████▉ | 3272/3672 [08:36<00:54,  7.27it/s]"
     ]
    },
    {
     "name": "stdout",
     "output_type": "stream",
     "text": [
      "/content/drive/MyDrive/WOLOF/wav_final/c3b4d3bdc697116810797c1032f9d2fd00e4aac8e9833f2766f755093606e58364d4479ee34213d6048c9e2218ccec5d454834b85af185b9b84da649b0264dff.wav\n",
      "/content/drive/MyDrive/WOLOF/wav_final/7d283cd5914bd4edb4a56ecce6820717ed07754050fc668c6cf14cd3e08d786f48e8c3ed3b9c91e37548136853ca27cc417371b8ba0365f9b973487adf025d89.wav\n",
      "/content/drive/MyDrive/WOLOF/wav_final/8fc433c6a91b1a3636725b2a7c0c08ea2b61ede1ffc38ae790976150a1cd7903a9c727a98a703e3fc7691f4c8e46a1f55dc498a3d164163e0f201cabc3077968.wav\n",
      "/content/drive/MyDrive/WOLOF/wav_final/6e668796e68a097beeaad93cfad2c23935ffe3191581096eeb43027d6f3f3284148bc2d81531370e939bae62bca02fe558328a8cfe97521770448928b424b9e4.wav\n",
      "/content/drive/MyDrive/WOLOF/wav_final/7b96c366f81c0d7c622291feffa9e8fef960f7e38d0f77d66aa84c16f41e6b037853bfa2642eef735608cd5c922c941d36c18a72b238cc9c2d6ec98f1e886276.wav\n"
     ]
    },
    {
     "name": "stderr",
     "output_type": "stream",
     "text": [
      " 89%|████████▉ | 3280/3672 [08:37<00:51,  7.60it/s]"
     ]
    },
    {
     "name": "stdout",
     "output_type": "stream",
     "text": [
      "/content/drive/MyDrive/WOLOF/wav_final/cb224c0096943f3d3b09f6ec64dad201f832c4451b79c7bb3e0ea3d0aae2b93ed64ce0cefb2c702f421d30109932cb56a4b1c96b6eb3c8ff75cb6d4bbe36cb5e.wav\n",
      "/content/drive/MyDrive/WOLOF/wav_final/0745bd5bc67973635ce55700de506bd86e241f2ab8fc2a6effe1bf2b2cae80ebcca9f62b7c273033795fb69b488e8c2d5d4f30dc24f6ee3126b7c8dbfb5a382d.wav\n",
      "/content/drive/MyDrive/WOLOF/wav_final/834528f2eeb4d7d908062054c9e65fac7a9f55a606506929dc641a345bf6b67ef742c914a0996e36fd9916057fd9fecffad61f4762a7aa19246def0a9d30453b.wav\n"
     ]
    },
    {
     "name": "stderr",
     "output_type": "stream",
     "text": [
      " 90%|████████▉ | 3288/3672 [08:38<00:51,  7.39it/s]"
     ]
    },
    {
     "name": "stdout",
     "output_type": "stream",
     "text": [
      "/content/drive/MyDrive/WOLOF/wav_final/70e15e7aa1214442ec29e3b3038d95d573316f754695756add03a60a306127f8cb5d0324e5c286b27b5b6e6a4e1a72838cec25c54012367aa247410af04776d1.wav\n",
      "/content/drive/MyDrive/WOLOF/wav_final/8cac0beacc1c0933291af9725f098716b8dcc32a2ed270b8c56de129cdf059d44133741fe1751a4fcd3131c990bf2216b44afb4728a69f7e3eb2f96a8b60fcd2.wav\n",
      "/content/drive/MyDrive/WOLOF/wav_final/086e2ad35b2d367efac903b873b3ed00d8e3cd46fecba38a94ea6742befdba1ed55d76efbb046a5acd9305348bed7783ddbe45137bf564be1aade6c0a4852ff0.wav\n"
     ]
    },
    {
     "name": "stderr",
     "output_type": "stream",
     "text": [
      " 90%|████████▉ | 3296/3672 [08:39<00:50,  7.39it/s]"
     ]
    },
    {
     "name": "stdout",
     "output_type": "stream",
     "text": [
      "/content/drive/MyDrive/WOLOF/wav_final/e1ab45fd7c0a0078f2042c1e38bd346313cf9ee99f6febff08425042d9cac062665030d431188a1e575a0e5b9e18b918c9e465d1bd13a953ba7fbabe90299dcc.wav\n",
      "/content/drive/MyDrive/WOLOF/wav_final/64a8515e25c1685df6db8d86ff781df33d57a27b7ad2b95225555f9f2bc1fd26513bf79b25b9f489678db73836d37f8eeef9819dc9369b9c261b227cc6a4e6ff.wav\n",
      "/content/drive/MyDrive/WOLOF/wav_final/f1cbb7e00ef0b22add17b02cb31840f40ec15671e0cab86a5e98edfe05f98aa50c51dc49143cd5e7f796071f668be6ad06f38c882f3921b0796d1ba6a11d5594.wav\n",
      "/content/drive/MyDrive/WOLOF/wav_final/4b45c387874d02d189fc6552cff6269dd57e1cba24748a759ec212b5bfc330b861463b1f752333f7d52acf96d52cebba137388aab3f7eb7946158daa1ba53696.wav\n"
     ]
    },
    {
     "name": "stderr",
     "output_type": "stream",
     "text": [
      " 90%|████████▉ | 3304/3672 [08:40<00:52,  6.97it/s]"
     ]
    },
    {
     "name": "stdout",
     "output_type": "stream",
     "text": [
      "/content/drive/MyDrive/WOLOF/wav_final/25339c24164dfe0c96984f2bb4838ca0804e4fddea6adb17585e174003f9fd7e73f488240817e7a0236cc54a7e31fb9bb252d7b3cd100adecc75af2c5218f2d9.wav\n"
     ]
    },
    {
     "name": "stderr",
     "output_type": "stream",
     "text": [
      " 90%|█████████ | 3312/3672 [08:41<00:52,  6.84it/s]"
     ]
    },
    {
     "name": "stdout",
     "output_type": "stream",
     "text": [
      "/content/drive/MyDrive/WOLOF/wav_final/5739a963a9aaab4d783bf632d1487d2ddca5eba136722005eb76ee1ce40a770eb6b8a566ca287e17b24af1283439ddb48956eeed7e543987d793c98b7fda6355.wav\n",
      "/content/drive/MyDrive/WOLOF/wav_final/dd82b71b617f66f6d0d94dee8e43906773cf3fafe6cfd27d970ea1ef94f6f9c8609e667d402625793b5912f87810503ff9e2360f1c43b8db42ed15e55c75abb5.wav\n"
     ]
    },
    {
     "name": "stderr",
     "output_type": "stream",
     "text": [
      " 90%|█████████ | 3320/3672 [08:43<00:54,  6.49it/s]"
     ]
    },
    {
     "name": "stdout",
     "output_type": "stream",
     "text": [
      "/content/drive/MyDrive/WOLOF/wav_final/cecc43f926992db6830dedc001a87131b90e3454222d16cc8a142357c23e3e67cde8683e1ef3ad1364f5cbfcb86fb0d125f53b2d348ee44c520337ed1978dcc1.wav\n"
     ]
    },
    {
     "name": "stderr",
     "output_type": "stream",
     "text": [
      " 91%|█████████ | 3328/3672 [08:44<00:54,  6.35it/s]"
     ]
    },
    {
     "name": "stdout",
     "output_type": "stream",
     "text": [
      "/content/drive/MyDrive/WOLOF/wav_final/e4fd5ccdcff104fb365b95191ee930b80cfd855610c7246603c1cf4cf4e4e540687a861e4b102f0c09f73d35dece0f8ed6322486b20e955f6f9e7eafc704105a.wav\n",
      "/content/drive/MyDrive/WOLOF/wav_final/723e3dc220f623bf8920df1ec3f8407b1cfc39d30263ac30fb6b8a81a6466c6f8507f3c86769f59faf09f532e08ac99ec896c15634ea07a198d74e0a2e0cba47.wav\n"
     ]
    },
    {
     "name": "stderr",
     "output_type": "stream",
     "text": [
      " 91%|█████████ | 3344/3672 [08:47<00:55,  5.95it/s]"
     ]
    },
    {
     "name": "stdout",
     "output_type": "stream",
     "text": [
      "/content/drive/MyDrive/WOLOF/wav_final/6a73f3dc1118730fccebb9541d1cd9961c854d16bf67a859194ab1a0f6e1997b823bd4c78d6bd41c97ccb31b8ab260dbbae97b750f24834b90ed9b9fa95d235a.wav\n"
     ]
    },
    {
     "name": "stderr",
     "output_type": "stream",
     "text": [
      " 91%|█████████▏| 3352/3672 [08:48<00:57,  5.60it/s]"
     ]
    },
    {
     "name": "stdout",
     "output_type": "stream",
     "text": [
      "/content/drive/MyDrive/WOLOF/wav_final/21648b12e8c6743c3c42d760d3dfef639381a3f4c9c2c5edac5f4480041ff9393f6d88e4e13d27a9d6ae317ec5f0ec0bb4a930ed12c6464af9ae752f34655188.wav\n"
     ]
    },
    {
     "name": "stderr",
     "output_type": "stream",
     "text": [
      " 92%|█████████▏| 3368/3672 [08:51<00:52,  5.83it/s]"
     ]
    },
    {
     "name": "stdout",
     "output_type": "stream",
     "text": [
      "/content/drive/MyDrive/WOLOF/wav_final/b43dec461cd1c0768df0c52d191920362b2b980032c537df35121c8ac2c2e910dc69fc6cbf0af376f5bd2fd69c6f8d8b0b31256107076c514a5ca3868fdc6be6.wav\n"
     ]
    },
    {
     "name": "stderr",
     "output_type": "stream",
     "text": [
      " 92%|█████████▏| 3384/3672 [08:54<00:46,  6.16it/s]"
     ]
    },
    {
     "name": "stdout",
     "output_type": "stream",
     "text": [
      "/content/drive/MyDrive/WOLOF/wav_final/31ea2b3ce52063745c73e4b207b9c8188a4955dfc6a46f8cae48152a7b4744ec093d8d9d24ab8c4c0861b3bd6f2a40fa05957f742228759e6c7c7f4afb7c4ee4.wav\n",
      "/content/drive/MyDrive/WOLOF/wav_final/a50f4e09f666ecc33204f58faa847af3be00ccb3470bc72d1eedb3b18ac86afdb71d272a4455db94b175172b1c55abe56128754eb22dc4a64b889524427e0f9b.wav\n",
      "/content/drive/MyDrive/WOLOF/wav_final/6f31ca57178f7c90abc0145d638ba4968ebb12f0b7fa88d088b8c52678d3b80a2255171143ebd97fdfff981146ee783780f798219bac1024741e3568ab410037.wav\n"
     ]
    },
    {
     "name": "stderr",
     "output_type": "stream",
     "text": [
      " 92%|█████████▏| 3392/3672 [08:55<00:41,  6.67it/s]"
     ]
    },
    {
     "name": "stdout",
     "output_type": "stream",
     "text": [
      "/content/drive/MyDrive/WOLOF/wav_final/90edfc8bdd028976e41ca85a6618cc73379e96e10613b02a93092d207a6c29452772913023a15499a5a9068371bc12e3ee1a15853e4af39efb4225b864e5abb7.wav\n",
      "/content/drive/MyDrive/WOLOF/wav_final/4f1ad6d2a9c7c0417b92f5d4cdfacb12464244829da9a80f32da18b9b8b4b8379030b2322c584fbce1333c29e5cb265def5594d661e04db00faf87e62c606666.wav\n"
     ]
    },
    {
     "name": "stderr",
     "output_type": "stream",
     "text": [
      " 93%|█████████▎| 3400/3672 [08:56<00:43,  6.30it/s]"
     ]
    },
    {
     "name": "stdout",
     "output_type": "stream",
     "text": [
      "/content/drive/MyDrive/WOLOF/wav_final/ed6d93a5d9cfdfe03ddf4691b881e6d1be7fda2bf120277ed9b837079626cd4e01fd32a83f639d205413ef39231513cacf0868e39c20574b05e31c83fcb5ac20.wav\n",
      "/content/drive/MyDrive/WOLOF/wav_final/bcfce5590ef8d8f3ae2f503b4373a3f0b7c762d7a002042d5aa0446f72731aa5239c1aeacf1235fc5bdf88587c1fba4be05563e1f95e80534ba96e95203caf5a.wav\n"
     ]
    },
    {
     "name": "stderr",
     "output_type": "stream",
     "text": [
      " 93%|█████████▎| 3408/3672 [08:57<00:39,  6.73it/s]"
     ]
    },
    {
     "name": "stdout",
     "output_type": "stream",
     "text": [
      "/content/drive/MyDrive/WOLOF/wav_final/6d49fe00ff3cfc25ca3b08e2bb5bb4d83dc82c92cab1c149564254f4244eaae97e6b591023027acc7ccdebaaf296539f82941393b136c79f696b301f7b71c56d.wav\n",
      "/content/drive/MyDrive/WOLOF/wav_final/ef49ca46ca1d3d2b81104986bbc13ae92a3caddcbdbe2a430e66a9656a2c97c75d17ef02a47134c3ef6b6b33a41f60f042d04ea73b03d0f3c3f29622c25cf8fa.wav\n",
      "/content/drive/MyDrive/WOLOF/wav_final/d072fecf02cce0d721970f9f7d1b89c047e0fd16d6ff7ae0d80e668585c253119a6b64a132ffbbe3ae44ab18bb0f939a395d45f683f684c3300e765f87be8057.wav\n"
     ]
    },
    {
     "name": "stderr",
     "output_type": "stream",
     "text": [
      " 93%|█████████▎| 3416/3672 [08:58<00:34,  7.37it/s]"
     ]
    },
    {
     "name": "stdout",
     "output_type": "stream",
     "text": [
      "/content/drive/MyDrive/WOLOF/wav_final/aff4dd77c3c07798d18db7f9cfcc45651444e4c80de681c7409ec3ea6c67b2cf42d972889e32d1ea18e35f2c662debc3eca293bd522aef3a85b7f23206635abf.wav\n",
      "/content/drive/MyDrive/WOLOF/wav_final/7d29b639a1cfb4906f0968aaacbe6a3b07667937b16e84464fe0163446b2945eb2820a004e0e2b0f547ec65aceecf0b291fffdf676ca40034bf77a6c882cbe98.wav\n",
      "/content/drive/MyDrive/WOLOF/wav_final/aeb48bc117df21f871971d8d3a2951540476b5361ae9d85e574c395c9ebef2717d69f3f12f911f34d12782243c936f13f8342d30fd23812fc8fddb27289fd842.wav\n"
     ]
    },
    {
     "name": "stderr",
     "output_type": "stream",
     "text": [
      " 93%|█████████▎| 3432/3672 [09:01<00:38,  6.17it/s]"
     ]
    },
    {
     "name": "stdout",
     "output_type": "stream",
     "text": [
      "/content/drive/MyDrive/WOLOF/wav_final/828503579c02c99206036496d7ac933e262115204db806972a9f3cc2fe49181ff3277914c9c3a7daa9fefb6f6a52ae2cded6ac9cdc0747dcebf16dee26e90066.wav\n",
      "/content/drive/MyDrive/WOLOF/wav_final/646be6b894396dd909a35c703d3c211c99e6c1de0f089048e4d2f2decccc52110bae5940ba9e5cd8b5019697d1eff4919187be4c5019e3d0a33ee478d7fbcee1.wav\n"
     ]
    },
    {
     "name": "stderr",
     "output_type": "stream",
     "text": [
      " 94%|█████████▎| 3440/3672 [09:02<00:36,  6.42it/s]"
     ]
    },
    {
     "name": "stdout",
     "output_type": "stream",
     "text": [
      "/content/drive/MyDrive/WOLOF/wav_final/0f0bdcf8dc1df7ad5aeed48e55ba33d8b5c7d7857f7591733c7f6b221cd1132ab80f7f8b02164e4045c588163be662ac52096dd5b340d0f63627064bb647916d.wav\n",
      "/content/drive/MyDrive/WOLOF/wav_final/cf02344cc0509fc539a13a08b6bf78b5834fa68e80247b7f2c25efd57858496ded3e342331d09771e3a29d55eaa5f440e82b32f60d3c3ad855806b78d64d6d5e.wav\n",
      "/content/drive/MyDrive/WOLOF/wav_final/ede2d2a3f96c67431afdc322bf0f30f188e5c0dccfa7a893a4c41d894893679b3596982d47ad3d967949629201bcdaeb81c344a1bee32e4bd29bec381b680c9c.wav\n"
     ]
    },
    {
     "name": "stderr",
     "output_type": "stream",
     "text": [
      " 94%|█████████▍| 3456/3672 [09:04<00:32,  6.60it/s]"
     ]
    },
    {
     "name": "stdout",
     "output_type": "stream",
     "text": [
      "/content/drive/MyDrive/WOLOF/wav_final/0d02a42a3d836999ac05dbc7f92842411828dc53629867803511ef31a42a7a967e8e16d4efee3f0fcf8cb16aee6084d7f888a646b5470336ef105ddeb651fc42.wav\n",
      "/content/drive/MyDrive/WOLOF/wav_final/fe5ab7babd3bd7e07c8a8cb41285e28815de7dbe9e96d8d2ece6159957d207240ad7dfbdae1da12919f2e652672e3f53d5549e7348cad28365e3b7d3416e778a.wav\n"
     ]
    },
    {
     "name": "stderr",
     "output_type": "stream",
     "text": [
      " 94%|█████████▍| 3464/3672 [09:06<00:32,  6.31it/s]"
     ]
    },
    {
     "name": "stdout",
     "output_type": "stream",
     "text": [
      "/content/drive/MyDrive/WOLOF/wav_final/3f87c6f7d387d9c9278dff6f3d42ef4aee1945c8a05f7a11c51409ad2925539f4a3397040ad4efe073ab4d3ef964dec6306d9deeff22b221ba2361e94d154f49.wav\n",
      "/content/drive/MyDrive/WOLOF/wav_final/917efaae6fee79e1302be0638d85c215c669cba135d441372b7e5b98e9e6d7f517717cfc19a38c83d956c8be7ca1fbbf94947e5e5ecfcc8e9e8323a3f18b90ce.wav\n",
      "/content/drive/MyDrive/WOLOF/wav_final/1fc0b39a811e150b7b43a33b56722ce488a59ced74980bc730bbbd56a59ce0254a4912b5474e0206c9597eaf684e7caea681d5627fe592769358f09c1e1ac76d.wav\n"
     ]
    },
    {
     "name": "stderr",
     "output_type": "stream",
     "text": [
      " 95%|█████████▍| 3472/3672 [09:07<00:28,  6.91it/s]"
     ]
    },
    {
     "name": "stdout",
     "output_type": "stream",
     "text": [
      "/content/drive/MyDrive/WOLOF/wav_final/32c51bdaf6d43740eb04bdc2c173d464fe213f40ff5c56527c8a5ff047e9a9485662e5efa6c3143c91e2d27c6cbe0ede9b081f4882536ed9a90740fc4efc3fba.wav\n"
     ]
    },
    {
     "name": "stderr",
     "output_type": "stream",
     "text": [
      " 95%|█████████▍| 3480/3672 [09:07<00:24,  7.97it/s]"
     ]
    },
    {
     "name": "stdout",
     "output_type": "stream",
     "text": [
      "/content/drive/MyDrive/WOLOF/wav_final/af7702d25652c6b9922e1d21fe472fa62b2966642bea72b9b1faabd717b8bccbde152245d99257000027cf997f28af167c1a6f832e70ff60efbd692c964b69f3.wav\n",
      "/content/drive/MyDrive/WOLOF/wav_final/92b35d0f22f0e93ba3ab97c1c7ae556dc48326203d5c04b816e6453bbcf4f2ae8f5d5c4549714cf712263d595853746522f4e767bf8334b9ebbf32e40519a9e7.wav\n"
     ]
    },
    {
     "name": "stderr",
     "output_type": "stream",
     "text": [
      " 95%|█████████▍| 3488/3672 [09:08<00:24,  7.49it/s]"
     ]
    },
    {
     "name": "stdout",
     "output_type": "stream",
     "text": [
      "/content/drive/MyDrive/WOLOF/wav_final/b5297499823ff31c13114420868c1a6b4f92f710d7f309e745d9d3bc442aa599d48d89c2ffc1dee34a7f47073d81445a13f5f75bffafb741652c420b6a91edff.wav\n",
      "/content/drive/MyDrive/WOLOF/wav_final/26fef654ff8a74ebd8637289095553970d2b394070b9c90595c8fb08d05117d7ebee8c14ffe4dffe97b7588dc5f83dd911bf738e490c0d6bc6fd9807fa49a0f0.wav\n"
     ]
    },
    {
     "name": "stderr",
     "output_type": "stream",
     "text": [
      " 95%|█████████▌| 3504/3672 [09:12<00:27,  6.06it/s]"
     ]
    },
    {
     "name": "stdout",
     "output_type": "stream",
     "text": [
      "/content/drive/MyDrive/WOLOF/wav_final/6d29ba0dfb0dbd5e96715f64be5af8f6ca5d154f747f0dc53bd45464c046f60fb76007e79a1788254d79b4a5830cafb1124f89e2fe6e487e9aaea956eb71e2ce.wav\n"
     ]
    },
    {
     "name": "stderr",
     "output_type": "stream",
     "text": [
      " 96%|█████████▌| 3528/3672 [09:15<00:23,  6.22it/s]"
     ]
    },
    {
     "name": "stdout",
     "output_type": "stream",
     "text": [
      "/content/drive/MyDrive/WOLOF/wav_final/6a93960839c5fad0a29d4cbbb17de85df46edd7b9e3cc2b82246ed3584cc2780236807028211350ff42400ebf286b82b1edb98d2e68717d76352f9ab9468f442.wav\n",
      "/content/drive/MyDrive/WOLOF/wav_final/80b2496f1c43f599c23654c9bfdadbe2fff362a6f399f325e9c988a6b9ab33086a630be2d6c98f11f1aff27c7ecbbb7de418409686b393cc22a6a7756b6cd81e.wav\n"
     ]
    },
    {
     "name": "stderr",
     "output_type": "stream",
     "text": [
      " 96%|█████████▋| 3536/3672 [09:17<00:23,  5.79it/s]"
     ]
    },
    {
     "name": "stdout",
     "output_type": "stream",
     "text": [
      "/content/drive/MyDrive/WOLOF/wav_final/08a70bfa0098ac21182d6c73ccfb388e29f76997a049d0c6292619c550dcdd8016f6d68f047e2ccf7b7d93577b72ca49fbf934a2c671b35bbbee236ed9a5a6a5.wav\n"
     ]
    },
    {
     "name": "stderr",
     "output_type": "stream",
     "text": [
      " 97%|█████████▋| 3544/3672 [09:18<00:21,  6.06it/s]"
     ]
    },
    {
     "name": "stdout",
     "output_type": "stream",
     "text": [
      "/content/drive/MyDrive/WOLOF/wav_final/a9446bb4fb82ea823f7847a5fa8d92b46aea3d7688d19945b218372644f610bba7e82620244fadc0f79fa8718a97e9b34354691b4ed31222d58b9e7bcaebd460.wav\n",
      "/content/drive/MyDrive/WOLOF/wav_final/8c70bf2687559e1890ce7ae0f7f3c55a57d0d85695b897d541f7c9c1269db56694a0821f8697d3e7f08a60afc6646e6a22b4462cf7e141332e8fc40f4d6f9754.wav\n"
     ]
    },
    {
     "name": "stderr",
     "output_type": "stream",
     "text": [
      " 97%|█████████▋| 3568/3672 [09:22<00:16,  6.19it/s]"
     ]
    },
    {
     "name": "stdout",
     "output_type": "stream",
     "text": [
      "/content/drive/MyDrive/WOLOF/wav_final/d9008ecc6c6a035ad10bd5178bf7b0cbc5254cb22f6114cff493feb451fe44b611b6b0ff2f35acc12d0ee319ee77ed444a1eaa4bfb3201464cd1382d628d2f9a.wav\n"
     ]
    },
    {
     "name": "stderr",
     "output_type": "stream",
     "text": [
      " 98%|█████████▊| 3584/3672 [09:24<00:12,  7.04it/s]"
     ]
    },
    {
     "name": "stdout",
     "output_type": "stream",
     "text": [
      "/content/drive/MyDrive/WOLOF/wav_final/4ea59936c5b543cff43533de8f3beebbbfc519a55aff75e05a2f53599f0c27ad15df5aa701035e979a580782c35601a8b7b65d448fa2f5fe8a309df0d4282e96.wav\n",
      "/content/drive/MyDrive/WOLOF/wav_final/58da4c64acff3bed4d09fa18463f5ae8eaf083ad1e8e8a29aa7a38bfb36d260c786ba3bed7e7350e9327878a018a389ca86df1cd38b12fad6ff1c00c20e79368.wav\n"
     ]
    },
    {
     "name": "stderr",
     "output_type": "stream",
     "text": [
      " 98%|█████████▊| 3592/3672 [09:25<00:11,  6.95it/s]"
     ]
    },
    {
     "name": "stdout",
     "output_type": "stream",
     "text": [
      "/content/drive/MyDrive/WOLOF/wav_final/dafa3badb8d42a3ab723522400ca7bbb27510738c8df980dcf81cd98ca5b3ff0215529f94e5a64c16443417511f21da1b22e6331ab352243cf709fdabb46c98b.wav\n",
      "/content/drive/MyDrive/WOLOF/wav_final/c4010dfbc027fcb03e8e926c2c939f680c30826f252e21500233f7c8d965a0d0b3a7d1b45fc4fa69f94c22c662655b59a63719e9e0b0eb243ed9630fdc0c2d95.wav\n"
     ]
    },
    {
     "name": "stderr",
     "output_type": "stream",
     "text": [
      " 98%|█████████▊| 3616/3672 [09:29<00:08,  6.23it/s]"
     ]
    },
    {
     "name": "stdout",
     "output_type": "stream",
     "text": [
      "/content/drive/MyDrive/WOLOF/wav_final/d9373abe1a0131051b55dd61bb4dc924e39d4200e5784d6b21d2905ccfcd0a65571d1f57399ef2e2d834a12d2bd50d55d4bb74e2b7ea39ab726e29aa685d51f8.wav\n"
     ]
    },
    {
     "name": "stderr",
     "output_type": "stream",
     "text": [
      " 99%|█████████▊| 3624/3672 [09:30<00:07,  6.58it/s]"
     ]
    },
    {
     "name": "stdout",
     "output_type": "stream",
     "text": [
      "/content/drive/MyDrive/WOLOF/wav_final/3052f5c9c75a7c2972d968714cf240faf18cdedb2b515dc764a549eef60eec96001041ac737fefc5998b14c78be4c7b3630401084a755dbdde7ab7b7d328c441.wav\n",
      "/content/drive/MyDrive/WOLOF/wav_final/a0fd78bd4759b627a5b49836dd1d69bf3327afbbac1b0a034fca6af446a5f9d39ff1e277730eaabdf95ecf4f66262718424da24257a6395630e7af3304c3e14f.wav\n"
     ]
    },
    {
     "name": "stderr",
     "output_type": "stream",
     "text": [
      " 99%|█████████▉| 3632/3672 [09:32<00:06,  5.98it/s]"
     ]
    },
    {
     "name": "stdout",
     "output_type": "stream",
     "text": [
      "/content/drive/MyDrive/WOLOF/wav_final/2a8967fac3b5def7c6d22f90b211781e4b357bc7e5b6737c9f03aac3fd38aabc7d38c5a43a61332b59bcd327e8706cef0cc39ddf60f13a5c7a27b90423a54dca.wav\n",
      "/content/drive/MyDrive/WOLOF/wav_final/c0e66d47825aad51df311b28c9855c7a86733fcfcf706953e4bb8c48f51fb17c4946cd658f519cbfb1a0e6e1622825384d46d8d87c7bf7d889afc5bc956cf99c.wav\n"
     ]
    },
    {
     "name": "stderr",
     "output_type": "stream",
     "text": [
      "100%|█████████▉| 3656/3672 [09:35<00:02,  7.29it/s]"
     ]
    },
    {
     "name": "stdout",
     "output_type": "stream",
     "text": [
      "/content/drive/MyDrive/WOLOF/wav_final/f255327d3d6f0971ad81a40a934412834e2b018da317c9a5872a98595a545d0e8577ed61754c1a053cc36d54a7fb0518052223caa6cde92b1920c9192a36cdc5.wav\n"
     ]
    },
    {
     "name": "stderr",
     "output_type": "stream",
     "text": [
      "100%|██████████| 3672/3672 [09:38<00:00,  6.34it/s]"
     ]
    },
    {
     "name": "stdout",
     "output_type": "stream",
     "text": [
      "/content/drive/MyDrive/WOLOF/wav_final/1f585df8d4ac0f8607bfa04bcd67fc0894e4d82f3291c5a894d237af21fbfc7517ba11a554b1c7f1ddf66ead84daffb34ebd06b64af21137c921b8fb1a3ea59d.wav\n"
     ]
    },
    {
     "name": "stderr",
     "output_type": "stream",
     "text": [
      "\n"
     ]
    }
   ],
   "source": [
    "Test = pd.read_csv(\"test_sub.csv\") #File containing test_ids and submission_ids\n",
    "test_list = list(Test.ID.values)\n",
    "wolof_trans = Parallel(n_jobs=8, backend=\"multiprocessing\")(\n",
    "    delayed(save_fn)(filename) for filename in tqdm(test_list)\n",
    ")  "
   ]
  },
  {
   "cell_type": "code",
   "execution_count": 9,
   "metadata": {
    "colab": {
     "base_uri": "https://localhost:8080/",
     "height": 197
    },
    "id": "hhPujPE-vtT1",
    "outputId": "339609d7-ae98-4be3-d285-f98f6e187ea0"
   },
   "outputs": [
    {
     "data": {
      "text/html": [
       "<div>\n",
       "<style scoped>\n",
       "    .dataframe tbody tr th:only-of-type {\n",
       "        vertical-align: middle;\n",
       "    }\n",
       "\n",
       "    .dataframe tbody tr th {\n",
       "        vertical-align: top;\n",
       "    }\n",
       "\n",
       "    .dataframe thead th {\n",
       "        text-align: right;\n",
       "    }\n",
       "</style>\n",
       "<table border=\"1\" class=\"dataframe\">\n",
       "  <thead>\n",
       "    <tr style=\"text-align: right;\">\n",
       "      <th></th>\n",
       "      <th>ID</th>\n",
       "    </tr>\n",
       "  </thead>\n",
       "  <tbody>\n",
       "    <tr>\n",
       "      <th>0</th>\n",
       "      <td>11029f13896ac511ed94db03bca3f696b37eab753e271b...</td>\n",
       "    </tr>\n",
       "    <tr>\n",
       "      <th>1</th>\n",
       "      <td>80dd5220a77a299d2ecf7732e3f87d67b877bd89e2fcac...</td>\n",
       "    </tr>\n",
       "    <tr>\n",
       "      <th>2</th>\n",
       "      <td>050dc0a42d521c2deb0a79c3ff8d2780e6ce8165f8d8e6...</td>\n",
       "    </tr>\n",
       "    <tr>\n",
       "      <th>3</th>\n",
       "      <td>38d821886ffb1bbfddcc57b11243a09b4b866ca7d58a94...</td>\n",
       "    </tr>\n",
       "    <tr>\n",
       "      <th>4</th>\n",
       "      <td>9642674221ca8e6a90bee65c551d3b6a808c4862a21e0c...</td>\n",
       "    </tr>\n",
       "  </tbody>\n",
       "</table>\n",
       "</div>"
      ],
      "text/plain": [
       "                                                  ID\n",
       "0  11029f13896ac511ed94db03bca3f696b37eab753e271b...\n",
       "1  80dd5220a77a299d2ecf7732e3f87d67b877bd89e2fcac...\n",
       "2  050dc0a42d521c2deb0a79c3ff8d2780e6ce8165f8d8e6...\n",
       "3  38d821886ffb1bbfddcc57b11243a09b4b866ca7d58a94...\n",
       "4  9642674221ca8e6a90bee65c551d3b6a808c4862a21e0c..."
      ]
     },
     "execution_count": 9,
     "metadata": {},
     "output_type": "execute_result"
    }
   ],
   "source": [
    "Sub = pd.read_csv(\"test_sub.csv\") #A csv file containing test and submission IDs\n",
    "Sub.head()\n"
   ]
  },
  {
   "cell_type": "code",
   "execution_count": null,
   "metadata": {
    "colab": {
     "base_uri": "https://localhost:8080/",
     "height": 197
    },
    "id": "BVtKAig6yHEt",
    "outputId": "2c488c70-f097-492b-c686-65451bee743f"
   },
   "outputs": [
    {
     "data": {
      "text/html": [
       "<div>\n",
       "<style scoped>\n",
       "    .dataframe tbody tr th:only-of-type {\n",
       "        vertical-align: middle;\n",
       "    }\n",
       "\n",
       "    .dataframe tbody tr th {\n",
       "        vertical-align: top;\n",
       "    }\n",
       "\n",
       "    .dataframe thead th {\n",
       "        text-align: right;\n",
       "    }\n",
       "</style>\n",
       "<table border=\"1\" class=\"dataframe\">\n",
       "  <thead>\n",
       "    <tr style=\"text-align: right;\">\n",
       "      <th></th>\n",
       "      <th>ID</th>\n",
       "      <th>transcription</th>\n",
       "    </tr>\n",
       "  </thead>\n",
       "  <tbody>\n",
       "    <tr>\n",
       "      <th>0</th>\n",
       "      <td>11029f13896ac511ed94db03bca3f696b37eab753e271b...</td>\n",
       "      <td>monkeys Mariko kasuri Fisk</td>\n",
       "    </tr>\n",
       "    <tr>\n",
       "      <th>1</th>\n",
       "      <td>80dd5220a77a299d2ecf7732e3f87d67b877bd89e2fcac...</td>\n",
       "      <td>Reese's</td>\n",
       "    </tr>\n",
       "    <tr>\n",
       "      <th>2</th>\n",
       "      <td>050dc0a42d521c2deb0a79c3ff8d2780e6ce8165f8d8e6...</td>\n",
       "      <td>Darren basket</td>\n",
       "    </tr>\n",
       "    <tr>\n",
       "      <th>3</th>\n",
       "      <td>38d821886ffb1bbfddcc57b11243a09b4b866ca7d58a94...</td>\n",
       "      <td>company purchases</td>\n",
       "    </tr>\n",
       "    <tr>\n",
       "      <th>4</th>\n",
       "      <td>9642674221ca8e6a90bee65c551d3b6a808c4862a21e0c...</td>\n",
       "      <td>Ann Marie studer</td>\n",
       "    </tr>\n",
       "  </tbody>\n",
       "</table>\n",
       "</div>"
      ],
      "text/plain": [
       "                                                  ID               transcription\n",
       "0  11029f13896ac511ed94db03bca3f696b37eab753e271b...  monkeys Mariko kasuri Fisk\n",
       "1  80dd5220a77a299d2ecf7732e3f87d67b877bd89e2fcac...                     Reese's\n",
       "2  050dc0a42d521c2deb0a79c3ff8d2780e6ce8165f8d8e6...               Darren basket\n",
       "3  38d821886ffb1bbfddcc57b11243a09b4b866ca7d58a94...           company purchases\n",
       "4  9642674221ca8e6a90bee65c551d3b6a808c4862a21e0c...            Ann Marie studer"
      ]
     },
     "execution_count": 29,
     "metadata": {
      "tags": []
     },
     "output_type": "execute_result"
    }
   ],
   "source": [
    "Sub[\"transcription\"] = wolof_trans\n",
    "Sub.head()"
   ]
  },
  {
   "cell_type": "code",
   "execution_count": null,
   "metadata": {
    "colab": {
     "base_uri": "https://localhost:8080/"
    },
    "id": "LPg6uniMyMdz",
    "outputId": "3fb375c2-e9ce-4a38-be00-1a14229debe8"
   },
   "outputs": [
    {
     "data": {
      "text/plain": [
       "ID                 0\n",
       "transcription    708\n",
       "dtype: int64"
      ]
     },
     "execution_count": 31,
     "metadata": {
      "tags": []
     },
     "output_type": "execute_result"
    }
   ],
   "source": [
    "Sub.isna().sum()"
   ]
  },
  {
   "cell_type": "code",
   "execution_count": null,
   "metadata": {
    "colab": {
     "base_uri": "https://localhost:8080/",
     "height": 197
    },
    "id": "_LRJ04lH5KDo",
    "outputId": "8d3a090a-84d3-4212-8b3e-027f6e502748"
   },
   "outputs": [
    {
     "data": {
      "text/html": [
       "<div>\n",
       "<style scoped>\n",
       "    .dataframe tbody tr th:only-of-type {\n",
       "        vertical-align: middle;\n",
       "    }\n",
       "\n",
       "    .dataframe tbody tr th {\n",
       "        vertical-align: top;\n",
       "    }\n",
       "\n",
       "    .dataframe thead th {\n",
       "        text-align: right;\n",
       "    }\n",
       "</style>\n",
       "<table border=\"1\" class=\"dataframe\">\n",
       "  <thead>\n",
       "    <tr style=\"text-align: right;\">\n",
       "      <th></th>\n",
       "      <th>ID</th>\n",
       "      <th>transcription</th>\n",
       "    </tr>\n",
       "  </thead>\n",
       "  <tbody>\n",
       "    <tr>\n",
       "      <th>0</th>\n",
       "      <td>11029f13896ac511ed94db03bca3f696b37eab753e271b...</td>\n",
       "      <td>monkeys mariko kasuri fisk</td>\n",
       "    </tr>\n",
       "    <tr>\n",
       "      <th>1</th>\n",
       "      <td>80dd5220a77a299d2ecf7732e3f87d67b877bd89e2fcac...</td>\n",
       "      <td>reese's</td>\n",
       "    </tr>\n",
       "    <tr>\n",
       "      <th>2</th>\n",
       "      <td>050dc0a42d521c2deb0a79c3ff8d2780e6ce8165f8d8e6...</td>\n",
       "      <td>darren basket</td>\n",
       "    </tr>\n",
       "    <tr>\n",
       "      <th>3</th>\n",
       "      <td>38d821886ffb1bbfddcc57b11243a09b4b866ca7d58a94...</td>\n",
       "      <td>company purchases</td>\n",
       "    </tr>\n",
       "    <tr>\n",
       "      <th>4</th>\n",
       "      <td>9642674221ca8e6a90bee65c551d3b6a808c4862a21e0c...</td>\n",
       "      <td>ann marie studer</td>\n",
       "    </tr>\n",
       "  </tbody>\n",
       "</table>\n",
       "</div>"
      ],
      "text/plain": [
       "                                                  ID               transcription\n",
       "0  11029f13896ac511ed94db03bca3f696b37eab753e271b...  monkeys mariko kasuri fisk\n",
       "1  80dd5220a77a299d2ecf7732e3f87d67b877bd89e2fcac...                     reese's\n",
       "2  050dc0a42d521c2deb0a79c3ff8d2780e6ce8165f8d8e6...               darren basket\n",
       "3  38d821886ffb1bbfddcc57b11243a09b4b866ca7d58a94...           company purchases\n",
       "4  9642674221ca8e6a90bee65c551d3b6a808c4862a21e0c...            ann marie studer"
      ]
     },
     "execution_count": 34,
     "metadata": {
      "tags": []
     },
     "output_type": "execute_result"
    }
   ],
   "source": [
    "lower_trans=[]\n",
    "for x in Sub.transcription:\n",
    "    lower_trans.append(x.lower())\n",
    "Sub[\"transcription\"] = lower_trans\n",
    "Sub.head()"
   ]
  },
  {
   "cell_type": "code",
   "execution_count": null,
   "metadata": {
    "id": "zoTYfjQUyPkU"
   },
   "outputs": [],
   "source": [
    "Sub.fillna('aaa',inplace=True) ##Fill in the missing values"
   ]
  },
  {
   "cell_type": "code",
   "execution_count": null,
   "metadata": {
    "colab": {
     "base_uri": "https://localhost:8080/"
    },
    "id": "V_V6TBz1yaqg",
    "outputId": "7812e030-ef6b-4613-ae85-5bb430b1ff3b"
   },
   "outputs": [
    {
     "data": {
      "text/plain": [
       "ID               0\n",
       "transcription    0\n",
       "dtype: int64"
      ]
     },
     "execution_count": 35,
     "metadata": {
      "tags": []
     },
     "output_type": "execute_result"
    }
   ],
   "source": [
    "Sub.isna().sum()"
   ]
  },
  {
   "cell_type": "code",
   "execution_count": null,
   "metadata": {
    "id": "9KAwBZzWyeWO"
   },
   "outputs": [],
   "source": [
    "Sub.to_csv('submission',index=False)"
   ]
  }
 ],
 "metadata": {
  "colab": {
   "collapsed_sections": [],
   "name": "WOLOF_Bien.ipynb",
   "provenance": []
  },
  "kernelspec": {
   "display_name": "Python 3",
   "language": "python",
   "name": "python3"
  },
  "language_info": {
   "codemirror_mode": {
    "name": "ipython",
    "version": 3
   },
   "file_extension": ".py",
   "mimetype": "text/x-python",
   "name": "python",
   "nbconvert_exporter": "python",
   "pygments_lexer": "ipython3",
   "version": "3.7.3"
  },
  "widgets": {
   "application/vnd.jupyter.widget-state+json": {
    "0122f444ba27489cb523a517735d9cc3": {
     "model_module": "@jupyter-widgets/base",
     "model_name": "LayoutModel",
     "state": {
      "_model_module": "@jupyter-widgets/base",
      "_model_module_version": "1.2.0",
      "_model_name": "LayoutModel",
      "_view_count": null,
      "_view_module": "@jupyter-widgets/base",
      "_view_module_version": "1.2.0",
      "_view_name": "LayoutView",
      "align_content": null,
      "align_items": null,
      "align_self": null,
      "border": null,
      "bottom": null,
      "display": null,
      "flex": null,
      "flex_flow": null,
      "grid_area": null,
      "grid_auto_columns": null,
      "grid_auto_flow": null,
      "grid_auto_rows": null,
      "grid_column": null,
      "grid_gap": null,
      "grid_row": null,
      "grid_template_areas": null,
      "grid_template_columns": null,
      "grid_template_rows": null,
      "height": null,
      "justify_content": null,
      "justify_items": null,
      "left": null,
      "margin": null,
      "max_height": null,
      "max_width": null,
      "min_height": null,
      "min_width": null,
      "object_fit": null,
      "object_position": null,
      "order": null,
      "overflow": null,
      "overflow_x": null,
      "overflow_y": null,
      "padding": null,
      "right": null,
      "top": null,
      "visibility": null,
      "width": null
     }
    },
    "09be73d5a90b41a7b93275dedd436fb6": {
     "model_module": "@jupyter-widgets/controls",
     "model_name": "ProgressStyleModel",
     "state": {
      "_model_module": "@jupyter-widgets/controls",
      "_model_module_version": "1.5.0",
      "_model_name": "ProgressStyleModel",
      "_view_count": null,
      "_view_module": "@jupyter-widgets/base",
      "_view_module_version": "1.2.0",
      "_view_name": "StyleView",
      "bar_color": null,
      "description_width": "initial"
     }
    },
    "0a1ec32bc3d9416ea78cd6ef2fbbbca2": {
     "model_module": "@jupyter-widgets/base",
     "model_name": "LayoutModel",
     "state": {
      "_model_module": "@jupyter-widgets/base",
      "_model_module_version": "1.2.0",
      "_model_name": "LayoutModel",
      "_view_count": null,
      "_view_module": "@jupyter-widgets/base",
      "_view_module_version": "1.2.0",
      "_view_name": "LayoutView",
      "align_content": null,
      "align_items": null,
      "align_self": null,
      "border": null,
      "bottom": null,
      "display": null,
      "flex": null,
      "flex_flow": null,
      "grid_area": null,
      "grid_auto_columns": null,
      "grid_auto_flow": null,
      "grid_auto_rows": null,
      "grid_column": null,
      "grid_gap": null,
      "grid_row": null,
      "grid_template_areas": null,
      "grid_template_columns": null,
      "grid_template_rows": null,
      "height": null,
      "justify_content": null,
      "justify_items": null,
      "left": null,
      "margin": null,
      "max_height": null,
      "max_width": null,
      "min_height": null,
      "min_width": null,
      "object_fit": null,
      "object_position": null,
      "order": null,
      "overflow": null,
      "overflow_x": null,
      "overflow_y": null,
      "padding": null,
      "right": null,
      "top": null,
      "visibility": null,
      "width": null
     }
    },
    "0b4da7af86aa463ea865e6bd7908bbe9": {
     "model_module": "@jupyter-widgets/controls",
     "model_name": "HBoxModel",
     "state": {
      "_dom_classes": [],
      "_model_module": "@jupyter-widgets/controls",
      "_model_module_version": "1.5.0",
      "_model_name": "HBoxModel",
      "_view_count": null,
      "_view_module": "@jupyter-widgets/controls",
      "_view_module_version": "1.5.0",
      "_view_name": "HBoxView",
      "box_style": "",
      "children": [
       "IPY_MODEL_52a3b201787e43828a9b6ce8858dcf71",
       "IPY_MODEL_68db0380b923495482cc53a05e55176c"
      ],
      "layout": "IPY_MODEL_9862df8ae3914118bbf57a420576957c"
     }
    },
    "0e3f3bbce9844ab59adf6e71790cddd9": {
     "model_module": "@jupyter-widgets/controls",
     "model_name": "HBoxModel",
     "state": {
      "_dom_classes": [],
      "_model_module": "@jupyter-widgets/controls",
      "_model_module_version": "1.5.0",
      "_model_name": "HBoxModel",
      "_view_count": null,
      "_view_module": "@jupyter-widgets/controls",
      "_view_module_version": "1.5.0",
      "_view_name": "HBoxView",
      "box_style": "",
      "children": [
       "IPY_MODEL_cc7290bbc6eb41b68e630c9b16ab4935",
       "IPY_MODEL_217fcff89a494feaacc43acd905df678"
      ],
      "layout": "IPY_MODEL_c6839fb0b2d241c28f2b9616ba695986"
     }
    },
    "11cb3df6627c4d79a3ae8e03de2a0e28": {
     "model_module": "@jupyter-widgets/base",
     "model_name": "LayoutModel",
     "state": {
      "_model_module": "@jupyter-widgets/base",
      "_model_module_version": "1.2.0",
      "_model_name": "LayoutModel",
      "_view_count": null,
      "_view_module": "@jupyter-widgets/base",
      "_view_module_version": "1.2.0",
      "_view_name": "LayoutView",
      "align_content": null,
      "align_items": null,
      "align_self": null,
      "border": null,
      "bottom": null,
      "display": null,
      "flex": null,
      "flex_flow": null,
      "grid_area": null,
      "grid_auto_columns": null,
      "grid_auto_flow": null,
      "grid_auto_rows": null,
      "grid_column": null,
      "grid_gap": null,
      "grid_row": null,
      "grid_template_areas": null,
      "grid_template_columns": null,
      "grid_template_rows": null,
      "height": null,
      "justify_content": null,
      "justify_items": null,
      "left": null,
      "margin": null,
      "max_height": null,
      "max_width": null,
      "min_height": null,
      "min_width": null,
      "object_fit": null,
      "object_position": null,
      "order": null,
      "overflow": null,
      "overflow_x": null,
      "overflow_y": null,
      "padding": null,
      "right": null,
      "top": null,
      "visibility": null,
      "width": null
     }
    },
    "1a8acc4b6808442dad05aa6b63ddcfe8": {
     "model_module": "@jupyter-widgets/controls",
     "model_name": "DescriptionStyleModel",
     "state": {
      "_model_module": "@jupyter-widgets/controls",
      "_model_module_version": "1.5.0",
      "_model_name": "DescriptionStyleModel",
      "_view_count": null,
      "_view_module": "@jupyter-widgets/base",
      "_view_module_version": "1.2.0",
      "_view_name": "StyleView",
      "description_width": ""
     }
    },
    "1d90b3750e5544e086dc79f0a991558c": {
     "model_module": "@jupyter-widgets/controls",
     "model_name": "DescriptionStyleModel",
     "state": {
      "_model_module": "@jupyter-widgets/controls",
      "_model_module_version": "1.5.0",
      "_model_name": "DescriptionStyleModel",
      "_view_count": null,
      "_view_module": "@jupyter-widgets/base",
      "_view_module_version": "1.2.0",
      "_view_name": "StyleView",
      "description_width": ""
     }
    },
    "20739f5423df4a2a94cdb5e30bc9e31f": {
     "model_module": "@jupyter-widgets/controls",
     "model_name": "DescriptionStyleModel",
     "state": {
      "_model_module": "@jupyter-widgets/controls",
      "_model_module_version": "1.5.0",
      "_model_name": "DescriptionStyleModel",
      "_view_count": null,
      "_view_module": "@jupyter-widgets/base",
      "_view_module_version": "1.2.0",
      "_view_name": "StyleView",
      "description_width": ""
     }
    },
    "20f5784e12914043b78897a60a64c35c": {
     "model_module": "@jupyter-widgets/controls",
     "model_name": "HTMLModel",
     "state": {
      "_dom_classes": [],
      "_model_module": "@jupyter-widgets/controls",
      "_model_module_version": "1.5.0",
      "_model_name": "HTMLModel",
      "_view_count": null,
      "_view_module": "@jupyter-widgets/controls",
      "_view_module_version": "1.5.0",
      "_view_name": "HTMLView",
      "description": "",
      "description_tooltip": null,
      "layout": "IPY_MODEL_622389e245b2419eaeea772e9adb6df6",
      "placeholder": "​",
      "style": "IPY_MODEL_1d90b3750e5544e086dc79f0a991558c",
      "value": " 378M/378M [00:10&lt;00:00, 36.9MB/s]"
     }
    },
    "217fcff89a494feaacc43acd905df678": {
     "model_module": "@jupyter-widgets/controls",
     "model_name": "HTMLModel",
     "state": {
      "_dom_classes": [],
      "_model_module": "@jupyter-widgets/controls",
      "_model_module_version": "1.5.0",
      "_model_name": "HTMLModel",
      "_view_count": null,
      "_view_module": "@jupyter-widgets/controls",
      "_view_module_version": "1.5.0",
      "_view_name": "HTMLView",
      "description": "",
      "description_tooltip": null,
      "layout": "IPY_MODEL_5f916710f8ba4648b9d014c0e20e8486",
      "placeholder": "​",
      "style": "IPY_MODEL_82ba61a0b7a04dadbe9f71ee8ff503a1",
      "value": " 162/162 [00:27&lt;00:00, 5.81B/s]"
     }
    },
    "29d18a7488ff4c5696603ed3984e9cc1": {
     "model_module": "@jupyter-widgets/controls",
     "model_name": "HBoxModel",
     "state": {
      "_dom_classes": [],
      "_model_module": "@jupyter-widgets/controls",
      "_model_module_version": "1.5.0",
      "_model_name": "HBoxModel",
      "_view_count": null,
      "_view_module": "@jupyter-widgets/controls",
      "_view_module_version": "1.5.0",
      "_view_name": "HBoxView",
      "box_style": "",
      "children": [
       "IPY_MODEL_2b1c0e8ecf474bd7ae6475b805e403f8",
       "IPY_MODEL_fa5ae3acf6764c128fd71adca0eda77b"
      ],
      "layout": "IPY_MODEL_ba7c63497d1b459f941292fd9e82fa88"
     }
    },
    "2aa0b45a198d4bc6b93a2fd38b7abb31": {
     "model_module": "@jupyter-widgets/base",
     "model_name": "LayoutModel",
     "state": {
      "_model_module": "@jupyter-widgets/base",
      "_model_module_version": "1.2.0",
      "_model_name": "LayoutModel",
      "_view_count": null,
      "_view_module": "@jupyter-widgets/base",
      "_view_module_version": "1.2.0",
      "_view_name": "LayoutView",
      "align_content": null,
      "align_items": null,
      "align_self": null,
      "border": null,
      "bottom": null,
      "display": null,
      "flex": null,
      "flex_flow": null,
      "grid_area": null,
      "grid_auto_columns": null,
      "grid_auto_flow": null,
      "grid_auto_rows": null,
      "grid_column": null,
      "grid_gap": null,
      "grid_row": null,
      "grid_template_areas": null,
      "grid_template_columns": null,
      "grid_template_rows": null,
      "height": null,
      "justify_content": null,
      "justify_items": null,
      "left": null,
      "margin": null,
      "max_height": null,
      "max_width": null,
      "min_height": null,
      "min_width": null,
      "object_fit": null,
      "object_position": null,
      "order": null,
      "overflow": null,
      "overflow_x": null,
      "overflow_y": null,
      "padding": null,
      "right": null,
      "top": null,
      "visibility": null,
      "width": null
     }
    },
    "2b1c0e8ecf474bd7ae6475b805e403f8": {
     "model_module": "@jupyter-widgets/controls",
     "model_name": "FloatProgressModel",
     "state": {
      "_dom_classes": [],
      "_model_module": "@jupyter-widgets/controls",
      "_model_module_version": "1.5.0",
      "_model_name": "FloatProgressModel",
      "_view_count": null,
      "_view_module": "@jupyter-widgets/controls",
      "_view_module_version": "1.5.0",
      "_view_name": "ProgressView",
      "bar_style": "success",
      "description": "Downloading: 100%",
      "description_tooltip": null,
      "layout": "IPY_MODEL_5366c9eaee2f4e3d9cfc3f52c1278bd1",
      "max": 843,
      "min": 0,
      "orientation": "horizontal",
      "style": "IPY_MODEL_79f21b45a7fd49e88319c572eb6e1c41",
      "value": 843
     }
    },
    "2b6d2f1fb751438cb7a896eafaaff626": {
     "model_module": "@jupyter-widgets/controls",
     "model_name": "HBoxModel",
     "state": {
      "_dom_classes": [],
      "_model_module": "@jupyter-widgets/controls",
      "_model_module_version": "1.5.0",
      "_model_name": "HBoxModel",
      "_view_count": null,
      "_view_module": "@jupyter-widgets/controls",
      "_view_module_version": "1.5.0",
      "_view_name": "HBoxView",
      "box_style": "",
      "children": [
       "IPY_MODEL_d4883517733441358531fe05530b7281",
       "IPY_MODEL_b89c51a478f7408bbfef23f0dffddb67"
      ],
      "layout": "IPY_MODEL_9eb642ac07e742c993d8ebfb217f0ded"
     }
    },
    "308e1036af454eec9bf623c62db6f3ac": {
     "model_module": "@jupyter-widgets/base",
     "model_name": "LayoutModel",
     "state": {
      "_model_module": "@jupyter-widgets/base",
      "_model_module_version": "1.2.0",
      "_model_name": "LayoutModel",
      "_view_count": null,
      "_view_module": "@jupyter-widgets/base",
      "_view_module_version": "1.2.0",
      "_view_name": "LayoutView",
      "align_content": null,
      "align_items": null,
      "align_self": null,
      "border": null,
      "bottom": null,
      "display": null,
      "flex": null,
      "flex_flow": null,
      "grid_area": null,
      "grid_auto_columns": null,
      "grid_auto_flow": null,
      "grid_auto_rows": null,
      "grid_column": null,
      "grid_gap": null,
      "grid_row": null,
      "grid_template_areas": null,
      "grid_template_columns": null,
      "grid_template_rows": null,
      "height": null,
      "justify_content": null,
      "justify_items": null,
      "left": null,
      "margin": null,
      "max_height": null,
      "max_width": null,
      "min_height": null,
      "min_width": null,
      "object_fit": null,
      "object_position": null,
      "order": null,
      "overflow": null,
      "overflow_x": null,
      "overflow_y": null,
      "padding": null,
      "right": null,
      "top": null,
      "visibility": null,
      "width": null
     }
    },
    "3111078489f94be99c5c480767f4366e": {
     "model_module": "@jupyter-widgets/controls",
     "model_name": "HTMLModel",
     "state": {
      "_dom_classes": [],
      "_model_module": "@jupyter-widgets/controls",
      "_model_module_version": "1.5.0",
      "_model_name": "HTMLModel",
      "_view_count": null,
      "_view_module": "@jupyter-widgets/controls",
      "_view_module_version": "1.5.0",
      "_view_name": "HTMLView",
      "description": "",
      "description_tooltip": null,
      "layout": "IPY_MODEL_53327476dcbf4360b86e28aec2008175",
      "placeholder": "​",
      "style": "IPY_MODEL_c876a9c55400411388ef450e3d148f96",
      "value": " 85.0/85.0 [00:00&lt;00:00, 145B/s]"
     }
    },
    "36f48c2c97934d81aebc2fa4147c420f": {
     "model_module": "@jupyter-widgets/base",
     "model_name": "LayoutModel",
     "state": {
      "_model_module": "@jupyter-widgets/base",
      "_model_module_version": "1.2.0",
      "_model_name": "LayoutModel",
      "_view_count": null,
      "_view_module": "@jupyter-widgets/base",
      "_view_module_version": "1.2.0",
      "_view_name": "LayoutView",
      "align_content": null,
      "align_items": null,
      "align_self": null,
      "border": null,
      "bottom": null,
      "display": null,
      "flex": null,
      "flex_flow": null,
      "grid_area": null,
      "grid_auto_columns": null,
      "grid_auto_flow": null,
      "grid_auto_rows": null,
      "grid_column": null,
      "grid_gap": null,
      "grid_row": null,
      "grid_template_areas": null,
      "grid_template_columns": null,
      "grid_template_rows": null,
      "height": null,
      "justify_content": null,
      "justify_items": null,
      "left": null,
      "margin": null,
      "max_height": null,
      "max_width": null,
      "min_height": null,
      "min_width": null,
      "object_fit": null,
      "object_position": null,
      "order": null,
      "overflow": null,
      "overflow_x": null,
      "overflow_y": null,
      "padding": null,
      "right": null,
      "top": null,
      "visibility": null,
      "width": null
     }
    },
    "3d14d4e4317e4fa3b69d37a7b724587c": {
     "model_module": "@jupyter-widgets/controls",
     "model_name": "HTMLModel",
     "state": {
      "_dom_classes": [],
      "_model_module": "@jupyter-widgets/controls",
      "_model_module_version": "1.5.0",
      "_model_name": "HTMLModel",
      "_view_count": null,
      "_view_module": "@jupyter-widgets/controls",
      "_view_module_version": "1.5.0",
      "_view_name": "HTMLView",
      "description": "",
      "description_tooltip": null,
      "layout": "IPY_MODEL_6e28178f93164ab09ecc2af6f59e22ec",
      "placeholder": "​",
      "style": "IPY_MODEL_cc5ee38d1fc3487aab80649f50769ea5",
      "value": " 1.26G/1.26G [00:26&lt;00:00, 48.4MB/s]"
     }
    },
    "43591881e0eb492c9cbb0188c0d1423e": {
     "model_module": "@jupyter-widgets/base",
     "model_name": "LayoutModel",
     "state": {
      "_model_module": "@jupyter-widgets/base",
      "_model_module_version": "1.2.0",
      "_model_name": "LayoutModel",
      "_view_count": null,
      "_view_module": "@jupyter-widgets/base",
      "_view_module_version": "1.2.0",
      "_view_name": "LayoutView",
      "align_content": null,
      "align_items": null,
      "align_self": null,
      "border": null,
      "bottom": null,
      "display": null,
      "flex": null,
      "flex_flow": null,
      "grid_area": null,
      "grid_auto_columns": null,
      "grid_auto_flow": null,
      "grid_auto_rows": null,
      "grid_column": null,
      "grid_gap": null,
      "grid_row": null,
      "grid_template_areas": null,
      "grid_template_columns": null,
      "grid_template_rows": null,
      "height": null,
      "justify_content": null,
      "justify_items": null,
      "left": null,
      "margin": null,
      "max_height": null,
      "max_width": null,
      "min_height": null,
      "min_width": null,
      "object_fit": null,
      "object_position": null,
      "order": null,
      "overflow": null,
      "overflow_x": null,
      "overflow_y": null,
      "padding": null,
      "right": null,
      "top": null,
      "visibility": null,
      "width": null
     }
    },
    "49b312bd248442c7806567bfd95071b6": {
     "model_module": "@jupyter-widgets/controls",
     "model_name": "ProgressStyleModel",
     "state": {
      "_model_module": "@jupyter-widgets/controls",
      "_model_module_version": "1.5.0",
      "_model_name": "ProgressStyleModel",
      "_view_count": null,
      "_view_module": "@jupyter-widgets/base",
      "_view_module_version": "1.2.0",
      "_view_name": "StyleView",
      "bar_color": null,
      "description_width": "initial"
     }
    },
    "4a697868bda6401e836269c081cf18ab": {
     "model_module": "@jupyter-widgets/base",
     "model_name": "LayoutModel",
     "state": {
      "_model_module": "@jupyter-widgets/base",
      "_model_module_version": "1.2.0",
      "_model_name": "LayoutModel",
      "_view_count": null,
      "_view_module": "@jupyter-widgets/base",
      "_view_module_version": "1.2.0",
      "_view_name": "LayoutView",
      "align_content": null,
      "align_items": null,
      "align_self": null,
      "border": null,
      "bottom": null,
      "display": null,
      "flex": null,
      "flex_flow": null,
      "grid_area": null,
      "grid_auto_columns": null,
      "grid_auto_flow": null,
      "grid_auto_rows": null,
      "grid_column": null,
      "grid_gap": null,
      "grid_row": null,
      "grid_template_areas": null,
      "grid_template_columns": null,
      "grid_template_rows": null,
      "height": null,
      "justify_content": null,
      "justify_items": null,
      "left": null,
      "margin": null,
      "max_height": null,
      "max_width": null,
      "min_height": null,
      "min_width": null,
      "object_fit": null,
      "object_position": null,
      "order": null,
      "overflow": null,
      "overflow_x": null,
      "overflow_y": null,
      "padding": null,
      "right": null,
      "top": null,
      "visibility": null,
      "width": null
     }
    },
    "4db8d5cff3074892b103b65f23e79680": {
     "model_module": "@jupyter-widgets/base",
     "model_name": "LayoutModel",
     "state": {
      "_model_module": "@jupyter-widgets/base",
      "_model_module_version": "1.2.0",
      "_model_name": "LayoutModel",
      "_view_count": null,
      "_view_module": "@jupyter-widgets/base",
      "_view_module_version": "1.2.0",
      "_view_name": "LayoutView",
      "align_content": null,
      "align_items": null,
      "align_self": null,
      "border": null,
      "bottom": null,
      "display": null,
      "flex": null,
      "flex_flow": null,
      "grid_area": null,
      "grid_auto_columns": null,
      "grid_auto_flow": null,
      "grid_auto_rows": null,
      "grid_column": null,
      "grid_gap": null,
      "grid_row": null,
      "grid_template_areas": null,
      "grid_template_columns": null,
      "grid_template_rows": null,
      "height": null,
      "justify_content": null,
      "justify_items": null,
      "left": null,
      "margin": null,
      "max_height": null,
      "max_width": null,
      "min_height": null,
      "min_width": null,
      "object_fit": null,
      "object_position": null,
      "order": null,
      "overflow": null,
      "overflow_x": null,
      "overflow_y": null,
      "padding": null,
      "right": null,
      "top": null,
      "visibility": null,
      "width": null
     }
    },
    "52a3b201787e43828a9b6ce8858dcf71": {
     "model_module": "@jupyter-widgets/controls",
     "model_name": "FloatProgressModel",
     "state": {
      "_dom_classes": [],
      "_model_module": "@jupyter-widgets/controls",
      "_model_module_version": "1.5.0",
      "_model_name": "FloatProgressModel",
      "_view_count": null,
      "_view_module": "@jupyter-widgets/controls",
      "_view_module_version": "1.5.0",
      "_view_name": "ProgressView",
      "bar_style": "success",
      "description": "Downloading: 100%",
      "description_tooltip": null,
      "layout": "IPY_MODEL_2aa0b45a198d4bc6b93a2fd38b7abb31",
      "max": 163,
      "min": 0,
      "orientation": "horizontal",
      "style": "IPY_MODEL_49b312bd248442c7806567bfd95071b6",
      "value": 163
     }
    },
    "532d8a9d05904c609f025b0e058951a6": {
     "model_module": "@jupyter-widgets/controls",
     "model_name": "ProgressStyleModel",
     "state": {
      "_model_module": "@jupyter-widgets/controls",
      "_model_module_version": "1.5.0",
      "_model_name": "ProgressStyleModel",
      "_view_count": null,
      "_view_module": "@jupyter-widgets/base",
      "_view_module_version": "1.2.0",
      "_view_name": "StyleView",
      "bar_color": null,
      "description_width": "initial"
     }
    },
    "53327476dcbf4360b86e28aec2008175": {
     "model_module": "@jupyter-widgets/base",
     "model_name": "LayoutModel",
     "state": {
      "_model_module": "@jupyter-widgets/base",
      "_model_module_version": "1.2.0",
      "_model_name": "LayoutModel",
      "_view_count": null,
      "_view_module": "@jupyter-widgets/base",
      "_view_module_version": "1.2.0",
      "_view_name": "LayoutView",
      "align_content": null,
      "align_items": null,
      "align_self": null,
      "border": null,
      "bottom": null,
      "display": null,
      "flex": null,
      "flex_flow": null,
      "grid_area": null,
      "grid_auto_columns": null,
      "grid_auto_flow": null,
      "grid_auto_rows": null,
      "grid_column": null,
      "grid_gap": null,
      "grid_row": null,
      "grid_template_areas": null,
      "grid_template_columns": null,
      "grid_template_rows": null,
      "height": null,
      "justify_content": null,
      "justify_items": null,
      "left": null,
      "margin": null,
      "max_height": null,
      "max_width": null,
      "min_height": null,
      "min_width": null,
      "object_fit": null,
      "object_position": null,
      "order": null,
      "overflow": null,
      "overflow_x": null,
      "overflow_y": null,
      "padding": null,
      "right": null,
      "top": null,
      "visibility": null,
      "width": null
     }
    },
    "5366c9eaee2f4e3d9cfc3f52c1278bd1": {
     "model_module": "@jupyter-widgets/base",
     "model_name": "LayoutModel",
     "state": {
      "_model_module": "@jupyter-widgets/base",
      "_model_module_version": "1.2.0",
      "_model_name": "LayoutModel",
      "_view_count": null,
      "_view_module": "@jupyter-widgets/base",
      "_view_module_version": "1.2.0",
      "_view_name": "LayoutView",
      "align_content": null,
      "align_items": null,
      "align_self": null,
      "border": null,
      "bottom": null,
      "display": null,
      "flex": null,
      "flex_flow": null,
      "grid_area": null,
      "grid_auto_columns": null,
      "grid_auto_flow": null,
      "grid_auto_rows": null,
      "grid_column": null,
      "grid_gap": null,
      "grid_row": null,
      "grid_template_areas": null,
      "grid_template_columns": null,
      "grid_template_rows": null,
      "height": null,
      "justify_content": null,
      "justify_items": null,
      "left": null,
      "margin": null,
      "max_height": null,
      "max_width": null,
      "min_height": null,
      "min_width": null,
      "object_fit": null,
      "object_position": null,
      "order": null,
      "overflow": null,
      "overflow_x": null,
      "overflow_y": null,
      "padding": null,
      "right": null,
      "top": null,
      "visibility": null,
      "width": null
     }
    },
    "5f916710f8ba4648b9d014c0e20e8486": {
     "model_module": "@jupyter-widgets/base",
     "model_name": "LayoutModel",
     "state": {
      "_model_module": "@jupyter-widgets/base",
      "_model_module_version": "1.2.0",
      "_model_name": "LayoutModel",
      "_view_count": null,
      "_view_module": "@jupyter-widgets/base",
      "_view_module_version": "1.2.0",
      "_view_name": "LayoutView",
      "align_content": null,
      "align_items": null,
      "align_self": null,
      "border": null,
      "bottom": null,
      "display": null,
      "flex": null,
      "flex_flow": null,
      "grid_area": null,
      "grid_auto_columns": null,
      "grid_auto_flow": null,
      "grid_auto_rows": null,
      "grid_column": null,
      "grid_gap": null,
      "grid_row": null,
      "grid_template_areas": null,
      "grid_template_columns": null,
      "grid_template_rows": null,
      "height": null,
      "justify_content": null,
      "justify_items": null,
      "left": null,
      "margin": null,
      "max_height": null,
      "max_width": null,
      "min_height": null,
      "min_width": null,
      "object_fit": null,
      "object_position": null,
      "order": null,
      "overflow": null,
      "overflow_x": null,
      "overflow_y": null,
      "padding": null,
      "right": null,
      "top": null,
      "visibility": null,
      "width": null
     }
    },
    "60a3d9d782c54c259498334fd066604d": {
     "model_module": "@jupyter-widgets/controls",
     "model_name": "FloatProgressModel",
     "state": {
      "_dom_classes": [],
      "_model_module": "@jupyter-widgets/controls",
      "_model_module_version": "1.5.0",
      "_model_name": "FloatProgressModel",
      "_view_count": null,
      "_view_module": "@jupyter-widgets/controls",
      "_view_module_version": "1.5.0",
      "_view_name": "ProgressView",
      "bar_style": "success",
      "description": "Downloading: 100%",
      "description_tooltip": null,
      "layout": "IPY_MODEL_a7d91ab67e3f489aab078b5543860a4b",
      "max": 377667514,
      "min": 0,
      "orientation": "horizontal",
      "style": "IPY_MODEL_fbdb2b27076040b1b3af90c0855cd57e",
      "value": 377667514
     }
    },
    "622389e245b2419eaeea772e9adb6df6": {
     "model_module": "@jupyter-widgets/base",
     "model_name": "LayoutModel",
     "state": {
      "_model_module": "@jupyter-widgets/base",
      "_model_module_version": "1.2.0",
      "_model_name": "LayoutModel",
      "_view_count": null,
      "_view_module": "@jupyter-widgets/base",
      "_view_module_version": "1.2.0",
      "_view_name": "LayoutView",
      "align_content": null,
      "align_items": null,
      "align_self": null,
      "border": null,
      "bottom": null,
      "display": null,
      "flex": null,
      "flex_flow": null,
      "grid_area": null,
      "grid_auto_columns": null,
      "grid_auto_flow": null,
      "grid_auto_rows": null,
      "grid_column": null,
      "grid_gap": null,
      "grid_row": null,
      "grid_template_areas": null,
      "grid_template_columns": null,
      "grid_template_rows": null,
      "height": null,
      "justify_content": null,
      "justify_items": null,
      "left": null,
      "margin": null,
      "max_height": null,
      "max_width": null,
      "min_height": null,
      "min_width": null,
      "object_fit": null,
      "object_position": null,
      "order": null,
      "overflow": null,
      "overflow_x": null,
      "overflow_y": null,
      "padding": null,
      "right": null,
      "top": null,
      "visibility": null,
      "width": null
     }
    },
    "68db0380b923495482cc53a05e55176c": {
     "model_module": "@jupyter-widgets/controls",
     "model_name": "HTMLModel",
     "state": {
      "_dom_classes": [],
      "_model_module": "@jupyter-widgets/controls",
      "_model_module_version": "1.5.0",
      "_model_name": "HTMLModel",
      "_view_count": null,
      "_view_module": "@jupyter-widgets/controls",
      "_view_module_version": "1.5.0",
      "_view_name": "HTMLView",
      "description": "",
      "description_tooltip": null,
      "layout": "IPY_MODEL_4a697868bda6401e836269c081cf18ab",
      "placeholder": "​",
      "style": "IPY_MODEL_d81e442f1e7f4c1e9bb6808a6cd1d4a0",
      "value": " 163/163 [00:12&lt;00:00, 13.2B/s]"
     }
    },
    "69a45010a2f64a6d9ba02a23ce71b0c8": {
     "model_module": "@jupyter-widgets/controls",
     "model_name": "ProgressStyleModel",
     "state": {
      "_model_module": "@jupyter-widgets/controls",
      "_model_module_version": "1.5.0",
      "_model_name": "ProgressStyleModel",
      "_view_count": null,
      "_view_module": "@jupyter-widgets/base",
      "_view_module_version": "1.2.0",
      "_view_name": "StyleView",
      "bar_color": null,
      "description_width": "initial"
     }
    },
    "6e28178f93164ab09ecc2af6f59e22ec": {
     "model_module": "@jupyter-widgets/base",
     "model_name": "LayoutModel",
     "state": {
      "_model_module": "@jupyter-widgets/base",
      "_model_module_version": "1.2.0",
      "_model_name": "LayoutModel",
      "_view_count": null,
      "_view_module": "@jupyter-widgets/base",
      "_view_module_version": "1.2.0",
      "_view_name": "LayoutView",
      "align_content": null,
      "align_items": null,
      "align_self": null,
      "border": null,
      "bottom": null,
      "display": null,
      "flex": null,
      "flex_flow": null,
      "grid_area": null,
      "grid_auto_columns": null,
      "grid_auto_flow": null,
      "grid_auto_rows": null,
      "grid_column": null,
      "grid_gap": null,
      "grid_row": null,
      "grid_template_areas": null,
      "grid_template_columns": null,
      "grid_template_rows": null,
      "height": null,
      "justify_content": null,
      "justify_items": null,
      "left": null,
      "margin": null,
      "max_height": null,
      "max_width": null,
      "min_height": null,
      "min_width": null,
      "object_fit": null,
      "object_position": null,
      "order": null,
      "overflow": null,
      "overflow_x": null,
      "overflow_y": null,
      "padding": null,
      "right": null,
      "top": null,
      "visibility": null,
      "width": null
     }
    },
    "6eeb8686f6b64edf887307ed924f87e1": {
     "model_module": "@jupyter-widgets/controls",
     "model_name": "HBoxModel",
     "state": {
      "_dom_classes": [],
      "_model_module": "@jupyter-widgets/controls",
      "_model_module_version": "1.5.0",
      "_model_name": "HBoxModel",
      "_view_count": null,
      "_view_module": "@jupyter-widgets/controls",
      "_view_module_version": "1.5.0",
      "_view_name": "HBoxView",
      "box_style": "",
      "children": [
       "IPY_MODEL_eaa0a6b4b3c14364bf3c3891e8c212d0",
       "IPY_MODEL_c885ca701e3e4000b1d3c8b94f847384"
      ],
      "layout": "IPY_MODEL_b0ccaec2afef4d5ea706b7ca24f15a20"
     }
    },
    "7104c2b1db494d47aca81316ce5a72f1": {
     "model_module": "@jupyter-widgets/controls",
     "model_name": "HTMLModel",
     "state": {
      "_dom_classes": [],
      "_model_module": "@jupyter-widgets/controls",
      "_model_module_version": "1.5.0",
      "_model_name": "HTMLModel",
      "_view_count": null,
      "_view_module": "@jupyter-widgets/controls",
      "_view_module_version": "1.5.0",
      "_view_name": "HTMLView",
      "description": "",
      "description_tooltip": null,
      "layout": "IPY_MODEL_b9d85a8c875a408ea5ecc38eeec79b1e",
      "placeholder": "​",
      "style": "IPY_MODEL_cc375465047445e38500ccf2ba238b40",
      "value": " 291/291 [00:12&lt;00:00, 23.1B/s]"
     }
    },
    "755760eeac024e6ca29039af1f05f77c": {
     "model_module": "@jupyter-widgets/base",
     "model_name": "LayoutModel",
     "state": {
      "_model_module": "@jupyter-widgets/base",
      "_model_module_version": "1.2.0",
      "_model_name": "LayoutModel",
      "_view_count": null,
      "_view_module": "@jupyter-widgets/base",
      "_view_module_version": "1.2.0",
      "_view_name": "LayoutView",
      "align_content": null,
      "align_items": null,
      "align_self": null,
      "border": null,
      "bottom": null,
      "display": null,
      "flex": null,
      "flex_flow": null,
      "grid_area": null,
      "grid_auto_columns": null,
      "grid_auto_flow": null,
      "grid_auto_rows": null,
      "grid_column": null,
      "grid_gap": null,
      "grid_row": null,
      "grid_template_areas": null,
      "grid_template_columns": null,
      "grid_template_rows": null,
      "height": null,
      "justify_content": null,
      "justify_items": null,
      "left": null,
      "margin": null,
      "max_height": null,
      "max_width": null,
      "min_height": null,
      "min_width": null,
      "object_fit": null,
      "object_position": null,
      "order": null,
      "overflow": null,
      "overflow_x": null,
      "overflow_y": null,
      "padding": null,
      "right": null,
      "top": null,
      "visibility": null,
      "width": null
     }
    },
    "79f21b45a7fd49e88319c572eb6e1c41": {
     "model_module": "@jupyter-widgets/controls",
     "model_name": "ProgressStyleModel",
     "state": {
      "_model_module": "@jupyter-widgets/controls",
      "_model_module_version": "1.5.0",
      "_model_name": "ProgressStyleModel",
      "_view_count": null,
      "_view_module": "@jupyter-widgets/base",
      "_view_module_version": "1.2.0",
      "_view_name": "StyleView",
      "bar_color": null,
      "description_width": "initial"
     }
    },
    "7e3667ba5b2645e88421128496d40b98": {
     "model_module": "@jupyter-widgets/controls",
     "model_name": "ProgressStyleModel",
     "state": {
      "_model_module": "@jupyter-widgets/controls",
      "_model_module_version": "1.5.0",
      "_model_name": "ProgressStyleModel",
      "_view_count": null,
      "_view_module": "@jupyter-widgets/base",
      "_view_module_version": "1.2.0",
      "_view_name": "StyleView",
      "bar_color": null,
      "description_width": "initial"
     }
    },
    "82ba61a0b7a04dadbe9f71ee8ff503a1": {
     "model_module": "@jupyter-widgets/controls",
     "model_name": "DescriptionStyleModel",
     "state": {
      "_model_module": "@jupyter-widgets/controls",
      "_model_module_version": "1.5.0",
      "_model_name": "DescriptionStyleModel",
      "_view_count": null,
      "_view_module": "@jupyter-widgets/base",
      "_view_module_version": "1.2.0",
      "_view_name": "StyleView",
      "description_width": ""
     }
    },
    "897ae31183c849059f4f58963f5e38b7": {
     "model_module": "@jupyter-widgets/controls",
     "model_name": "HBoxModel",
     "state": {
      "_dom_classes": [],
      "_model_module": "@jupyter-widgets/controls",
      "_model_module_version": "1.5.0",
      "_model_name": "HBoxModel",
      "_view_count": null,
      "_view_module": "@jupyter-widgets/controls",
      "_view_module_version": "1.5.0",
      "_view_name": "HBoxView",
      "box_style": "",
      "children": [
       "IPY_MODEL_60a3d9d782c54c259498334fd066604d",
       "IPY_MODEL_20f5784e12914043b78897a60a64c35c"
      ],
      "layout": "IPY_MODEL_ceeef763bf3b4e1cad58c165de6c5864"
     }
    },
    "9621dbb893884a5f8083291267c994a5": {
     "model_module": "@jupyter-widgets/base",
     "model_name": "LayoutModel",
     "state": {
      "_model_module": "@jupyter-widgets/base",
      "_model_module_version": "1.2.0",
      "_model_name": "LayoutModel",
      "_view_count": null,
      "_view_module": "@jupyter-widgets/base",
      "_view_module_version": "1.2.0",
      "_view_name": "LayoutView",
      "align_content": null,
      "align_items": null,
      "align_self": null,
      "border": null,
      "bottom": null,
      "display": null,
      "flex": null,
      "flex_flow": null,
      "grid_area": null,
      "grid_auto_columns": null,
      "grid_auto_flow": null,
      "grid_auto_rows": null,
      "grid_column": null,
      "grid_gap": null,
      "grid_row": null,
      "grid_template_areas": null,
      "grid_template_columns": null,
      "grid_template_rows": null,
      "height": null,
      "justify_content": null,
      "justify_items": null,
      "left": null,
      "margin": null,
      "max_height": null,
      "max_width": null,
      "min_height": null,
      "min_width": null,
      "object_fit": null,
      "object_position": null,
      "order": null,
      "overflow": null,
      "overflow_x": null,
      "overflow_y": null,
      "padding": null,
      "right": null,
      "top": null,
      "visibility": null,
      "width": null
     }
    },
    "968692ef199a4687ac0a6045a480d631": {
     "model_module": "@jupyter-widgets/base",
     "model_name": "LayoutModel",
     "state": {
      "_model_module": "@jupyter-widgets/base",
      "_model_module_version": "1.2.0",
      "_model_name": "LayoutModel",
      "_view_count": null,
      "_view_module": "@jupyter-widgets/base",
      "_view_module_version": "1.2.0",
      "_view_name": "LayoutView",
      "align_content": null,
      "align_items": null,
      "align_self": null,
      "border": null,
      "bottom": null,
      "display": null,
      "flex": null,
      "flex_flow": null,
      "grid_area": null,
      "grid_auto_columns": null,
      "grid_auto_flow": null,
      "grid_auto_rows": null,
      "grid_column": null,
      "grid_gap": null,
      "grid_row": null,
      "grid_template_areas": null,
      "grid_template_columns": null,
      "grid_template_rows": null,
      "height": null,
      "justify_content": null,
      "justify_items": null,
      "left": null,
      "margin": null,
      "max_height": null,
      "max_width": null,
      "min_height": null,
      "min_width": null,
      "object_fit": null,
      "object_position": null,
      "order": null,
      "overflow": null,
      "overflow_x": null,
      "overflow_y": null,
      "padding": null,
      "right": null,
      "top": null,
      "visibility": null,
      "width": null
     }
    },
    "96f57ef9396a4ad08252d952057d693e": {
     "model_module": "@jupyter-widgets/controls",
     "model_name": "DescriptionStyleModel",
     "state": {
      "_model_module": "@jupyter-widgets/controls",
      "_model_module_version": "1.5.0",
      "_model_name": "DescriptionStyleModel",
      "_view_count": null,
      "_view_module": "@jupyter-widgets/base",
      "_view_module_version": "1.2.0",
      "_view_name": "StyleView",
      "description_width": ""
     }
    },
    "9862df8ae3914118bbf57a420576957c": {
     "model_module": "@jupyter-widgets/base",
     "model_name": "LayoutModel",
     "state": {
      "_model_module": "@jupyter-widgets/base",
      "_model_module_version": "1.2.0",
      "_model_name": "LayoutModel",
      "_view_count": null,
      "_view_module": "@jupyter-widgets/base",
      "_view_module_version": "1.2.0",
      "_view_name": "LayoutView",
      "align_content": null,
      "align_items": null,
      "align_self": null,
      "border": null,
      "bottom": null,
      "display": null,
      "flex": null,
      "flex_flow": null,
      "grid_area": null,
      "grid_auto_columns": null,
      "grid_auto_flow": null,
      "grid_auto_rows": null,
      "grid_column": null,
      "grid_gap": null,
      "grid_row": null,
      "grid_template_areas": null,
      "grid_template_columns": null,
      "grid_template_rows": null,
      "height": null,
      "justify_content": null,
      "justify_items": null,
      "left": null,
      "margin": null,
      "max_height": null,
      "max_width": null,
      "min_height": null,
      "min_width": null,
      "object_fit": null,
      "object_position": null,
      "order": null,
      "overflow": null,
      "overflow_x": null,
      "overflow_y": null,
      "padding": null,
      "right": null,
      "top": null,
      "visibility": null,
      "width": null
     }
    },
    "9eb642ac07e742c993d8ebfb217f0ded": {
     "model_module": "@jupyter-widgets/base",
     "model_name": "LayoutModel",
     "state": {
      "_model_module": "@jupyter-widgets/base",
      "_model_module_version": "1.2.0",
      "_model_name": "LayoutModel",
      "_view_count": null,
      "_view_module": "@jupyter-widgets/base",
      "_view_module_version": "1.2.0",
      "_view_name": "LayoutView",
      "align_content": null,
      "align_items": null,
      "align_self": null,
      "border": null,
      "bottom": null,
      "display": null,
      "flex": null,
      "flex_flow": null,
      "grid_area": null,
      "grid_auto_columns": null,
      "grid_auto_flow": null,
      "grid_auto_rows": null,
      "grid_column": null,
      "grid_gap": null,
      "grid_row": null,
      "grid_template_areas": null,
      "grid_template_columns": null,
      "grid_template_rows": null,
      "height": null,
      "justify_content": null,
      "justify_items": null,
      "left": null,
      "margin": null,
      "max_height": null,
      "max_width": null,
      "min_height": null,
      "min_width": null,
      "object_fit": null,
      "object_position": null,
      "order": null,
      "overflow": null,
      "overflow_x": null,
      "overflow_y": null,
      "padding": null,
      "right": null,
      "top": null,
      "visibility": null,
      "width": null
     }
    },
    "a2b63b98d10247f681b550a7666c92a8": {
     "model_module": "@jupyter-widgets/base",
     "model_name": "LayoutModel",
     "state": {
      "_model_module": "@jupyter-widgets/base",
      "_model_module_version": "1.2.0",
      "_model_name": "LayoutModel",
      "_view_count": null,
      "_view_module": "@jupyter-widgets/base",
      "_view_module_version": "1.2.0",
      "_view_name": "LayoutView",
      "align_content": null,
      "align_items": null,
      "align_self": null,
      "border": null,
      "bottom": null,
      "display": null,
      "flex": null,
      "flex_flow": null,
      "grid_area": null,
      "grid_auto_columns": null,
      "grid_auto_flow": null,
      "grid_auto_rows": null,
      "grid_column": null,
      "grid_gap": null,
      "grid_row": null,
      "grid_template_areas": null,
      "grid_template_columns": null,
      "grid_template_rows": null,
      "height": null,
      "justify_content": null,
      "justify_items": null,
      "left": null,
      "margin": null,
      "max_height": null,
      "max_width": null,
      "min_height": null,
      "min_width": null,
      "object_fit": null,
      "object_position": null,
      "order": null,
      "overflow": null,
      "overflow_x": null,
      "overflow_y": null,
      "padding": null,
      "right": null,
      "top": null,
      "visibility": null,
      "width": null
     }
    },
    "a7d91ab67e3f489aab078b5543860a4b": {
     "model_module": "@jupyter-widgets/base",
     "model_name": "LayoutModel",
     "state": {
      "_model_module": "@jupyter-widgets/base",
      "_model_module_version": "1.2.0",
      "_model_name": "LayoutModel",
      "_view_count": null,
      "_view_module": "@jupyter-widgets/base",
      "_view_module_version": "1.2.0",
      "_view_name": "LayoutView",
      "align_content": null,
      "align_items": null,
      "align_self": null,
      "border": null,
      "bottom": null,
      "display": null,
      "flex": null,
      "flex_flow": null,
      "grid_area": null,
      "grid_auto_columns": null,
      "grid_auto_flow": null,
      "grid_auto_rows": null,
      "grid_column": null,
      "grid_gap": null,
      "grid_row": null,
      "grid_template_areas": null,
      "grid_template_columns": null,
      "grid_template_rows": null,
      "height": null,
      "justify_content": null,
      "justify_items": null,
      "left": null,
      "margin": null,
      "max_height": null,
      "max_width": null,
      "min_height": null,
      "min_width": null,
      "object_fit": null,
      "object_position": null,
      "order": null,
      "overflow": null,
      "overflow_x": null,
      "overflow_y": null,
      "padding": null,
      "right": null,
      "top": null,
      "visibility": null,
      "width": null
     }
    },
    "a86482a372de4afeb84d3d5983798df3": {
     "model_module": "@jupyter-widgets/base",
     "model_name": "LayoutModel",
     "state": {
      "_model_module": "@jupyter-widgets/base",
      "_model_module_version": "1.2.0",
      "_model_name": "LayoutModel",
      "_view_count": null,
      "_view_module": "@jupyter-widgets/base",
      "_view_module_version": "1.2.0",
      "_view_name": "LayoutView",
      "align_content": null,
      "align_items": null,
      "align_self": null,
      "border": null,
      "bottom": null,
      "display": null,
      "flex": null,
      "flex_flow": null,
      "grid_area": null,
      "grid_auto_columns": null,
      "grid_auto_flow": null,
      "grid_auto_rows": null,
      "grid_column": null,
      "grid_gap": null,
      "grid_row": null,
      "grid_template_areas": null,
      "grid_template_columns": null,
      "grid_template_rows": null,
      "height": null,
      "justify_content": null,
      "justify_items": null,
      "left": null,
      "margin": null,
      "max_height": null,
      "max_width": null,
      "min_height": null,
      "min_width": null,
      "object_fit": null,
      "object_position": null,
      "order": null,
      "overflow": null,
      "overflow_x": null,
      "overflow_y": null,
      "padding": null,
      "right": null,
      "top": null,
      "visibility": null,
      "width": null
     }
    },
    "aeb0b22c88ba4e95809a5d63f897876a": {
     "model_module": "@jupyter-widgets/controls",
     "model_name": "HBoxModel",
     "state": {
      "_dom_classes": [],
      "_model_module": "@jupyter-widgets/controls",
      "_model_module_version": "1.5.0",
      "_model_name": "HBoxModel",
      "_view_count": null,
      "_view_module": "@jupyter-widgets/controls",
      "_view_module_version": "1.5.0",
      "_view_name": "HBoxView",
      "box_style": "",
      "children": [
       "IPY_MODEL_ede656dbf3214516b469310ed994582f",
       "IPY_MODEL_7104c2b1db494d47aca81316ce5a72f1"
      ],
      "layout": "IPY_MODEL_a2b63b98d10247f681b550a7666c92a8"
     }
    },
    "b0ccaec2afef4d5ea706b7ca24f15a20": {
     "model_module": "@jupyter-widgets/base",
     "model_name": "LayoutModel",
     "state": {
      "_model_module": "@jupyter-widgets/base",
      "_model_module_version": "1.2.0",
      "_model_name": "LayoutModel",
      "_view_count": null,
      "_view_module": "@jupyter-widgets/base",
      "_view_module_version": "1.2.0",
      "_view_name": "LayoutView",
      "align_content": null,
      "align_items": null,
      "align_self": null,
      "border": null,
      "bottom": null,
      "display": null,
      "flex": null,
      "flex_flow": null,
      "grid_area": null,
      "grid_auto_columns": null,
      "grid_auto_flow": null,
      "grid_auto_rows": null,
      "grid_column": null,
      "grid_gap": null,
      "grid_row": null,
      "grid_template_areas": null,
      "grid_template_columns": null,
      "grid_template_rows": null,
      "height": null,
      "justify_content": null,
      "justify_items": null,
      "left": null,
      "margin": null,
      "max_height": null,
      "max_width": null,
      "min_height": null,
      "min_width": null,
      "object_fit": null,
      "object_position": null,
      "order": null,
      "overflow": null,
      "overflow_x": null,
      "overflow_y": null,
      "padding": null,
      "right": null,
      "top": null,
      "visibility": null,
      "width": null
     }
    },
    "b89c51a478f7408bbfef23f0dffddb67": {
     "model_module": "@jupyter-widgets/controls",
     "model_name": "HTMLModel",
     "state": {
      "_dom_classes": [],
      "_model_module": "@jupyter-widgets/controls",
      "_model_module_version": "1.5.0",
      "_model_name": "HTMLModel",
      "_view_count": null,
      "_view_module": "@jupyter-widgets/controls",
      "_view_module_version": "1.5.0",
      "_view_name": "HTMLView",
      "description": "",
      "description_tooltip": null,
      "layout": "IPY_MODEL_308e1036af454eec9bf623c62db6f3ac",
      "placeholder": "​",
      "style": "IPY_MODEL_1a8acc4b6808442dad05aa6b63ddcfe8",
      "value": " 291/291 [00:00&lt;00:00, 3.27kB/s]"
     }
    },
    "b89f1fcdc8d14c1eb2ff634e153dfe91": {
     "model_module": "@jupyter-widgets/controls",
     "model_name": "ProgressStyleModel",
     "state": {
      "_model_module": "@jupyter-widgets/controls",
      "_model_module_version": "1.5.0",
      "_model_name": "ProgressStyleModel",
      "_view_count": null,
      "_view_module": "@jupyter-widgets/base",
      "_view_module_version": "1.2.0",
      "_view_name": "StyleView",
      "bar_color": null,
      "description_width": "initial"
     }
    },
    "b9d85a8c875a408ea5ecc38eeec79b1e": {
     "model_module": "@jupyter-widgets/base",
     "model_name": "LayoutModel",
     "state": {
      "_model_module": "@jupyter-widgets/base",
      "_model_module_version": "1.2.0",
      "_model_name": "LayoutModel",
      "_view_count": null,
      "_view_module": "@jupyter-widgets/base",
      "_view_module_version": "1.2.0",
      "_view_name": "LayoutView",
      "align_content": null,
      "align_items": null,
      "align_self": null,
      "border": null,
      "bottom": null,
      "display": null,
      "flex": null,
      "flex_flow": null,
      "grid_area": null,
      "grid_auto_columns": null,
      "grid_auto_flow": null,
      "grid_auto_rows": null,
      "grid_column": null,
      "grid_gap": null,
      "grid_row": null,
      "grid_template_areas": null,
      "grid_template_columns": null,
      "grid_template_rows": null,
      "height": null,
      "justify_content": null,
      "justify_items": null,
      "left": null,
      "margin": null,
      "max_height": null,
      "max_width": null,
      "min_height": null,
      "min_width": null,
      "object_fit": null,
      "object_position": null,
      "order": null,
      "overflow": null,
      "overflow_x": null,
      "overflow_y": null,
      "padding": null,
      "right": null,
      "top": null,
      "visibility": null,
      "width": null
     }
    },
    "ba7c63497d1b459f941292fd9e82fa88": {
     "model_module": "@jupyter-widgets/base",
     "model_name": "LayoutModel",
     "state": {
      "_model_module": "@jupyter-widgets/base",
      "_model_module_version": "1.2.0",
      "_model_name": "LayoutModel",
      "_view_count": null,
      "_view_module": "@jupyter-widgets/base",
      "_view_module_version": "1.2.0",
      "_view_name": "LayoutView",
      "align_content": null,
      "align_items": null,
      "align_self": null,
      "border": null,
      "bottom": null,
      "display": null,
      "flex": null,
      "flex_flow": null,
      "grid_area": null,
      "grid_auto_columns": null,
      "grid_auto_flow": null,
      "grid_auto_rows": null,
      "grid_column": null,
      "grid_gap": null,
      "grid_row": null,
      "grid_template_areas": null,
      "grid_template_columns": null,
      "grid_template_rows": null,
      "height": null,
      "justify_content": null,
      "justify_items": null,
      "left": null,
      "margin": null,
      "max_height": null,
      "max_width": null,
      "min_height": null,
      "min_width": null,
      "object_fit": null,
      "object_position": null,
      "order": null,
      "overflow": null,
      "overflow_x": null,
      "overflow_y": null,
      "padding": null,
      "right": null,
      "top": null,
      "visibility": null,
      "width": null
     }
    },
    "bc764adc0e914024ac97ec3b990af7de": {
     "model_module": "@jupyter-widgets/controls",
     "model_name": "FloatProgressModel",
     "state": {
      "_dom_classes": [],
      "_model_module": "@jupyter-widgets/controls",
      "_model_module_version": "1.5.0",
      "_model_name": "FloatProgressModel",
      "_view_count": null,
      "_view_module": "@jupyter-widgets/controls",
      "_view_module_version": "1.5.0",
      "_view_name": "ProgressView",
      "bar_style": "success",
      "description": "Downloading: 100%",
      "description_tooltip": null,
      "layout": "IPY_MODEL_9621dbb893884a5f8083291267c994a5",
      "max": 1262055246,
      "min": 0,
      "orientation": "horizontal",
      "style": "IPY_MODEL_c709ab22921043b1a8a67e7bff4d9ffb",
      "value": 1262055246
     }
    },
    "bc8acce587634bdaa10bced80b29b547": {
     "model_module": "@jupyter-widgets/base",
     "model_name": "LayoutModel",
     "state": {
      "_model_module": "@jupyter-widgets/base",
      "_model_module_version": "1.2.0",
      "_model_name": "LayoutModel",
      "_view_count": null,
      "_view_module": "@jupyter-widgets/base",
      "_view_module_version": "1.2.0",
      "_view_name": "LayoutView",
      "align_content": null,
      "align_items": null,
      "align_self": null,
      "border": null,
      "bottom": null,
      "display": null,
      "flex": null,
      "flex_flow": null,
      "grid_area": null,
      "grid_auto_columns": null,
      "grid_auto_flow": null,
      "grid_auto_rows": null,
      "grid_column": null,
      "grid_gap": null,
      "grid_row": null,
      "grid_template_areas": null,
      "grid_template_columns": null,
      "grid_template_rows": null,
      "height": null,
      "justify_content": null,
      "justify_items": null,
      "left": null,
      "margin": null,
      "max_height": null,
      "max_width": null,
      "min_height": null,
      "min_width": null,
      "object_fit": null,
      "object_position": null,
      "order": null,
      "overflow": null,
      "overflow_x": null,
      "overflow_y": null,
      "padding": null,
      "right": null,
      "top": null,
      "visibility": null,
      "width": null
     }
    },
    "c6839fb0b2d241c28f2b9616ba695986": {
     "model_module": "@jupyter-widgets/base",
     "model_name": "LayoutModel",
     "state": {
      "_model_module": "@jupyter-widgets/base",
      "_model_module_version": "1.2.0",
      "_model_name": "LayoutModel",
      "_view_count": null,
      "_view_module": "@jupyter-widgets/base",
      "_view_module_version": "1.2.0",
      "_view_name": "LayoutView",
      "align_content": null,
      "align_items": null,
      "align_self": null,
      "border": null,
      "bottom": null,
      "display": null,
      "flex": null,
      "flex_flow": null,
      "grid_area": null,
      "grid_auto_columns": null,
      "grid_auto_flow": null,
      "grid_auto_rows": null,
      "grid_column": null,
      "grid_gap": null,
      "grid_row": null,
      "grid_template_areas": null,
      "grid_template_columns": null,
      "grid_template_rows": null,
      "height": null,
      "justify_content": null,
      "justify_items": null,
      "left": null,
      "margin": null,
      "max_height": null,
      "max_width": null,
      "min_height": null,
      "min_width": null,
      "object_fit": null,
      "object_position": null,
      "order": null,
      "overflow": null,
      "overflow_x": null,
      "overflow_y": null,
      "padding": null,
      "right": null,
      "top": null,
      "visibility": null,
      "width": null
     }
    },
    "c709ab22921043b1a8a67e7bff4d9ffb": {
     "model_module": "@jupyter-widgets/controls",
     "model_name": "ProgressStyleModel",
     "state": {
      "_model_module": "@jupyter-widgets/controls",
      "_model_module_version": "1.5.0",
      "_model_name": "ProgressStyleModel",
      "_view_count": null,
      "_view_module": "@jupyter-widgets/base",
      "_view_module_version": "1.2.0",
      "_view_name": "StyleView",
      "bar_color": null,
      "description_width": "initial"
     }
    },
    "c7cb960cd41c46029d280b2153f426d4": {
     "model_module": "@jupyter-widgets/controls",
     "model_name": "HTMLModel",
     "state": {
      "_dom_classes": [],
      "_model_module": "@jupyter-widgets/controls",
      "_model_module_version": "1.5.0",
      "_model_name": "HTMLModel",
      "_view_count": null,
      "_view_module": "@jupyter-widgets/controls",
      "_view_module_version": "1.5.0",
      "_view_name": "HTMLView",
      "description": "",
      "description_tooltip": null,
      "layout": "IPY_MODEL_43591881e0eb492c9cbb0188c0d1423e",
      "placeholder": "​",
      "style": "IPY_MODEL_96f57ef9396a4ad08252d952057d693e",
      "value": " 842/842 [00:00&lt;00:00, 5.41kB/s]"
     }
    },
    "c876a9c55400411388ef450e3d148f96": {
     "model_module": "@jupyter-widgets/controls",
     "model_name": "DescriptionStyleModel",
     "state": {
      "_model_module": "@jupyter-widgets/controls",
      "_model_module_version": "1.5.0",
      "_model_name": "DescriptionStyleModel",
      "_view_count": null,
      "_view_module": "@jupyter-widgets/base",
      "_view_module_version": "1.2.0",
      "_view_name": "StyleView",
      "description_width": ""
     }
    },
    "c885ca701e3e4000b1d3c8b94f847384": {
     "model_module": "@jupyter-widgets/controls",
     "model_name": "HTMLModel",
     "state": {
      "_dom_classes": [],
      "_model_module": "@jupyter-widgets/controls",
      "_model_module_version": "1.5.0",
      "_model_name": "HTMLModel",
      "_view_count": null,
      "_view_module": "@jupyter-widgets/controls",
      "_view_module_version": "1.5.0",
      "_view_name": "HTMLView",
      "description": "",
      "description_tooltip": null,
      "layout": "IPY_MODEL_0122f444ba27489cb523a517735d9cc3",
      "placeholder": "​",
      "style": "IPY_MODEL_fa069c222da342428428ea1a9971a61b",
      "value": " 85.0/85.0 [00:00&lt;00:00, 334B/s]"
     }
    },
    "ca0ea777929c4a7a8b2e487fefd5ba0d": {
     "model_module": "@jupyter-widgets/controls",
     "model_name": "HBoxModel",
     "state": {
      "_dom_classes": [],
      "_model_module": "@jupyter-widgets/controls",
      "_model_module_version": "1.5.0",
      "_model_name": "HBoxModel",
      "_view_count": null,
      "_view_module": "@jupyter-widgets/controls",
      "_view_module_version": "1.5.0",
      "_view_name": "HBoxView",
      "box_style": "",
      "children": [
       "IPY_MODEL_df0c3b8ccce2465fa4f3721d28302acb",
       "IPY_MODEL_c7cb960cd41c46029d280b2153f426d4"
      ],
      "layout": "IPY_MODEL_968692ef199a4687ac0a6045a480d631"
     }
    },
    "cc375465047445e38500ccf2ba238b40": {
     "model_module": "@jupyter-widgets/controls",
     "model_name": "DescriptionStyleModel",
     "state": {
      "_model_module": "@jupyter-widgets/controls",
      "_model_module_version": "1.5.0",
      "_model_name": "DescriptionStyleModel",
      "_view_count": null,
      "_view_module": "@jupyter-widgets/base",
      "_view_module_version": "1.2.0",
      "_view_name": "StyleView",
      "description_width": ""
     }
    },
    "cc5ee38d1fc3487aab80649f50769ea5": {
     "model_module": "@jupyter-widgets/controls",
     "model_name": "DescriptionStyleModel",
     "state": {
      "_model_module": "@jupyter-widgets/controls",
      "_model_module_version": "1.5.0",
      "_model_name": "DescriptionStyleModel",
      "_view_count": null,
      "_view_module": "@jupyter-widgets/base",
      "_view_module_version": "1.2.0",
      "_view_name": "StyleView",
      "description_width": ""
     }
    },
    "cc7290bbc6eb41b68e630c9b16ab4935": {
     "model_module": "@jupyter-widgets/controls",
     "model_name": "FloatProgressModel",
     "state": {
      "_dom_classes": [],
      "_model_module": "@jupyter-widgets/controls",
      "_model_module_version": "1.5.0",
      "_model_name": "FloatProgressModel",
      "_view_count": null,
      "_view_module": "@jupyter-widgets/controls",
      "_view_module_version": "1.5.0",
      "_view_name": "ProgressView",
      "bar_style": "success",
      "description": "Downloading: 100%",
      "description_tooltip": null,
      "layout": "IPY_MODEL_11cb3df6627c4d79a3ae8e03de2a0e28",
      "max": 162,
      "min": 0,
      "orientation": "horizontal",
      "style": "IPY_MODEL_69a45010a2f64a6d9ba02a23ce71b0c8",
      "value": 162
     }
    },
    "ceeef763bf3b4e1cad58c165de6c5864": {
     "model_module": "@jupyter-widgets/base",
     "model_name": "LayoutModel",
     "state": {
      "_model_module": "@jupyter-widgets/base",
      "_model_module_version": "1.2.0",
      "_model_name": "LayoutModel",
      "_view_count": null,
      "_view_module": "@jupyter-widgets/base",
      "_view_module_version": "1.2.0",
      "_view_name": "LayoutView",
      "align_content": null,
      "align_items": null,
      "align_self": null,
      "border": null,
      "bottom": null,
      "display": null,
      "flex": null,
      "flex_flow": null,
      "grid_area": null,
      "grid_auto_columns": null,
      "grid_auto_flow": null,
      "grid_auto_rows": null,
      "grid_column": null,
      "grid_gap": null,
      "grid_row": null,
      "grid_template_areas": null,
      "grid_template_columns": null,
      "grid_template_rows": null,
      "height": null,
      "justify_content": null,
      "justify_items": null,
      "left": null,
      "margin": null,
      "max_height": null,
      "max_width": null,
      "min_height": null,
      "min_width": null,
      "object_fit": null,
      "object_position": null,
      "order": null,
      "overflow": null,
      "overflow_x": null,
      "overflow_y": null,
      "padding": null,
      "right": null,
      "top": null,
      "visibility": null,
      "width": null
     }
    },
    "d4883517733441358531fe05530b7281": {
     "model_module": "@jupyter-widgets/controls",
     "model_name": "FloatProgressModel",
     "state": {
      "_dom_classes": [],
      "_model_module": "@jupyter-widgets/controls",
      "_model_module_version": "1.5.0",
      "_model_name": "FloatProgressModel",
      "_view_count": null,
      "_view_module": "@jupyter-widgets/controls",
      "_view_module_version": "1.5.0",
      "_view_name": "ProgressView",
      "bar_style": "success",
      "description": "Downloading: 100%",
      "description_tooltip": null,
      "layout": "IPY_MODEL_0a1ec32bc3d9416ea78cd6ef2fbbbca2",
      "max": 291,
      "min": 0,
      "orientation": "horizontal",
      "style": "IPY_MODEL_09be73d5a90b41a7b93275dedd436fb6",
      "value": 291
     }
    },
    "d81e442f1e7f4c1e9bb6808a6cd1d4a0": {
     "model_module": "@jupyter-widgets/controls",
     "model_name": "DescriptionStyleModel",
     "state": {
      "_model_module": "@jupyter-widgets/controls",
      "_model_module_version": "1.5.0",
      "_model_name": "DescriptionStyleModel",
      "_view_count": null,
      "_view_module": "@jupyter-widgets/base",
      "_view_module_version": "1.2.0",
      "_view_name": "StyleView",
      "description_width": ""
     }
    },
    "d8de91d0bdbf40c49d35d6cdb5eaa185": {
     "model_module": "@jupyter-widgets/controls",
     "model_name": "ProgressStyleModel",
     "state": {
      "_model_module": "@jupyter-widgets/controls",
      "_model_module_version": "1.5.0",
      "_model_name": "ProgressStyleModel",
      "_view_count": null,
      "_view_module": "@jupyter-widgets/base",
      "_view_module_version": "1.2.0",
      "_view_name": "StyleView",
      "bar_color": null,
      "description_width": "initial"
     }
    },
    "db018ecec5074877bffe763fe680b45a": {
     "model_module": "@jupyter-widgets/base",
     "model_name": "LayoutModel",
     "state": {
      "_model_module": "@jupyter-widgets/base",
      "_model_module_version": "1.2.0",
      "_model_name": "LayoutModel",
      "_view_count": null,
      "_view_module": "@jupyter-widgets/base",
      "_view_module_version": "1.2.0",
      "_view_name": "LayoutView",
      "align_content": null,
      "align_items": null,
      "align_self": null,
      "border": null,
      "bottom": null,
      "display": null,
      "flex": null,
      "flex_flow": null,
      "grid_area": null,
      "grid_auto_columns": null,
      "grid_auto_flow": null,
      "grid_auto_rows": null,
      "grid_column": null,
      "grid_gap": null,
      "grid_row": null,
      "grid_template_areas": null,
      "grid_template_columns": null,
      "grid_template_rows": null,
      "height": null,
      "justify_content": null,
      "justify_items": null,
      "left": null,
      "margin": null,
      "max_height": null,
      "max_width": null,
      "min_height": null,
      "min_width": null,
      "object_fit": null,
      "object_position": null,
      "order": null,
      "overflow": null,
      "overflow_x": null,
      "overflow_y": null,
      "padding": null,
      "right": null,
      "top": null,
      "visibility": null,
      "width": null
     }
    },
    "df0c3b8ccce2465fa4f3721d28302acb": {
     "model_module": "@jupyter-widgets/controls",
     "model_name": "FloatProgressModel",
     "state": {
      "_dom_classes": [],
      "_model_module": "@jupyter-widgets/controls",
      "_model_module_version": "1.5.0",
      "_model_name": "FloatProgressModel",
      "_view_count": null,
      "_view_module": "@jupyter-widgets/controls",
      "_view_module_version": "1.5.0",
      "_view_name": "ProgressView",
      "bar_style": "success",
      "description": "Downloading: 100%",
      "description_tooltip": null,
      "layout": "IPY_MODEL_a86482a372de4afeb84d3d5983798df3",
      "max": 842,
      "min": 0,
      "orientation": "horizontal",
      "style": "IPY_MODEL_b89f1fcdc8d14c1eb2ff634e153dfe91",
      "value": 842
     }
    },
    "e3e39779f3e74fdb9ea5971d230b6a28": {
     "model_module": "@jupyter-widgets/controls",
     "model_name": "HBoxModel",
     "state": {
      "_dom_classes": [],
      "_model_module": "@jupyter-widgets/controls",
      "_model_module_version": "1.5.0",
      "_model_name": "HBoxModel",
      "_view_count": null,
      "_view_module": "@jupyter-widgets/controls",
      "_view_module_version": "1.5.0",
      "_view_name": "HBoxView",
      "box_style": "",
      "children": [
       "IPY_MODEL_bc764adc0e914024ac97ec3b990af7de",
       "IPY_MODEL_3d14d4e4317e4fa3b69d37a7b724587c"
      ],
      "layout": "IPY_MODEL_db018ecec5074877bffe763fe680b45a"
     }
    },
    "e84409fb5ebe4fe4939f424994617397": {
     "model_module": "@jupyter-widgets/controls",
     "model_name": "HBoxModel",
     "state": {
      "_dom_classes": [],
      "_model_module": "@jupyter-widgets/controls",
      "_model_module_version": "1.5.0",
      "_model_name": "HBoxModel",
      "_view_count": null,
      "_view_module": "@jupyter-widgets/controls",
      "_view_module_version": "1.5.0",
      "_view_name": "HBoxView",
      "box_style": "",
      "children": [
       "IPY_MODEL_f0d3906c374d46658cbf23eae99e6a73",
       "IPY_MODEL_3111078489f94be99c5c480767f4366e"
      ],
      "layout": "IPY_MODEL_755760eeac024e6ca29039af1f05f77c"
     }
    },
    "eaa0a6b4b3c14364bf3c3891e8c212d0": {
     "model_module": "@jupyter-widgets/controls",
     "model_name": "FloatProgressModel",
     "state": {
      "_dom_classes": [],
      "_model_module": "@jupyter-widgets/controls",
      "_model_module_version": "1.5.0",
      "_model_name": "FloatProgressModel",
      "_view_count": null,
      "_view_module": "@jupyter-widgets/controls",
      "_view_module_version": "1.5.0",
      "_view_name": "ProgressView",
      "bar_style": "success",
      "description": "Downloading: 100%",
      "description_tooltip": null,
      "layout": "IPY_MODEL_bc8acce587634bdaa10bced80b29b547",
      "max": 85,
      "min": 0,
      "orientation": "horizontal",
      "style": "IPY_MODEL_532d8a9d05904c609f025b0e058951a6",
      "value": 85
     }
    },
    "ede656dbf3214516b469310ed994582f": {
     "model_module": "@jupyter-widgets/controls",
     "model_name": "FloatProgressModel",
     "state": {
      "_dom_classes": [],
      "_model_module": "@jupyter-widgets/controls",
      "_model_module_version": "1.5.0",
      "_model_name": "FloatProgressModel",
      "_view_count": null,
      "_view_module": "@jupyter-widgets/controls",
      "_view_module_version": "1.5.0",
      "_view_name": "ProgressView",
      "bar_style": "success",
      "description": "Downloading: 100%",
      "description_tooltip": null,
      "layout": "IPY_MODEL_4db8d5cff3074892b103b65f23e79680",
      "max": 291,
      "min": 0,
      "orientation": "horizontal",
      "style": "IPY_MODEL_7e3667ba5b2645e88421128496d40b98",
      "value": 291
     }
    },
    "f0628091c10941998e94859e01bb0d49": {
     "model_module": "@jupyter-widgets/base",
     "model_name": "LayoutModel",
     "state": {
      "_model_module": "@jupyter-widgets/base",
      "_model_module_version": "1.2.0",
      "_model_name": "LayoutModel",
      "_view_count": null,
      "_view_module": "@jupyter-widgets/base",
      "_view_module_version": "1.2.0",
      "_view_name": "LayoutView",
      "align_content": null,
      "align_items": null,
      "align_self": null,
      "border": null,
      "bottom": null,
      "display": null,
      "flex": null,
      "flex_flow": null,
      "grid_area": null,
      "grid_auto_columns": null,
      "grid_auto_flow": null,
      "grid_auto_rows": null,
      "grid_column": null,
      "grid_gap": null,
      "grid_row": null,
      "grid_template_areas": null,
      "grid_template_columns": null,
      "grid_template_rows": null,
      "height": null,
      "justify_content": null,
      "justify_items": null,
      "left": null,
      "margin": null,
      "max_height": null,
      "max_width": null,
      "min_height": null,
      "min_width": null,
      "object_fit": null,
      "object_position": null,
      "order": null,
      "overflow": null,
      "overflow_x": null,
      "overflow_y": null,
      "padding": null,
      "right": null,
      "top": null,
      "visibility": null,
      "width": null
     }
    },
    "f0d3906c374d46658cbf23eae99e6a73": {
     "model_module": "@jupyter-widgets/controls",
     "model_name": "FloatProgressModel",
     "state": {
      "_dom_classes": [],
      "_model_module": "@jupyter-widgets/controls",
      "_model_module_version": "1.5.0",
      "_model_name": "FloatProgressModel",
      "_view_count": null,
      "_view_module": "@jupyter-widgets/controls",
      "_view_module_version": "1.5.0",
      "_view_name": "ProgressView",
      "bar_style": "success",
      "description": "Downloading: 100%",
      "description_tooltip": null,
      "layout": "IPY_MODEL_f0628091c10941998e94859e01bb0d49",
      "max": 85,
      "min": 0,
      "orientation": "horizontal",
      "style": "IPY_MODEL_d8de91d0bdbf40c49d35d6cdb5eaa185",
      "value": 85
     }
    },
    "fa069c222da342428428ea1a9971a61b": {
     "model_module": "@jupyter-widgets/controls",
     "model_name": "DescriptionStyleModel",
     "state": {
      "_model_module": "@jupyter-widgets/controls",
      "_model_module_version": "1.5.0",
      "_model_name": "DescriptionStyleModel",
      "_view_count": null,
      "_view_module": "@jupyter-widgets/base",
      "_view_module_version": "1.2.0",
      "_view_name": "StyleView",
      "description_width": ""
     }
    },
    "fa5ae3acf6764c128fd71adca0eda77b": {
     "model_module": "@jupyter-widgets/controls",
     "model_name": "HTMLModel",
     "state": {
      "_dom_classes": [],
      "_model_module": "@jupyter-widgets/controls",
      "_model_module_version": "1.5.0",
      "_model_name": "HTMLModel",
      "_view_count": null,
      "_view_module": "@jupyter-widgets/controls",
      "_view_module_version": "1.5.0",
      "_view_name": "HTMLView",
      "description": "",
      "description_tooltip": null,
      "layout": "IPY_MODEL_36f48c2c97934d81aebc2fa4147c420f",
      "placeholder": "​",
      "style": "IPY_MODEL_20739f5423df4a2a94cdb5e30bc9e31f",
      "value": " 843/843 [00:00&lt;00:00, 2.73kB/s]"
     }
    },
    "fbdb2b27076040b1b3af90c0855cd57e": {
     "model_module": "@jupyter-widgets/controls",
     "model_name": "ProgressStyleModel",
     "state": {
      "_model_module": "@jupyter-widgets/controls",
      "_model_module_version": "1.5.0",
      "_model_name": "ProgressStyleModel",
      "_view_count": null,
      "_view_module": "@jupyter-widgets/base",
      "_view_module_version": "1.2.0",
      "_view_name": "StyleView",
      "bar_color": null,
      "description_width": "initial"
     }
    }
   }
  }
 },
 "nbformat": 4,
 "nbformat_minor": 5
}
